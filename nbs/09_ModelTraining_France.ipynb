{
 "cells": [
  {
   "cell_type": "markdown",
   "id": "d003bde1-3fa5-40f3-82c5-500c83f7743c",
   "metadata": {},
   "source": [
    "# Planetary Training"
   ]
  },
  {
   "cell_type": "markdown",
   "id": "fc880c3c",
   "metadata": {},
   "source": [
    "OBS: This notebook is for running in the MSPC only!!!!"
   ]
  },
  {
   "cell_type": "code",
   "execution_count": 2,
   "id": "d36f1de3-3afb-434e-b21e-1e7550ec1b29",
   "metadata": {},
   "outputs": [],
   "source": [
    "%load_ext autoreload\n",
    "%autoreload 2\n",
    "\n",
    "import importlib    \n",
    "\n",
    "# check if it is using CPU or GPU\n",
    "# First the CPU version\n",
    "if importlib.util.find_spec('torch') is None:\n",
    "    %pip install --quiet torch torchvision --extra-index-url https://download.pytorch.org/whl/cpu\n",
    "    \n",
    "if importlib.util.find_spec('fastai') is None:\n",
    "    # Then install fastai from code\n",
    "    !cd /tmp; git clone https://github.com/fastai/fastai -q\n",
    "    %pip -q install -e /tmp/fastai \n",
    "    \n",
    "# Install WaterNet\n",
    "if importlib.util.find_spec('waternet') is None:\n",
    "    %pip install -e /home/jovyan/projects/WaterNet/\n",
    "    \n",
    "from waternet.wndataset import WNDataSet\n",
    "from fastai.vision.all import *\n",
    "\n"
   ]
  },
  {
   "cell_type": "markdown",
   "id": "4b54a6fe",
   "metadata": {},
   "source": [
    "### Creating the Datasets"
   ]
  },
  {
   "cell_type": "code",
   "execution_count": 3,
   "id": "d688c028-74f3-4ac2-8c21-b99f1f9cdf75",
   "metadata": {},
   "outputs": [],
   "source": [
    "from waternet.wnbaseimage import WNBaseImage\n",
    "from waternet.wnstacimage import WNStacImage\n",
    "from waternet.wnsegmantationitem import WNSegmentationItem\n",
    "from pathlib import Path"
   ]
  },
  {
   "cell_type": "code",
   "execution_count": 18,
   "id": "a4e3310c-433c-4cb9-9c78-4ba3246b76b6",
   "metadata": {},
   "outputs": [],
   "source": [
    "masks_path = '/home/jovyan/masks/france'\n",
    "training_bands = ['B04', 'B03', 'B02', 'B08', 'B11', 'B12']\n",
    "shape=(5490, 5490)\n",
    "patch_size=(512, 512)\n",
    "step=262\n",
    "\n",
    "# masks_path='d:/temp/22KEV/'"
   ]
  },
  {
   "cell_type": "code",
   "execution_count": 19,
   "id": "eaf108d3-187b-4bfa-b5a3-7fea96ba74b6",
   "metadata": {},
   "outputs": [],
   "source": [
    "# first, let's load the Bordeaux mask manually\n",
    "mask = WNBaseImage(Path(masks_path)/'T30TXQ_20180911_Bordeaux_summer.tif', shape=shape)"
   ]
  },
  {
   "cell_type": "code",
   "execution_count": 20,
   "id": "56489018-5409-4956-9eca-4603366f6e72",
   "metadata": {},
   "outputs": [],
   "source": [
    "# now, let's load the image\n",
    "img = WNStacImage.from_tile(tile='30TXQ', str_date='2018-09-11', shape=shape)"
   ]
  },
  {
   "cell_type": "code",
   "execution_count": 21,
   "id": "a60d5598-962a-47de-9678-4ab51e1b4a73",
   "metadata": {},
   "outputs": [],
   "source": [
    "segitem = WNSegmentationItem(img=img, mask=mask, patch_size=patch_size, step=step)"
   ]
  },
  {
   "cell_type": "code",
   "execution_count": 22,
   "id": "01b58244-c4f2-47f2-9277-dfeabf704885",
   "metadata": {},
   "outputs": [
    {
     "data": {
      "text/plain": [
       "WNDataset instance with 1 images\n",
       "Loaded: 0 items\n",
       "Empty: 1 items\n",
       "Loading: 0 items"
      ]
     },
     "execution_count": 22,
     "metadata": {},
     "output_type": "execute_result"
    }
   ],
   "source": [
    "train_ds = WNDataSet(items=[segitem])\n",
    "train_ds"
   ]
  },
  {
   "cell_type": "markdown",
   "id": "33f86ae3-accb-4067-9d47-40b594af2972",
   "metadata": {},
   "source": [
    "### Creating the Validation Dataset"
   ]
  },
  {
   "cell_type": "code",
   "execution_count": 23,
   "id": "4bdfc72a-1c3e-4948-a9fd-528e3a9e317f",
   "metadata": {},
   "outputs": [],
   "source": [
    "# first, let's load the Bordeaux mask manually\n",
    "valid_mask = WNBaseImage(Path(masks_path)/'T30TXQ_20190223_Bordeaux_winter.tif', shape=shape)"
   ]
  },
  {
   "cell_type": "code",
   "execution_count": 24,
   "id": "3f5c2a43-9d5b-4c5e-951c-c37dee03a548",
   "metadata": {},
   "outputs": [],
   "source": [
    "# now, let's load the image\n",
    "valid_img = WNStacImage.from_tile(tile='30TXQ', str_date='2019-02-23', shape=shape)"
   ]
  },
  {
   "cell_type": "code",
   "execution_count": 25,
   "id": "bd2d70cf-b0d9-44e6-81b7-afedbaa48b7e",
   "metadata": {},
   "outputs": [],
   "source": [
    "valid_segitem = WNSegmentationItem(img=valid_img, mask=valid_mask, patch_size=patch_size, step=step)"
   ]
  },
  {
   "cell_type": "code",
   "execution_count": 26,
   "id": "f9ad6a9a-8fae-476c-b62f-a63f7fc0af78",
   "metadata": {},
   "outputs": [
    {
     "data": {
      "text/plain": [
       "WNDataset instance with 1 images\n",
       "Loaded: 0 items\n",
       "Empty: 1 items\n",
       "Loading: 0 items"
      ]
     },
     "execution_count": 26,
     "metadata": {},
     "output_type": "execute_result"
    }
   ],
   "source": [
    "valid_ds = WNDataSet(items=[valid_segitem])\n",
    "valid_ds"
   ]
  },
  {
   "cell_type": "markdown",
   "id": "1299a5e9-3ff7-4414-8856-ee0930d60507",
   "metadata": {},
   "source": [
    "### Creating the DataLoader"
   ]
  },
  {
   "cell_type": "code",
   "execution_count": 27,
   "id": "9688a3d1-098f-4811-a873-b71997161c35",
   "metadata": {},
   "outputs": [],
   "source": [
    "train_ds.bands = training_bands\n",
    "valid_ds.bands = training_bands"
   ]
  },
  {
   "cell_type": "markdown",
   "id": "3fc2874c",
   "metadata": {},
   "source": [
    "### Creating Dataloaders"
   ]
  },
  {
   "cell_type": "code",
   "execution_count": 28,
   "id": "46184e42",
   "metadata": {},
   "outputs": [],
   "source": [
    "# Create two dataloaders (for training and validation)\n",
    "# Put it in the GPU\n",
    "dls = DataLoaders(\n",
    "    DataLoader(train_ds, bs=8),\n",
    "    DataLoader(valid_ds, bs=8)\n",
    ").cuda()"
   ]
  },
  {
   "cell_type": "code",
   "execution_count": 29,
   "id": "a5017b54",
   "metadata": {},
   "outputs": [],
   "source": [
    "# m, t = dls.valid.one_batch()\n",
    "# m.device"
   ]
  },
  {
   "cell_type": "code",
   "execution_count": 30,
   "id": "6007071f",
   "metadata": {},
   "outputs": [],
   "source": [
    "# dls.train.one_batch()[0].shape"
   ]
  },
  {
   "cell_type": "markdown",
   "id": "b584777c",
   "metadata": {},
   "source": [
    "### Creating the Learner"
   ]
  },
  {
   "cell_type": "code",
   "execution_count": 32,
   "id": "da512a83-26d4-4c58-b8df-ff5416999114",
   "metadata": {},
   "outputs": [
    {
     "name": "stderr",
     "output_type": "stream",
     "text": [
      "/srv/conda/envs/notebook/lib/python3.9/site-packages/torchvision/models/_utils.py:223: UserWarning: Arguments other than a weight enum or `None` for 'weights' are deprecated since 0.13 and will be removed in 0.15. The current behavior is equivalent to passing `weights=ResNet18_Weights.IMAGENET1K_V1`. You can also use `weights=ResNet18_Weights.DEFAULT` to get the most up-to-date weights.\n",
      "  warnings.warn(msg)\n"
     ]
    }
   ],
   "source": [
    "learner = unet_learner(\n",
    "    dls, arch=resnet18, pretrained=True, normalize=False, n_in=6, n_out=3, loss_func=CrossEntropyLossFlat(axis=1)\n",
    ")"
   ]
  },
  {
   "cell_type": "code",
   "execution_count": 33,
   "id": "c865ffe2-4ad9-4fe4-a6f8-40e50192c357",
   "metadata": {},
   "outputs": [],
   "source": [
    "# learner.load('Resnet18-6chnls-France-2')"
   ]
  },
  {
   "cell_type": "code",
   "execution_count": 34,
   "id": "11797585-b802-48a8-b38c-3766d2cd2ecc",
   "metadata": {},
   "outputs": [],
   "source": [
    "cuda_model = learner.cuda()"
   ]
  },
  {
   "cell_type": "markdown",
   "id": "d7a63d89",
   "metadata": {},
   "source": [
    "### Checking model and predictions"
   ]
  },
  {
   "cell_type": "code",
   "execution_count": 35,
   "id": "4319b533-706b-459e-a4ed-fe54ac7d3fa4",
   "metadata": {},
   "outputs": [],
   "source": [
    "learner.unfreeze()"
   ]
  },
  {
   "cell_type": "code",
   "execution_count": 20,
   "id": "b50329cd",
   "metadata": {
    "tags": []
   },
   "outputs": [],
   "source": [
    "# learner.summary()"
   ]
  },
  {
   "cell_type": "code",
   "execution_count": 21,
   "id": "bb912cc6",
   "metadata": {},
   "outputs": [],
   "source": [
    "# batch, target = dls.train.one_batch()\n",
    "# print(batch.shape, target.shape)"
   ]
  },
  {
   "cell_type": "code",
   "execution_count": 22,
   "id": "2bb0a04e",
   "metadata": {},
   "outputs": [],
   "source": [
    "# Calculate the predictions for the 4 patches (1 batch)\n",
    "# pred = learner.model(batch)\n",
    "# pred.shape"
   ]
  },
  {
   "cell_type": "code",
   "execution_count": 23,
   "id": "bdf642d7",
   "metadata": {},
   "outputs": [],
   "source": [
    "# CrossEntropyLossFlat(axis=1)(pred, target)"
   ]
  },
  {
   "cell_type": "markdown",
   "id": "dedade94",
   "metadata": {},
   "source": [
    "### Running LrFind"
   ]
  },
  {
   "cell_type": "markdown",
   "id": "6d8555a2",
   "metadata": {},
   "source": [
    "Up to now, evertying was done in the CPU, but to run large amounts, it is necessary to load the data in the Cuda device. For that we will put them in the GPU and find the best learning rate."
   ]
  },
  {
   "cell_type": "code",
   "execution_count": 43,
   "id": "c2f5848d-3ca7-463f-8e4f-46d4335a1045",
   "metadata": {},
   "outputs": [],
   "source": [
    "# learner.lr_find()"
   ]
  },
  {
   "cell_type": "code",
   "execution_count": 38,
   "id": "6cf7e546",
   "metadata": {},
   "outputs": [
    {
     "data": {
      "text/html": [
       "\n",
       "<style>\n",
       "    /* Turns off some styling */\n",
       "    progress {\n",
       "        /* gets rid of default border in Firefox and Opera. */\n",
       "        border: none;\n",
       "        /* Needs to be in here for Safari polyfill so background images work as expected. */\n",
       "        background-size: auto;\n",
       "    }\n",
       "    progress:not([value]), progress:not([value])::-webkit-progress-bar {\n",
       "        background: repeating-linear-gradient(45deg, #7e7e7e, #7e7e7e 10px, #5c5c5c 10px, #5c5c5c 20px);\n",
       "    }\n",
       "    .progress-bar-interrupted, .progress-bar-interrupted::-webkit-progress-bar {\n",
       "        background: #F44336;\n",
       "    }\n",
       "</style>\n"
      ],
      "text/plain": [
       "<IPython.core.display.HTML object>"
      ]
     },
     "metadata": {},
     "output_type": "display_data"
    },
    {
     "data": {
      "text/html": [
       "<table border=\"1\" class=\"dataframe\">\n",
       "  <thead>\n",
       "    <tr style=\"text-align: left;\">\n",
       "      <th>epoch</th>\n",
       "      <th>train_loss</th>\n",
       "      <th>valid_loss</th>\n",
       "      <th>time</th>\n",
       "    </tr>\n",
       "  </thead>\n",
       "  <tbody>\n",
       "    <tr>\n",
       "      <td>0</td>\n",
       "      <td>0.482301</td>\n",
       "      <td>0.310339</td>\n",
       "      <td>01:38</td>\n",
       "    </tr>\n",
       "    <tr>\n",
       "      <td>1</td>\n",
       "      <td>0.558546</td>\n",
       "      <td>0.259914</td>\n",
       "      <td>01:32</td>\n",
       "    </tr>\n",
       "    <tr>\n",
       "      <td>2</td>\n",
       "      <td>0.755606</td>\n",
       "      <td>0.388923</td>\n",
       "      <td>01:32</td>\n",
       "    </tr>\n",
       "    <tr>\n",
       "      <td>3</td>\n",
       "      <td>0.492829</td>\n",
       "      <td>0.141602</td>\n",
       "      <td>01:33</td>\n",
       "    </tr>\n",
       "    <tr>\n",
       "      <td>4</td>\n",
       "      <td>0.266383</td>\n",
       "      <td>0.184377</td>\n",
       "      <td>01:32</td>\n",
       "    </tr>\n",
       "    <tr>\n",
       "      <td>5</td>\n",
       "      <td>0.152248</td>\n",
       "      <td>0.529636</td>\n",
       "      <td>01:32</td>\n",
       "    </tr>\n",
       "    <tr>\n",
       "      <td>6</td>\n",
       "      <td>0.104152</td>\n",
       "      <td>0.578665</td>\n",
       "      <td>01:32</td>\n",
       "    </tr>\n",
       "    <tr>\n",
       "      <td>7</td>\n",
       "      <td>0.074611</td>\n",
       "      <td>0.204482</td>\n",
       "      <td>01:32</td>\n",
       "    </tr>\n",
       "    <tr>\n",
       "      <td>8</td>\n",
       "      <td>0.060874</td>\n",
       "      <td>0.264799</td>\n",
       "      <td>01:32</td>\n",
       "    </tr>\n",
       "    <tr>\n",
       "      <td>9</td>\n",
       "      <td>0.048816</td>\n",
       "      <td>0.253057</td>\n",
       "      <td>01:32</td>\n",
       "    </tr>\n",
       "  </tbody>\n",
       "</table>"
      ],
      "text/plain": [
       "<IPython.core.display.HTML object>"
      ]
     },
     "metadata": {},
     "output_type": "display_data"
    }
   ],
   "source": [
    "learner.fit_one_cycle(10, lr_max=slice(1e-6, 5e-4), wd=0.01)"
   ]
  },
  {
   "cell_type": "code",
   "execution_count": 39,
   "id": "5688945d",
   "metadata": {},
   "outputs": [
    {
     "data": {
      "text/plain": [
       "Path('models/Resnet18-6chnls-France-1.pth')"
      ]
     },
     "execution_count": 39,
     "metadata": {},
     "output_type": "execute_result"
    }
   ],
   "source": [
    "learner.save('Resnet18-6chnls-France-1')"
   ]
  },
  {
   "cell_type": "code",
   "execution_count": 40,
   "id": "87035cce-11e5-4ccf-a9f5-0e63031f730a",
   "metadata": {},
   "outputs": [
    {
     "data": {
      "text/html": [
       "\n",
       "<style>\n",
       "    /* Turns off some styling */\n",
       "    progress {\n",
       "        /* gets rid of default border in Firefox and Opera. */\n",
       "        border: none;\n",
       "        /* Needs to be in here for Safari polyfill so background images work as expected. */\n",
       "        background-size: auto;\n",
       "    }\n",
       "    progress:not([value]), progress:not([value])::-webkit-progress-bar {\n",
       "        background: repeating-linear-gradient(45deg, #7e7e7e, #7e7e7e 10px, #5c5c5c 10px, #5c5c5c 20px);\n",
       "    }\n",
       "    .progress-bar-interrupted, .progress-bar-interrupted::-webkit-progress-bar {\n",
       "        background: #F44336;\n",
       "    }\n",
       "</style>\n"
      ],
      "text/plain": [
       "<IPython.core.display.HTML object>"
      ]
     },
     "metadata": {},
     "output_type": "display_data"
    },
    {
     "data": {
      "text/html": [
       "<table border=\"1\" class=\"dataframe\">\n",
       "  <thead>\n",
       "    <tr style=\"text-align: left;\">\n",
       "      <th>epoch</th>\n",
       "      <th>train_loss</th>\n",
       "      <th>valid_loss</th>\n",
       "      <th>time</th>\n",
       "    </tr>\n",
       "  </thead>\n",
       "  <tbody>\n",
       "    <tr>\n",
       "      <td>0</td>\n",
       "      <td>0.041191</td>\n",
       "      <td>0.254853</td>\n",
       "      <td>01:32</td>\n",
       "    </tr>\n",
       "    <tr>\n",
       "      <td>1</td>\n",
       "      <td>0.041116</td>\n",
       "      <td>0.264444</td>\n",
       "      <td>01:32</td>\n",
       "    </tr>\n",
       "    <tr>\n",
       "      <td>2</td>\n",
       "      <td>0.040149</td>\n",
       "      <td>0.276989</td>\n",
       "      <td>01:33</td>\n",
       "    </tr>\n",
       "    <tr>\n",
       "      <td>3</td>\n",
       "      <td>0.038090</td>\n",
       "      <td>0.286266</td>\n",
       "      <td>01:32</td>\n",
       "    </tr>\n",
       "    <tr>\n",
       "      <td>4</td>\n",
       "      <td>0.035826</td>\n",
       "      <td>0.291641</td>\n",
       "      <td>01:32</td>\n",
       "    </tr>\n",
       "    <tr>\n",
       "      <td>5</td>\n",
       "      <td>0.033704</td>\n",
       "      <td>0.293217</td>\n",
       "      <td>01:32</td>\n",
       "    </tr>\n",
       "    <tr>\n",
       "      <td>6</td>\n",
       "      <td>0.031883</td>\n",
       "      <td>0.292615</td>\n",
       "      <td>01:32</td>\n",
       "    </tr>\n",
       "    <tr>\n",
       "      <td>7</td>\n",
       "      <td>0.030488</td>\n",
       "      <td>0.291750</td>\n",
       "      <td>01:32</td>\n",
       "    </tr>\n",
       "    <tr>\n",
       "      <td>8</td>\n",
       "      <td>0.029586</td>\n",
       "      <td>0.291421</td>\n",
       "      <td>01:32</td>\n",
       "    </tr>\n",
       "    <tr>\n",
       "      <td>9</td>\n",
       "      <td>0.029119</td>\n",
       "      <td>0.291379</td>\n",
       "      <td>01:33</td>\n",
       "    </tr>\n",
       "  </tbody>\n",
       "</table>"
      ],
      "text/plain": [
       "<IPython.core.display.HTML object>"
      ]
     },
     "metadata": {},
     "output_type": "display_data"
    }
   ],
   "source": [
    "learner.fit_one_cycle(10, lr_max=slice(1e-6, 1e-5), wd=0.02)"
   ]
  },
  {
   "cell_type": "code",
   "execution_count": 41,
   "id": "383bdaae-f0b9-46d1-9bd3-e66b199a009d",
   "metadata": {},
   "outputs": [
    {
     "data": {
      "text/plain": [
       "Path('models/Resnet18-6chnls-France-2.pth')"
      ]
     },
     "execution_count": 41,
     "metadata": {},
     "output_type": "execute_result"
    }
   ],
   "source": [
    "learner.save('Resnet18-6chnls-France-2')"
   ]
  },
  {
   "cell_type": "code",
   "execution_count": 44,
   "id": "c85c9ea2-5cd2-4cef-b041-44b71c428350",
   "metadata": {},
   "outputs": [
    {
     "data": {
      "text/html": [
       "\n",
       "<style>\n",
       "    /* Turns off some styling */\n",
       "    progress {\n",
       "        /* gets rid of default border in Firefox and Opera. */\n",
       "        border: none;\n",
       "        /* Needs to be in here for Safari polyfill so background images work as expected. */\n",
       "        background-size: auto;\n",
       "    }\n",
       "    progress:not([value]), progress:not([value])::-webkit-progress-bar {\n",
       "        background: repeating-linear-gradient(45deg, #7e7e7e, #7e7e7e 10px, #5c5c5c 10px, #5c5c5c 20px);\n",
       "    }\n",
       "    .progress-bar-interrupted, .progress-bar-interrupted::-webkit-progress-bar {\n",
       "        background: #F44336;\n",
       "    }\n",
       "</style>\n"
      ],
      "text/plain": [
       "<IPython.core.display.HTML object>"
      ]
     },
     "metadata": {},
     "output_type": "display_data"
    },
    {
     "data": {
      "text/html": [
       "<table border=\"1\" class=\"dataframe\">\n",
       "  <thead>\n",
       "    <tr style=\"text-align: left;\">\n",
       "      <th>epoch</th>\n",
       "      <th>train_loss</th>\n",
       "      <th>valid_loss</th>\n",
       "      <th>time</th>\n",
       "    </tr>\n",
       "  </thead>\n",
       "  <tbody>\n",
       "    <tr>\n",
       "      <td>0</td>\n",
       "      <td>0.028856</td>\n",
       "      <td>0.312829</td>\n",
       "      <td>01:28</td>\n",
       "    </tr>\n",
       "    <tr>\n",
       "      <td>1</td>\n",
       "      <td>0.029456</td>\n",
       "      <td>1.315528</td>\n",
       "      <td>01:31</td>\n",
       "    </tr>\n",
       "    <tr>\n",
       "      <td>2</td>\n",
       "      <td>0.030989</td>\n",
       "      <td>1.008907</td>\n",
       "      <td>01:32</td>\n",
       "    </tr>\n",
       "    <tr>\n",
       "      <td>3</td>\n",
       "      <td>0.031287</td>\n",
       "      <td>0.999674</td>\n",
       "      <td>01:32</td>\n",
       "    </tr>\n",
       "    <tr>\n",
       "      <td>4</td>\n",
       "      <td>0.031643</td>\n",
       "      <td>0.918555</td>\n",
       "      <td>01:32</td>\n",
       "    </tr>\n",
       "    <tr>\n",
       "      <td>5</td>\n",
       "      <td>0.027432</td>\n",
       "      <td>0.785387</td>\n",
       "      <td>01:32</td>\n",
       "    </tr>\n",
       "    <tr>\n",
       "      <td>6</td>\n",
       "      <td>0.023587</td>\n",
       "      <td>0.486750</td>\n",
       "      <td>01:33</td>\n",
       "    </tr>\n",
       "    <tr>\n",
       "      <td>7</td>\n",
       "      <td>0.022026</td>\n",
       "      <td>0.462193</td>\n",
       "      <td>01:33</td>\n",
       "    </tr>\n",
       "    <tr>\n",
       "      <td>8</td>\n",
       "      <td>0.017639</td>\n",
       "      <td>0.446406</td>\n",
       "      <td>01:33</td>\n",
       "    </tr>\n",
       "    <tr>\n",
       "      <td>9</td>\n",
       "      <td>0.015429</td>\n",
       "      <td>0.445930</td>\n",
       "      <td>01:32</td>\n",
       "    </tr>\n",
       "  </tbody>\n",
       "</table>"
      ],
      "text/plain": [
       "<IPython.core.display.HTML object>"
      ]
     },
     "metadata": {},
     "output_type": "display_data"
    }
   ],
   "source": [
    "learner.fit_one_cycle(10, lr_max=slice(1e-5, 1e-4), wd=0.02)"
   ]
  },
  {
   "cell_type": "code",
   "execution_count": 45,
   "id": "febc0acb-a39d-4636-90c2-eb296f26889c",
   "metadata": {},
   "outputs": [
    {
     "data": {
      "text/plain": [
       "Path('models/Resnet18-6chnls-France-3.pth')"
      ]
     },
     "execution_count": 45,
     "metadata": {},
     "output_type": "execute_result"
    }
   ],
   "source": [
    "learner.save('Resnet18-6chnls-France-3')"
   ]
  },
  {
   "cell_type": "code",
   "execution_count": null,
   "id": "28dc71e7",
   "metadata": {},
   "outputs": [],
   "source": [
    "learner.model_dir"
   ]
  },
  {
   "cell_type": "markdown",
   "id": "76552f92",
   "metadata": {},
   "source": [
    "### Como ver os resultados???"
   ]
  },
  {
   "cell_type": "code",
   "execution_count": null,
   "id": "8b78156b",
   "metadata": {},
   "outputs": [],
   "source": [
    "from waternet.wnvisualizer import WNVisualizer"
   ]
  },
  {
   "cell_type": "code",
   "execution_count": null,
   "id": "b6b59e48-2c30-4ae3-b92e-a70030acba17",
   "metadata": {},
   "outputs": [],
   "source": [
    "learner = unet_learner(\n",
    "    dls, arch=resnet18, pretrained=False, normalize=False, n_in=6, n_out=3, loss_func=CrossEntropyLossFlat(axis=1)\n",
    ")\n",
    "learner.load('Resnet18-6chnls-untrained')\n",
    "model = learner.cpu()"
   ]
  },
  {
   "cell_type": "code",
   "execution_count": null,
   "id": "9339b291-7ace-4ebd-863a-a409ec72b0b5",
   "metadata": {},
   "outputs": [],
   "source": [
    "visu = WNVisualizer(dls.valid, learner)"
   ]
  },
  {
   "cell_type": "code",
   "execution_count": null,
   "id": "2baeb490-5f8e-4e27-ba1d-dabf41210a95",
   "metadata": {},
   "outputs": [],
   "source": [
    "visu.predict_item(0)['item'].shape"
   ]
  },
  {
   "cell_type": "code",
   "execution_count": null,
   "id": "f52d9820-df1d-45e3-91c6-06d30f17c30e",
   "metadata": {},
   "outputs": [],
   "source": [
    "visu.show_pred(800)"
   ]
  },
  {
   "cell_type": "code",
   "execution_count": null,
   "id": "ce509054-fd0d-4f1d-925b-133381177c35",
   "metadata": {},
   "outputs": [],
   "source": [
    "dls.valid.dataset.loaded_status"
   ]
  },
  {
   "cell_type": "code",
   "execution_count": null,
   "id": "151f4772-ddf8-45ef-b253-9f3c0a9eb49b",
   "metadata": {},
   "outputs": [],
   "source": []
  }
 ],
 "metadata": {
  "kernelspec": {
   "display_name": "Python 3 (ipykernel)",
   "language": "python",
   "name": "python3"
  },
  "language_info": {
   "codemirror_mode": {
    "name": "ipython",
    "version": 3
   },
   "file_extension": ".py",
   "mimetype": "text/x-python",
   "name": "python",
   "nbconvert_exporter": "python",
   "pygments_lexer": "ipython3",
   "version": "3.10.6"
  },
  "vscode": {
   "interpreter": {
    "hash": "b8d564a5e78fa920f6d109e3b6389da476a9ea846c62606ff1aca0006ea12436"
   }
  }
 },
 "nbformat": 4,
 "nbformat_minor": 5
}
