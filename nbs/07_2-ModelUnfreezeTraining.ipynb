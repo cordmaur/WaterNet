{
 "cells": [
  {
   "cell_type": "markdown",
   "id": "d003bde1-3fa5-40f3-82c5-500c83f7743c",
   "metadata": {},
   "source": [
    "# Planetary Training"
   ]
  },
  {
   "cell_type": "markdown",
   "id": "fc880c3c",
   "metadata": {},
   "source": [
    "This second model looks for difference in using pretrained weights"
   ]
  },
  {
   "cell_type": "code",
   "execution_count": 1,
   "id": "d36f1de3-3afb-434e-b21e-1e7550ec1b29",
   "metadata": {},
   "outputs": [],
   "source": [
    "%load_ext autoreload\n",
    "%autoreload 2\n",
    "\n",
    "import importlib    \n",
    "\n",
    "# check if it is using CPU or GPU\n",
    "# First the CPU version\n",
    "if importlib.util.find_spec('torch') is None:\n",
    "    %pip install --quiet torch torchvision --extra-index-url https://download.pytorch.org/whl/cpu\n",
    "\n",
    "\n",
    "if importlib.util.find_spec('fastai') is None:\n",
    "    # Then install fastai from code\n",
    "    !cd /tmp; git clone https://github.com/fastai/fastai -q\n",
    "    %pip -q install -e /tmp/fastai \n",
    "\n",
    "# Install WaterNet\n",
    "if importlib.util.find_spec('waternet') is None:\n",
    "    %pip install -e /home/jovyan/projects/WaterNet/\n",
    "    \n",
    "from waternet.wndataset import WNDataSet\n",
    "from fastai.vision.all import *\n",
    "\n"
   ]
  },
  {
   "cell_type": "markdown",
   "id": "4b54a6fe",
   "metadata": {},
   "source": [
    "### Creating the Datasets"
   ]
  },
  {
   "cell_type": "code",
   "execution_count": 2,
   "id": "a4e3310c-433c-4cb9-9c78-4ba3246b76b6",
   "metadata": {},
   "outputs": [],
   "source": [
    "masks_path = '/home/jovyan/tmp3'\n",
    "training_bands = ['B04', 'B03', 'B02', 'B08', 'B11', 'B12']\n",
    "# masks_path='d:/temp/22KEV/'"
   ]
  },
  {
   "cell_type": "code",
   "execution_count": 3,
   "id": "341682e6-1d6c-4ba3-98a6-bbfcfd11d10c",
   "metadata": {},
   "outputs": [
    {
     "data": {
      "application/vnd.jupyter.widget-view+json": {
       "model_id": "f79d8d9dce824d559f386f7a6e451a91",
       "version_major": 2,
       "version_minor": 0
      },
      "text/plain": [
       "Matching imgs/masks:   0%|          | 0/106 [00:00<?, ?it/s]"
      ]
     },
     "metadata": {},
     "output_type": "display_data"
    }
   ],
   "source": [
    "# default config for shape, size and step\n",
    "config = dict(\n",
    "    shape=(5490, 5490),\n",
    "    patch_size=(512, 512),\n",
    "    step=262,    \n",
    ")\n",
    "\n",
    "# 2018 october for training\n",
    "train_ds = WNDataSet.from_masks(\n",
    "    masks_path=masks_path,\n",
    "    pattern='*S2A*watermask.tif',\n",
    "    **config\n",
    ")"
   ]
  },
  {
   "cell_type": "code",
   "execution_count": 4,
   "id": "ecbd9fdf-f062-42b4-ba54-26ce423c57a3",
   "metadata": {},
   "outputs": [
    {
     "data": {
      "application/vnd.jupyter.widget-view+json": {
       "model_id": "a9e5c6a367f549e78c4ae2021c95c93b",
       "version_major": 2,
       "version_minor": 0
      },
      "text/plain": [
       "Matching imgs/masks:   0%|          | 0/25 [00:00<?, ?it/s]"
      ]
     },
     "metadata": {},
     "output_type": "display_data"
    }
   ],
   "source": [
    "# a single image for the validation\n",
    "valid_ds = WNDataSet.from_masks(\n",
    "    masks_path=masks_path,\n",
    "    pattern='*S2B_MSIL2A_2021*watermask.tif',\n",
    "    **config\n",
    ")"
   ]
  },
  {
   "cell_type": "code",
   "execution_count": 5,
   "id": "9688a3d1-098f-4811-a873-b71997161c35",
   "metadata": {},
   "outputs": [
    {
     "name": "stdout",
     "output_type": "stream",
     "text": [
      "WNDataset instance with 106 images\n",
      "Loaded: 0 items\n",
      "Empty: 106 items\n",
      "Loading: 0 items\n",
      "\n",
      "WNDataset instance with 25 images\n",
      "Loaded: 0 items\n",
      "Empty: 25 items\n",
      "Loading: 0 items\n",
      "\n"
     ]
    }
   ],
   "source": [
    "train_ds.bands = training_bands\n",
    "valid_ds.bands = training_bands\n",
    "\n",
    "print(train_ds)\n",
    "print(valid_ds)"
   ]
  },
  {
   "cell_type": "markdown",
   "id": "3fc2874c",
   "metadata": {},
   "source": [
    "### Creating Dataloaders"
   ]
  },
  {
   "cell_type": "code",
   "execution_count": 6,
   "id": "46184e42",
   "metadata": {},
   "outputs": [],
   "source": [
    "# Create two dataloaders (for training and validation)\n",
    "# Put it in the GPU\n",
    "dls = DataLoaders(\n",
    "    DataLoader(train_ds, bs=6),\n",
    "    DataLoader(valid_ds, bs=6)\n",
    ").cuda()"
   ]
  },
  {
   "cell_type": "code",
   "execution_count": 7,
   "id": "a5017b54",
   "metadata": {},
   "outputs": [],
   "source": [
    "# m, t = dls.valid.one_batch()\n",
    "# m.device"
   ]
  },
  {
   "cell_type": "code",
   "execution_count": 8,
   "id": "6007071f",
   "metadata": {},
   "outputs": [],
   "source": [
    "# dls.train.one_batch()[0].shape"
   ]
  },
  {
   "cell_type": "markdown",
   "id": "b584777c",
   "metadata": {},
   "source": [
    "### Creating the Learner"
   ]
  },
  {
   "cell_type": "code",
   "execution_count": 7,
   "id": "399c13f9-67c0-4ec8-ba30-f291b2835916",
   "metadata": {},
   "outputs": [
    {
     "name": "stdout",
     "output_type": "stream",
     "text": [
      "Loading image 1 in background\n"
     ]
    },
    {
     "name": "stderr",
     "output_type": "stream",
     "text": [
      "/srv/conda/envs/notebook/lib/python3.9/site-packages/torchvision/models/_utils.py:208: UserWarning: The parameter 'pretrained' is deprecated since 0.13 and will be removed in 0.15, please use 'weights' instead.\n",
      "  warnings.warn(\n",
      "/srv/conda/envs/notebook/lib/python3.9/site-packages/torchvision/models/_utils.py:223: UserWarning: Arguments other than a weight enum or `None` for 'weights' are deprecated since 0.13 and will be removed in 0.15. The current behavior is equivalent to passing `weights=ResNet18_Weights.IMAGENET1K_V1`. You can also use `weights=ResNet18_Weights.DEFAULT` to get the most up-to-date weights.\n",
      "  warnings.warn(msg)\n"
     ]
    },
    {
     "name": "stdout",
     "output_type": "stream",
     "text": [
      "Loaded sucessfully\n"
     ]
    }
   ],
   "source": [
    "learner = unet_learner(\n",
    "    dls, arch=resnet18, pretrained=True, normalize=False, n_in=6, n_out=3, loss_func=CrossEntropyLossFlat(axis=1)\n",
    ")\n",
    "\n",
    "learner = learner.load('Resnet18-6chnls-trained-2')"
   ]
  },
  {
   "cell_type": "code",
   "execution_count": 8,
   "id": "ac86dd47-84b3-4622-980a-23eb86f9b236",
   "metadata": {},
   "outputs": [],
   "source": [
    "cuda_model = learner.cuda()\n",
    "# learner.dls = learner.dls.cuda()"
   ]
  },
  {
   "cell_type": "markdown",
   "id": "d7a63d89",
   "metadata": {},
   "source": [
    "### Checking model and predictions"
   ]
  },
  {
   "cell_type": "code",
   "execution_count": 11,
   "id": "4319b533-706b-459e-a4ed-fe54ac7d3fa4",
   "metadata": {},
   "outputs": [],
   "source": [
    "learner.unfreeze()"
   ]
  },
  {
   "cell_type": "code",
   "execution_count": 18,
   "id": "b50329cd",
   "metadata": {
    "collapsed": true,
    "jupyter": {
     "outputs_hidden": true
    },
    "tags": []
   },
   "outputs": [
    {
     "data": {
      "text/html": [
       "\n",
       "<style>\n",
       "    /* Turns off some styling */\n",
       "    progress {\n",
       "        /* gets rid of default border in Firefox and Opera. */\n",
       "        border: none;\n",
       "        /* Needs to be in here for Safari polyfill so background images work as expected. */\n",
       "        background-size: auto;\n",
       "    }\n",
       "    progress:not([value]), progress:not([value])::-webkit-progress-bar {\n",
       "        background: repeating-linear-gradient(45deg, #7e7e7e, #7e7e7e 10px, #5c5c5c 10px, #5c5c5c 20px);\n",
       "    }\n",
       "    .progress-bar-interrupted, .progress-bar-interrupted::-webkit-progress-bar {\n",
       "        background: #F44336;\n",
       "    }\n",
       "</style>\n"
      ],
      "text/plain": [
       "<IPython.core.display.HTML object>"
      ]
     },
     "metadata": {},
     "output_type": "display_data"
    },
    {
     "data": {
      "text/html": [],
      "text/plain": [
       "<IPython.core.display.HTML object>"
      ]
     },
     "metadata": {},
     "output_type": "display_data"
    },
    {
     "data": {
      "text/plain": [
       "DynamicUnet (Input shape: 8 x 6 x 512 x 512)\n",
       "============================================================================\n",
       "Layer (type)         Output Shape         Param #    Trainable \n",
       "============================================================================\n",
       "                     8 x 64 x 256 x 256  \n",
       "Conv2d                                    18816      True      \n",
       "BatchNorm2d                               128        True      \n",
       "ReLU                                                           \n",
       "____________________________________________________________________________\n",
       "                     8 x 64 x 128 x 128  \n",
       "MaxPool2d                                                      \n",
       "Conv2d                                    36864      True      \n",
       "BatchNorm2d                               128        True      \n",
       "ReLU                                                           \n",
       "Conv2d                                    36864      True      \n",
       "BatchNorm2d                               128        True      \n",
       "Conv2d                                    36864      True      \n",
       "BatchNorm2d                               128        True      \n",
       "ReLU                                                           \n",
       "Conv2d                                    36864      True      \n",
       "BatchNorm2d                               128        True      \n",
       "____________________________________________________________________________\n",
       "                     8 x 128 x 64 x 64   \n",
       "Conv2d                                    73728      True      \n",
       "BatchNorm2d                               256        True      \n",
       "ReLU                                                           \n",
       "Conv2d                                    147456     True      \n",
       "BatchNorm2d                               256        True      \n",
       "Conv2d                                    8192       True      \n",
       "BatchNorm2d                               256        True      \n",
       "Conv2d                                    147456     True      \n",
       "BatchNorm2d                               256        True      \n",
       "ReLU                                                           \n",
       "Conv2d                                    147456     True      \n",
       "BatchNorm2d                               256        True      \n",
       "____________________________________________________________________________\n",
       "                     8 x 256 x 32 x 32   \n",
       "Conv2d                                    294912     True      \n",
       "BatchNorm2d                               512        True      \n",
       "ReLU                                                           \n",
       "Conv2d                                    589824     True      \n",
       "BatchNorm2d                               512        True      \n",
       "Conv2d                                    32768      True      \n",
       "BatchNorm2d                               512        True      \n",
       "Conv2d                                    589824     True      \n",
       "BatchNorm2d                               512        True      \n",
       "ReLU                                                           \n",
       "Conv2d                                    589824     True      \n",
       "BatchNorm2d                               512        True      \n",
       "____________________________________________________________________________\n",
       "                     8 x 512 x 16 x 16   \n",
       "Conv2d                                    1179648    True      \n",
       "BatchNorm2d                               1024       True      \n",
       "ReLU                                                           \n",
       "Conv2d                                    2359296    True      \n",
       "BatchNorm2d                               1024       True      \n",
       "Conv2d                                    131072     True      \n",
       "BatchNorm2d                               1024       True      \n",
       "Conv2d                                    2359296    True      \n",
       "BatchNorm2d                               1024       True      \n",
       "ReLU                                                           \n",
       "Conv2d                                    2359296    True      \n",
       "BatchNorm2d                               1024       True      \n",
       "BatchNorm2d                               1024       True      \n",
       "ReLU                                                           \n",
       "____________________________________________________________________________\n",
       "                     8 x 1024 x 16 x 16  \n",
       "Conv2d                                    4719616    True      \n",
       "ReLU                                                           \n",
       "____________________________________________________________________________\n",
       "                     8 x 512 x 16 x 16   \n",
       "Conv2d                                    4719104    True      \n",
       "ReLU                                                           \n",
       "____________________________________________________________________________\n",
       "                     8 x 1024 x 16 x 16  \n",
       "Conv2d                                    525312     True      \n",
       "ReLU                                                           \n",
       "____________________________________________________________________________\n",
       "                     8 x 256 x 32 x 32   \n",
       "PixelShuffle                                                   \n",
       "BatchNorm2d                               512        True      \n",
       "Conv2d                                    2359808    True      \n",
       "ReLU                                                           \n",
       "Conv2d                                    2359808    True      \n",
       "ReLU                                                           \n",
       "ReLU                                                           \n",
       "____________________________________________________________________________\n",
       "                     8 x 1024 x 32 x 32  \n",
       "Conv2d                                    525312     True      \n",
       "ReLU                                                           \n",
       "____________________________________________________________________________\n",
       "                     8 x 256 x 64 x 64   \n",
       "PixelShuffle                                                   \n",
       "BatchNorm2d                               256        True      \n",
       "Conv2d                                    1327488    True      \n",
       "ReLU                                                           \n",
       "Conv2d                                    1327488    True      \n",
       "ReLU                                                           \n",
       "ReLU                                                           \n",
       "____________________________________________________________________________\n",
       "                     8 x 768 x 64 x 64   \n",
       "Conv2d                                    295680     True      \n",
       "ReLU                                                           \n",
       "____________________________________________________________________________\n",
       "                     8 x 192 x 128 x 128 \n",
       "PixelShuffle                                                   \n",
       "BatchNorm2d                               128        True      \n",
       "Conv2d                                    590080     True      \n",
       "ReLU                                                           \n",
       "Conv2d                                    590080     True      \n",
       "ReLU                                                           \n",
       "ReLU                                                           \n",
       "____________________________________________________________________________\n",
       "                     8 x 512 x 128 x 128 \n",
       "Conv2d                                    131584     True      \n",
       "ReLU                                                           \n",
       "____________________________________________________________________________\n",
       "                     8 x 128 x 256 x 256 \n",
       "PixelShuffle                                                   \n",
       "BatchNorm2d                               128        True      \n",
       "____________________________________________________________________________\n",
       "                     8 x 96 x 256 x 256  \n",
       "Conv2d                                    165984     True      \n",
       "ReLU                                                           \n",
       "Conv2d                                    83040      True      \n",
       "ReLU                                                           \n",
       "ReLU                                                           \n",
       "____________________________________________________________________________\n",
       "                     8 x 384 x 256 x 256 \n",
       "Conv2d                                    37248      True      \n",
       "ReLU                                                           \n",
       "____________________________________________________________________________\n",
       "                     8 x 96 x 512 x 512  \n",
       "PixelShuffle                                                   \n",
       "ResizeToOrig                                                   \n",
       "____________________________________________________________________________\n",
       "                     8 x 102 x 512 x 512 \n",
       "MergeLayer                                                     \n",
       "Conv2d                                    93738      True      \n",
       "ReLU                                                           \n",
       "Conv2d                                    93738      True      \n",
       "Sequential                                                     \n",
       "ReLU                                                           \n",
       "____________________________________________________________________________\n",
       "                     8 x 3 x 512 x 512   \n",
       "Conv2d                                    309        True      \n",
       "ToTensorBase                                                   \n",
       "____________________________________________________________________________\n",
       "\n",
       "Total params: 31,133,385\n",
       "Total trainable params: 31,133,385\n",
       "Total non-trainable params: 0\n",
       "\n",
       "Optimizer used: <function Adam at 0x7fec6b2f7ac0>\n",
       "Loss function: FlattenedLoss of CrossEntropyLoss()\n",
       "\n",
       "Model unfrozen\n",
       "\n",
       "Callbacks:\n",
       "  - TrainEvalCallback\n",
       "  - CastToTensor\n",
       "  - Recorder\n",
       "  - ProgressCallback"
      ]
     },
     "execution_count": 18,
     "metadata": {},
     "output_type": "execute_result"
    }
   ],
   "source": [
    "# learner.summary()"
   ]
  },
  {
   "cell_type": "code",
   "execution_count": 10,
   "id": "bb912cc6",
   "metadata": {},
   "outputs": [
    {
     "name": "stdout",
     "output_type": "stream",
     "text": [
      "torch.Size([8, 6, 512, 512]) torch.Size([8, 512, 512])\n"
     ]
    }
   ],
   "source": [
    "# batch, target = dls.train.one_batch()\n",
    "# print(batch.shape, target.shape)"
   ]
  },
  {
   "cell_type": "code",
   "execution_count": 11,
   "id": "2bb0a04e",
   "metadata": {},
   "outputs": [
    {
     "data": {
      "text/plain": [
       "torch.Size([8, 3, 512, 512])"
      ]
     },
     "execution_count": 11,
     "metadata": {},
     "output_type": "execute_result"
    }
   ],
   "source": [
    "# Calculate the predictions for the 4 patches (1 batch)\n",
    "# pred = learner.model(batch)\n",
    "# pred.shape"
   ]
  },
  {
   "cell_type": "code",
   "execution_count": 12,
   "id": "bdf642d7",
   "metadata": {},
   "outputs": [
    {
     "data": {
      "text/plain": [
       "TensorBase(1.6239, grad_fn=<AliasBackward0>)"
      ]
     },
     "execution_count": 12,
     "metadata": {},
     "output_type": "execute_result"
    }
   ],
   "source": [
    "CrossEntropyLossFlat(axis=1)(pred, target)"
   ]
  },
  {
   "cell_type": "markdown",
   "id": "dedade94",
   "metadata": {},
   "source": [
    "### Running LrFind"
   ]
  },
  {
   "cell_type": "markdown",
   "id": "6d8555a2",
   "metadata": {},
   "source": [
    "Up to now, evertying was done in the CPU, but to run large amounts, it is necessary to load the data in the Cuda device. For that we will put them in the GPU and find the best learning rate."
   ]
  },
  {
   "cell_type": "code",
   "execution_count": 12,
   "id": "0e7122d4",
   "metadata": {},
   "outputs": [
    {
     "data": {
      "text/html": [
       "\n",
       "<style>\n",
       "    /* Turns off some styling */\n",
       "    progress {\n",
       "        /* gets rid of default border in Firefox and Opera. */\n",
       "        border: none;\n",
       "        /* Needs to be in here for Safari polyfill so background images work as expected. */\n",
       "        background-size: auto;\n",
       "    }\n",
       "    progress:not([value]), progress:not([value])::-webkit-progress-bar {\n",
       "        background: repeating-linear-gradient(45deg, #7e7e7e, #7e7e7e 10px, #5c5c5c 10px, #5c5c5c 20px);\n",
       "    }\n",
       "    .progress-bar-interrupted, .progress-bar-interrupted::-webkit-progress-bar {\n",
       "        background: #F44336;\n",
       "    }\n",
       "</style>\n"
      ],
      "text/plain": [
       "<IPython.core.display.HTML object>"
      ]
     },
     "metadata": {},
     "output_type": "display_data"
    },
    {
     "data": {
      "text/html": [],
      "text/plain": [
       "<IPython.core.display.HTML object>"
      ]
     },
     "metadata": {},
     "output_type": "display_data"
    },
    {
     "name": "stdout",
     "output_type": "stream",
     "text": [
      "Cleared image 0\n",
      "Loading image 2 in background\n"
     ]
    },
    {
     "data": {
      "text/plain": [
       "SuggestedLRs(valley=7.585775892948732e-05)"
      ]
     },
     "execution_count": 12,
     "metadata": {},
     "output_type": "execute_result"
    },
    {
     "data": {
      "image/png": "[encoded data removed]",
      "text/plain": [
       "<Figure size 640x480 with 1 Axes>"
      ]
     },
     "metadata": {},
     "output_type": "display_data"
    },
    {
     "name": "stdout",
     "output_type": "stream",
     "text": [
      "Loaded sucessfully\n"
     ]
    }
   ],
   "source": [
    "learner.lr_find()"
   ]
  },
  {
   "cell_type": "code",
   "execution_count": 13,
   "id": "504c3288-47d0-41b8-bc3c-e2ac7358ae0a",
   "metadata": {},
   "outputs": [
    {
     "data": {
      "text/plain": [
       "\u001b[0;31mSignature:\u001b[0m\n",
       "\u001b[0mlearner\u001b[0m\u001b[0;34m.\u001b[0m\u001b[0mfit_one_cycle\u001b[0m\u001b[0;34m(\u001b[0m\u001b[0;34m\u001b[0m\n",
       "\u001b[0;34m\u001b[0m    \u001b[0mn_epoch\u001b[0m\u001b[0;34m,\u001b[0m\u001b[0;34m\u001b[0m\n",
       "\u001b[0;34m\u001b[0m    \u001b[0mlr_max\u001b[0m\u001b[0;34m=\u001b[0m\u001b[0;32mNone\u001b[0m\u001b[0;34m,\u001b[0m\u001b[0;34m\u001b[0m\n",
       "\u001b[0;34m\u001b[0m    \u001b[0mdiv\u001b[0m\u001b[0;34m=\u001b[0m\u001b[0;36m25.0\u001b[0m\u001b[0;34m,\u001b[0m\u001b[0;34m\u001b[0m\n",
       "\u001b[0;34m\u001b[0m    \u001b[0mdiv_final\u001b[0m\u001b[0;34m=\u001b[0m\u001b[0;36m100000.0\u001b[0m\u001b[0;34m,\u001b[0m\u001b[0;34m\u001b[0m\n",
       "\u001b[0;34m\u001b[0m    \u001b[0mpct_start\u001b[0m\u001b[0;34m=\u001b[0m\u001b[0;36m0.25\u001b[0m\u001b[0;34m,\u001b[0m\u001b[0;34m\u001b[0m\n",
       "\u001b[0;34m\u001b[0m    \u001b[0mwd\u001b[0m\u001b[0;34m=\u001b[0m\u001b[0;32mNone\u001b[0m\u001b[0;34m,\u001b[0m\u001b[0;34m\u001b[0m\n",
       "\u001b[0;34m\u001b[0m    \u001b[0mmoms\u001b[0m\u001b[0;34m=\u001b[0m\u001b[0;32mNone\u001b[0m\u001b[0;34m,\u001b[0m\u001b[0;34m\u001b[0m\n",
       "\u001b[0;34m\u001b[0m    \u001b[0mcbs\u001b[0m\u001b[0;34m=\u001b[0m\u001b[0;32mNone\u001b[0m\u001b[0;34m,\u001b[0m\u001b[0;34m\u001b[0m\n",
       "\u001b[0;34m\u001b[0m    \u001b[0mreset_opt\u001b[0m\u001b[0;34m=\u001b[0m\u001b[0;32mFalse\u001b[0m\u001b[0;34m,\u001b[0m\u001b[0;34m\u001b[0m\n",
       "\u001b[0;34m\u001b[0m    \u001b[0mstart_epoch\u001b[0m\u001b[0;34m=\u001b[0m\u001b[0;36m0\u001b[0m\u001b[0;34m,\u001b[0m\u001b[0;34m\u001b[0m\n",
       "\u001b[0;34m\u001b[0m\u001b[0;34m)\u001b[0m\u001b[0;34m\u001b[0m\u001b[0;34m\u001b[0m\u001b[0m\n",
       "\u001b[0;31mDocstring:\u001b[0m Fit `self.model` for `n_epoch` using the 1cycle policy.\n",
       "\u001b[0;31mFile:\u001b[0m      /tmp/fastai/fastai/callback/schedule.py\n",
       "\u001b[0;31mType:\u001b[0m      method\n"
      ]
     },
     "metadata": {},
     "output_type": "display_data"
    }
   ],
   "source": [
    "learner.fit_one_cycle?"
   ]
  },
  {
   "cell_type": "code",
   "execution_count": 14,
   "id": "6cf7e546",
   "metadata": {},
   "outputs": [
    {
     "data": {
      "text/html": [
       "\n",
       "<style>\n",
       "    /* Turns off some styling */\n",
       "    progress {\n",
       "        /* gets rid of default border in Firefox and Opera. */\n",
       "        border: none;\n",
       "        /* Needs to be in here for Safari polyfill so background images work as expected. */\n",
       "        background-size: auto;\n",
       "    }\n",
       "    progress:not([value]), progress:not([value])::-webkit-progress-bar {\n",
       "        background: repeating-linear-gradient(45deg, #7e7e7e, #7e7e7e 10px, #5c5c5c 10px, #5c5c5c 20px);\n",
       "    }\n",
       "    .progress-bar-interrupted, .progress-bar-interrupted::-webkit-progress-bar {\n",
       "        background: #F44336;\n",
       "    }\n",
       "</style>\n"
      ],
      "text/plain": [
       "<IPython.core.display.HTML object>"
      ]
     },
     "metadata": {},
     "output_type": "display_data"
    },
    {
     "data": {
      "text/html": [
       "\n",
       "    <div>\n",
       "      <progress value='1' class='' max='2' style='width:300px; height:20px; vertical-align: middle;'></progress>\n",
       "      50.00% [1/2 2:11:02&lt;2:11:02]\n",
       "    </div>\n",
       "    \n",
       "<table border=\"1\" class=\"dataframe\">\n",
       "  <thead>\n",
       "    <tr style=\"text-align: left;\">\n",
       "      <th>epoch</th>\n",
       "      <th>train_loss</th>\n",
       "      <th>valid_loss</th>\n",
       "      <th>time</th>\n",
       "    </tr>\n",
       "  </thead>\n",
       "  <tbody>\n",
       "    <tr>\n",
       "      <td>0</td>\n",
       "      <td>0.087320</td>\n",
       "      <td>0.109754</td>\n",
       "      <td>2:11:02</td>\n",
       "    </tr>\n",
       "  </tbody>\n",
       "</table><p>\n",
       "\n",
       "    <div>\n",
       "      <progress value='2506' class='' max='7067' style='width:300px; height:20px; vertical-align: middle;'></progress>\n",
       "      35.46% [2506/7067 42:35&lt;1:17:30 0.0301]\n",
       "    </div>\n",
       "    "
      ],
      "text/plain": [
       "<IPython.core.display.HTML object>"
      ]
     },
     "metadata": {},
     "output_type": "display_data"
    },
    {
     "name": "stdout",
     "output_type": "stream",
     "text": [
      "Cleared image 0\n",
      "Cleared image 1\n",
      "Loading image 3 in background\n",
      "Loaded sucessfully\n",
      "Cleared image 2\n",
      "Loading image 4 in background\n",
      "Loaded sucessfully\n",
      "Cleared image 3\n",
      "Loading image 5 in background\n",
      "Loaded sucessfully\n",
      "Cleared image 4\n",
      "Loading image 6 in background\n",
      "Loaded sucessfully\n",
      "Cleared image 5\n",
      "Loading image 7 in background\n",
      "Loaded sucessfully\n",
      "Cleared image 6\n",
      "Loading image 8 in background\n",
      "Loaded sucessfully\n",
      "Cleared image 7\n",
      "Loading image 9 in background\n",
      "Loaded sucessfully\n",
      "Cleared image 8\n",
      "Loading image 10 in background\n",
      "Loaded sucessfully\n",
      "Cleared image 9\n",
      "Loading image 11 in background\n",
      "Loaded sucessfully\n",
      "Cleared image 10\n",
      "Loading image 12 in background\n",
      "Loaded sucessfully\n",
      "Cleared image 11\n",
      "Loading image 13 in background\n",
      "Loaded sucessfully\n",
      "Cleared image 12\n",
      "Loading image 14 in background\n",
      "Loaded sucessfully\n",
      "Cleared image 13\n",
      "Loading image 15 in background\n",
      "Loaded sucessfully\n",
      "Cleared image 14\n",
      "Loading image 16 in background\n",
      "Loaded sucessfully\n",
      "Cleared image 15\n",
      "Loading image 17 in background\n",
      "Loaded sucessfully\n",
      "Cleared image 16\n",
      "Loading image 18 in background\n",
      "Loaded sucessfully\n",
      "Cleared image 17\n",
      "Loading image 19 in background\n",
      "Loaded sucessfully\n",
      "Cleared image 18\n",
      "Loading image 20 in background\n",
      "Loaded sucessfully\n",
      "Cleared image 19\n",
      "Loading image 21 in background\n",
      "Loaded sucessfully\n",
      "Cleared image 20\n",
      "Loading image 22 in background\n",
      "Loaded sucessfully\n",
      "Cleared image 21\n",
      "Loading image 23 in background\n",
      "Loaded sucessfully\n",
      "Cleared image 22\n",
      "Loading image 24 in background\n",
      "Loaded sucessfully\n",
      "Cleared image 23\n",
      "Loading image 25 in background\n",
      "Loaded sucessfully\n",
      "Cleared image 24\n",
      "Loading image 26 in background\n",
      "Loaded sucessfully\n",
      "Cleared image 25\n",
      "Loading image 27 in background\n",
      "Loaded sucessfully\n",
      "Cleared image 26\n",
      "Loading image 28 in background\n",
      "Loaded sucessfully\n",
      "Cleared image 27\n",
      "Loading image 29 in background\n",
      "Loaded sucessfully\n",
      "Cleared image 28\n",
      "Loading image 30 in background\n",
      "Loaded sucessfully\n",
      "Cleared image 29\n",
      "Loading image 31 in background\n",
      "Loaded sucessfully\n",
      "Cleared image 30\n",
      "Loading image 32 in background\n",
      "Loaded sucessfully\n",
      "Cleared image 31\n",
      "Loading image 33 in background\n",
      "Loaded sucessfully\n",
      "Cleared image 32\n",
      "Loading image 34 in background\n",
      "Loaded sucessfully\n",
      "Cleared image 33\n",
      "Loading image 35 in background\n",
      "Loaded sucessfully\n",
      "Cleared image 34\n",
      "Loading image 36 in background\n",
      "Loaded sucessfully\n",
      "Cleared image 35\n",
      "Loading image 37 in background\n",
      "Loaded sucessfully\n",
      "Cleared image 36\n",
      "Loading image 38 in background\n",
      "Loaded sucessfully\n",
      "Cleared image 37\n",
      "Loading image 39 in background\n",
      "Loaded sucessfully\n",
      "Cleared image 38\n",
      "Loading image 40 in background\n",
      "Loaded sucessfully\n",
      "Cleared image 39\n",
      "Loading image 41 in background\n",
      "Loaded sucessfully\n",
      "Cleared image 40\n",
      "Loading image 42 in background\n",
      "Loaded sucessfully\n",
      "Cleared image 41\n",
      "Loading image 43 in background\n",
      "Loaded sucessfully\n",
      "Cleared image 42\n",
      "Loading image 44 in background\n",
      "Loaded sucessfully\n",
      "Cleared image 43\n",
      "Loading image 45 in background\n",
      "Loaded sucessfully\n",
      "Cleared image 44\n",
      "Loading image 46 in background\n",
      "Loaded sucessfully\n",
      "Cleared image 45\n",
      "Loading image 47 in background\n",
      "Loaded sucessfully\n",
      "Cleared image 46\n",
      "Loading image 48 in background\n",
      "Loaded sucessfully\n",
      "Cleared image 47\n",
      "Loading image 49 in background\n",
      "Loaded sucessfully\n",
      "Cleared image 48\n",
      "Loading image 50 in background\n",
      "Loaded sucessfully\n",
      "Cleared image 49\n",
      "Loading image 51 in background\n",
      "Loaded sucessfully\n",
      "Cleared image 50\n",
      "Loading image 52 in background\n",
      "Loaded sucessfully\n",
      "Cleared image 51\n",
      "Loading image 53 in background\n",
      "Loaded sucessfully\n",
      "Cleared image 52\n",
      "Loading image 54 in background\n",
      "Loaded sucessfully\n",
      "Cleared image 53\n",
      "Loading image 55 in background\n",
      "Loaded sucessfully\n",
      "Cleared image 54\n",
      "Loading image 56 in background\n",
      "Loaded sucessfully\n",
      "Cleared image 55\n",
      "Loading image 57 in background\n",
      "Loaded sucessfully\n",
      "Cleared image 56\n",
      "Loading image 58 in background\n",
      "Loaded sucessfully\n",
      "Cleared image 57\n",
      "Loading image 59 in background\n",
      "Loaded sucessfully\n",
      "Cleared image 58\n",
      "Loading image 60 in background\n",
      "Loaded sucessfully\n",
      "Cleared image 59\n",
      "Loading image 61 in background\n",
      "Loaded sucessfully\n",
      "Cleared image 60\n",
      "Loading image 62 in background\n",
      "Loaded sucessfully\n",
      "Cleared image 61\n",
      "Loading image 63 in background\n",
      "Loaded sucessfully\n",
      "Cleared image 62\n",
      "Loading image 64 in background\n",
      "Loaded sucessfully\n",
      "Cleared image 63\n",
      "Loading image 65 in background\n",
      "Loaded sucessfully\n",
      "Cleared image 64\n",
      "Loading image 66 in background\n",
      "Loaded sucessfully\n",
      "Cleared image 65\n",
      "Loading image 67 in background\n",
      "Loaded sucessfully\n",
      "Cleared image 66\n",
      "Loading image 68 in background\n",
      "Loaded sucessfully\n",
      "Cleared image 67\n",
      "Loading image 69 in background\n",
      "Loaded sucessfully\n",
      "Cleared image 68\n",
      "Loading image 70 in background\n",
      "Loaded sucessfully\n",
      "Cleared image 69\n",
      "Loading image 71 in background\n",
      "Loaded sucessfully\n",
      "Cleared image 70\n",
      "Loading image 72 in background\n",
      "Loaded sucessfully\n",
      "Cleared image 71\n",
      "Loading image 73 in background\n",
      "Loaded sucessfully\n",
      "Cleared image 72\n",
      "Loading image 74 in background\n",
      "Loaded sucessfully\n",
      "Cleared image 73\n",
      "Loading image 75 in background\n",
      "Loaded sucessfully\n",
      "Cleared image 74\n",
      "Loading image 76 in background\n",
      "Loaded sucessfully\n",
      "Cleared image 75\n",
      "Loading image 77 in background\n",
      "Loaded sucessfully\n",
      "Cleared image 76\n",
      "Loading image 78 in background\n",
      "Loaded sucessfully\n",
      "Cleared image 77\n",
      "Loading image 79 in background\n",
      "Loaded sucessfully\n",
      "Cleared image 78\n",
      "Loading image 80 in background\n",
      "Loaded sucessfully\n",
      "Cleared image 79\n",
      "Loading image 81 in background\n",
      "Loaded sucessfully\n",
      "Cleared image 80\n",
      "Loading image 82 in background\n",
      "Loaded sucessfully\n",
      "Cleared image 81\n",
      "Loading image 83 in background\n",
      "Loaded sucessfully\n",
      "Cleared image 82\n",
      "Loading image 84 in background\n",
      "Loaded sucessfully\n",
      "Cleared image 83\n",
      "Loading image 85 in background\n",
      "Loaded sucessfully\n",
      "Cleared image 84\n",
      "Loading image 86 in background\n",
      "Loaded sucessfully\n",
      "Cleared image 85\n",
      "Loading image 87 in background\n",
      "Loaded sucessfully\n",
      "Cleared image 86\n",
      "Loading image 88 in background\n",
      "Loaded sucessfully\n",
      "Cleared image 87\n",
      "Loading image 89 in background\n",
      "Loaded sucessfully\n",
      "Cleared image 88\n",
      "Loading image 90 in background\n",
      "Loaded sucessfully\n",
      "Cleared image 89\n",
      "Loading image 91 in background\n",
      "Loaded sucessfully\n",
      "Cleared image 90\n",
      "Loading image 92 in background\n",
      "Loaded sucessfully\n",
      "Cleared image 91\n",
      "Loading image 93 in background\n",
      "Loaded sucessfully\n",
      "Cleared image 92\n",
      "Loading image 94 in background\n",
      "Loaded sucessfully\n",
      "Cleared image 93\n",
      "Loading image 95 in background\n",
      "Loaded sucessfully\n",
      "Cleared image 94\n",
      "Loading image 96 in background\n",
      "Loaded sucessfully\n",
      "Cleared image 95\n",
      "Loading image 97 in background\n",
      "Loaded sucessfully\n",
      "Cleared image 96\n",
      "Loading image 98 in background\n",
      "Loaded sucessfully\n",
      "Cleared image 97\n",
      "Loading image 99 in background\n",
      "Loaded sucessfully\n",
      "Cleared image 98\n",
      "Loading image 100 in background\n",
      "Loaded sucessfully\n",
      "Cleared image 99\n",
      "Loading image 101 in background\n",
      "Loaded sucessfully\n",
      "Cleared image 100\n",
      "Loading image 102 in background\n",
      "Loaded sucessfully\n",
      "Cleared image 101\n",
      "Loading image 103 in background\n",
      "Loaded sucessfully\n",
      "Cleared image 102\n",
      "Loading image 104 in background\n",
      "Loaded sucessfully\n",
      "Cleared image 103\n",
      "Loading image 105 in background\n",
      "Loaded sucessfully\n",
      "Cleared image 104\n",
      "Loading image 0 in background\n",
      "Loaded sucessfully\n",
      "Loading image 1 in background\n",
      "Loaded sucessfully\n",
      "Cleared image 0\n",
      "Loading image 2 in background\n",
      "Loaded sucessfully\n",
      "Cleared image 1\n",
      "Loading image 3 in background\n",
      "Loaded sucessfully\n",
      "Cleared image 2\n",
      "Loading image 4 in background\n",
      "Loaded sucessfully\n",
      "Cleared image 3\n",
      "Loading image 5 in background\n",
      "Loaded sucessfully\n",
      "Cleared image 4\n",
      "Loading image 6 in background\n",
      "Loaded sucessfully\n",
      "Cleared image 5\n",
      "Loading image 7 in background\n",
      "Loaded sucessfully\n",
      "Cleared image 6\n",
      "Loading image 8 in background\n",
      "Loaded sucessfully\n",
      "Cleared image 7\n",
      "Loading image 9 in background\n",
      "Loaded sucessfully\n",
      "Cleared image 8\n",
      "Loading image 10 in background\n",
      "Loaded sucessfully\n",
      "Cleared image 9\n",
      "Loading image 11 in background\n",
      "Loaded sucessfully\n",
      "Cleared image 10\n",
      "Loading image 12 in background\n",
      "Loaded sucessfully\n",
      "Cleared image 11\n",
      "Loading image 13 in background\n",
      "Loaded sucessfully\n",
      "Cleared image 12\n",
      "Loading image 14 in background\n",
      "Loaded sucessfully\n",
      "Cleared image 13\n",
      "Loading image 15 in background\n",
      "Loaded sucessfully\n",
      "Cleared image 14\n",
      "Loading image 16 in background\n",
      "Loaded sucessfully\n",
      "Cleared image 15\n",
      "Loading image 17 in background\n",
      "Loaded sucessfully\n",
      "Cleared image 16\n",
      "Loading image 18 in background\n",
      "Loaded sucessfully\n",
      "Cleared image 17\n",
      "Loading image 19 in background\n",
      "Loaded sucessfully\n",
      "Cleared image 18\n",
      "Loading image 20 in background\n",
      "Loaded sucessfully\n",
      "Cleared image 19\n",
      "Loading image 21 in background\n",
      "Loaded sucessfully\n",
      "Cleared image 20\n",
      "Loading image 22 in background\n",
      "Loaded sucessfully\n",
      "Cleared image 21\n",
      "Loading image 23 in background\n",
      "Loaded sucessfully\n",
      "Cleared image 22\n",
      "Loading image 24 in background\n",
      "Loaded sucessfully\n",
      "Cleared image 23\n",
      "Loading image 0 in background\n",
      "Loaded sucessfully\n",
      "Cleared image 105\n",
      "Loading image 1 in background\n",
      "Loaded sucessfully\n",
      "Cleared image 0\n",
      "Loading image 2 in background\n",
      "Loaded sucessfully\n",
      "Cleared image 1\n",
      "Loading image 3 in background\n",
      "Loaded sucessfully\n",
      "Cleared image 2\n",
      "Loading image 4 in background\n",
      "Loaded sucessfully\n",
      "Cleared image 3\n",
      "Loading image 5 in background\n",
      "Loaded sucessfully\n",
      "Cleared image 4\n",
      "Loading image 6 in background\n",
      "Loaded sucessfully\n",
      "Cleared image 5\n",
      "Loading image 7 in background\n",
      "Loaded sucessfully\n",
      "Cleared image 6\n",
      "Loading image 8 in background\n",
      "Loaded sucessfully\n",
      "Cleared image 7\n",
      "Loading image 9 in background\n",
      "Loaded sucessfully\n",
      "Cleared image 8\n",
      "Loading image 10 in background\n",
      "Loaded sucessfully\n",
      "Cleared image 9\n",
      "Loading image 11 in background\n",
      "Loaded sucessfully\n",
      "Cleared image 10\n",
      "Loading image 12 in background\n",
      "Loaded sucessfully\n",
      "Cleared image 11\n",
      "Loading image 13 in background\n",
      "Loaded sucessfully\n",
      "Cleared image 12\n",
      "Loading image 14 in background\n",
      "Loaded sucessfully\n",
      "Cleared image 13\n",
      "Loading image 15 in background\n",
      "Loaded sucessfully\n",
      "Cleared image 14\n",
      "Loading image 16 in background\n",
      "Loaded sucessfully\n",
      "Cleared image 15\n",
      "Loading image 17 in background\n",
      "Loaded sucessfully\n",
      "Cleared image 16\n",
      "Loading image 18 in background\n",
      "Loaded sucessfully\n",
      "Cleared image 17\n",
      "Loading image 19 in background\n",
      "Loaded sucessfully\n",
      "Cleared image 18\n",
      "Loading image 20 in background\n",
      "Loaded sucessfully\n",
      "Cleared image 19\n",
      "Loading image 21 in background\n",
      "Loaded sucessfully\n",
      "Cleared image 20\n",
      "Loading image 22 in background\n",
      "Loaded sucessfully\n",
      "Cleared image 21\n",
      "Loading image 23 in background\n",
      "Loaded sucessfully\n",
      "Cleared image 22\n",
      "Loading image 24 in background\n",
      "Loaded sucessfully\n",
      "Cleared image 23\n",
      "Loading image 25 in background\n",
      "Loaded sucessfully\n",
      "Cleared image 24\n",
      "Loading image 26 in background\n",
      "Loaded sucessfully\n",
      "Cleared image 25\n",
      "Loading image 27 in background\n",
      "Loaded sucessfully\n",
      "Cleared image 26\n",
      "Loading image 28 in background\n",
      "Loaded sucessfully\n",
      "Cleared image 27\n",
      "Loading image 29 in background\n",
      "Loaded sucessfully\n",
      "Cleared image 28\n",
      "Loading image 30 in background\n",
      "Loaded sucessfully\n",
      "Cleared image 29\n",
      "Loading image 31 in background\n",
      "Loaded sucessfully\n",
      "Cleared image 30\n",
      "Loading image 32 in background\n",
      "Loaded sucessfully\n",
      "Cleared image 31\n",
      "Loading image 33 in background\n",
      "Loaded sucessfully\n",
      "Cleared image 32\n",
      "Loading image 34 in background\n",
      "Loaded sucessfully\n",
      "Cleared image 33\n",
      "Loading image 35 in background\n",
      "Loaded sucessfully\n",
      "Cleared image 34\n",
      "Loading image 36 in background\n",
      "Loaded sucessfully\n",
      "Cleared image 35\n",
      "Loading image 37 in background\n",
      "Loaded sucessfully\n",
      "Cleared image 36\n",
      "Loading image 38 in background\n",
      "Loaded sucessfully\n"
     ]
    },
    {
     "ename": "KeyboardInterrupt",
     "evalue": "",
     "output_type": "error",
     "traceback": [
      "\u001b[0;31m---------------------------------------------------------------------------\u001b[0m",
      "\u001b[0;31mKeyboardInterrupt\u001b[0m                         Traceback (most recent call last)",
      "Cell \u001b[0;32mIn [14], line 1\u001b[0m\n\u001b[0;32m----> 1\u001b[0m \u001b[43mlearner\u001b[49m\u001b[38;5;241;43m.\u001b[39;49m\u001b[43mfit_one_cycle\u001b[49m\u001b[43m(\u001b[49m\u001b[38;5;241;43m2\u001b[39;49m\u001b[43m,\u001b[49m\u001b[43m \u001b[49m\u001b[43mlr_max\u001b[49m\u001b[38;5;241;43m=\u001b[39;49m\u001b[38;5;28;43mslice\u001b[39;49m\u001b[43m(\u001b[49m\u001b[38;5;241;43m7e-6\u001b[39;49m\u001b[43m,\u001b[49m\u001b[43m \u001b[49m\u001b[38;5;241;43m7e-5\u001b[39;49m\u001b[43m)\u001b[49m\u001b[43m)\u001b[49m\n",
      "File \u001b[0;32m/tmp/fastai/fastai/callback/schedule.py:119\u001b[0m, in \u001b[0;36mfit_one_cycle\u001b[0;34m(self, n_epoch, lr_max, div, div_final, pct_start, wd, moms, cbs, reset_opt, start_epoch)\u001b[0m\n\u001b[1;32m    116\u001b[0m lr_max \u001b[38;5;241m=\u001b[39m np\u001b[38;5;241m.\u001b[39marray([h[\u001b[38;5;124m'\u001b[39m\u001b[38;5;124mlr\u001b[39m\u001b[38;5;124m'\u001b[39m] \u001b[38;5;28;01mfor\u001b[39;00m h \u001b[38;5;129;01min\u001b[39;00m \u001b[38;5;28mself\u001b[39m\u001b[38;5;241m.\u001b[39mopt\u001b[38;5;241m.\u001b[39mhypers])\n\u001b[1;32m    117\u001b[0m scheds \u001b[38;5;241m=\u001b[39m {\u001b[38;5;124m'\u001b[39m\u001b[38;5;124mlr\u001b[39m\u001b[38;5;124m'\u001b[39m: combined_cos(pct_start, lr_max\u001b[38;5;241m/\u001b[39mdiv, lr_max, lr_max\u001b[38;5;241m/\u001b[39mdiv_final),\n\u001b[1;32m    118\u001b[0m           \u001b[38;5;124m'\u001b[39m\u001b[38;5;124mmom\u001b[39m\u001b[38;5;124m'\u001b[39m: combined_cos(pct_start, \u001b[38;5;241m*\u001b[39m(\u001b[38;5;28mself\u001b[39m\u001b[38;5;241m.\u001b[39mmoms \u001b[38;5;28;01mif\u001b[39;00m moms \u001b[38;5;129;01mis\u001b[39;00m \u001b[38;5;28;01mNone\u001b[39;00m \u001b[38;5;28;01melse\u001b[39;00m moms))}\n\u001b[0;32m--> 119\u001b[0m \u001b[38;5;28;43mself\u001b[39;49m\u001b[38;5;241;43m.\u001b[39;49m\u001b[43mfit\u001b[49m\u001b[43m(\u001b[49m\u001b[43mn_epoch\u001b[49m\u001b[43m,\u001b[49m\u001b[43m \u001b[49m\u001b[43mcbs\u001b[49m\u001b[38;5;241;43m=\u001b[39;49m\u001b[43mParamScheduler\u001b[49m\u001b[43m(\u001b[49m\u001b[43mscheds\u001b[49m\u001b[43m)\u001b[49m\u001b[38;5;241;43m+\u001b[39;49m\u001b[43mL\u001b[49m\u001b[43m(\u001b[49m\u001b[43mcbs\u001b[49m\u001b[43m)\u001b[49m\u001b[43m,\u001b[49m\u001b[43m \u001b[49m\u001b[43mreset_opt\u001b[49m\u001b[38;5;241;43m=\u001b[39;49m\u001b[43mreset_opt\u001b[49m\u001b[43m,\u001b[49m\u001b[43m \u001b[49m\u001b[43mwd\u001b[49m\u001b[38;5;241;43m=\u001b[39;49m\u001b[43mwd\u001b[49m\u001b[43m,\u001b[49m\u001b[43m \u001b[49m\u001b[43mstart_epoch\u001b[49m\u001b[38;5;241;43m=\u001b[39;49m\u001b[43mstart_epoch\u001b[49m\u001b[43m)\u001b[49m\n",
      "File \u001b[0;32m/tmp/fastai/fastai/learner.py:256\u001b[0m, in \u001b[0;36mLearner.fit\u001b[0;34m(self, n_epoch, lr, wd, cbs, reset_opt, start_epoch)\u001b[0m\n\u001b[1;32m    254\u001b[0m \u001b[38;5;28mself\u001b[39m\u001b[38;5;241m.\u001b[39mopt\u001b[38;5;241m.\u001b[39mset_hypers(lr\u001b[38;5;241m=\u001b[39m\u001b[38;5;28mself\u001b[39m\u001b[38;5;241m.\u001b[39mlr \u001b[38;5;28;01mif\u001b[39;00m lr \u001b[38;5;129;01mis\u001b[39;00m \u001b[38;5;28;01mNone\u001b[39;00m \u001b[38;5;28;01melse\u001b[39;00m lr)\n\u001b[1;32m    255\u001b[0m \u001b[38;5;28mself\u001b[39m\u001b[38;5;241m.\u001b[39mn_epoch \u001b[38;5;241m=\u001b[39m n_epoch\n\u001b[0;32m--> 256\u001b[0m \u001b[38;5;28;43mself\u001b[39;49m\u001b[38;5;241;43m.\u001b[39;49m\u001b[43m_with_events\u001b[49m\u001b[43m(\u001b[49m\u001b[38;5;28;43mself\u001b[39;49m\u001b[38;5;241;43m.\u001b[39;49m\u001b[43m_do_fit\u001b[49m\u001b[43m,\u001b[49m\u001b[43m \u001b[49m\u001b[38;5;124;43m'\u001b[39;49m\u001b[38;5;124;43mfit\u001b[39;49m\u001b[38;5;124;43m'\u001b[39;49m\u001b[43m,\u001b[49m\u001b[43m \u001b[49m\u001b[43mCancelFitException\u001b[49m\u001b[43m,\u001b[49m\u001b[43m \u001b[49m\u001b[38;5;28;43mself\u001b[39;49m\u001b[38;5;241;43m.\u001b[39;49m\u001b[43m_end_cleanup\u001b[49m\u001b[43m)\u001b[49m\n",
      "File \u001b[0;32m/tmp/fastai/fastai/learner.py:193\u001b[0m, in \u001b[0;36mLearner._with_events\u001b[0;34m(self, f, event_type, ex, final)\u001b[0m\n\u001b[1;32m    192\u001b[0m \u001b[38;5;28;01mdef\u001b[39;00m \u001b[38;5;21m_with_events\u001b[39m(\u001b[38;5;28mself\u001b[39m, f, event_type, ex, final\u001b[38;5;241m=\u001b[39mnoop):\n\u001b[0;32m--> 193\u001b[0m     \u001b[38;5;28;01mtry\u001b[39;00m: \u001b[38;5;28mself\u001b[39m(\u001b[38;5;124mf\u001b[39m\u001b[38;5;124m'\u001b[39m\u001b[38;5;124mbefore_\u001b[39m\u001b[38;5;132;01m{\u001b[39;00mevent_type\u001b[38;5;132;01m}\u001b[39;00m\u001b[38;5;124m'\u001b[39m);  \u001b[43mf\u001b[49m\u001b[43m(\u001b[49m\u001b[43m)\u001b[49m\n\u001b[1;32m    194\u001b[0m     \u001b[38;5;28;01mexcept\u001b[39;00m ex: \u001b[38;5;28mself\u001b[39m(\u001b[38;5;124mf\u001b[39m\u001b[38;5;124m'\u001b[39m\u001b[38;5;124mafter_cancel_\u001b[39m\u001b[38;5;132;01m{\u001b[39;00mevent_type\u001b[38;5;132;01m}\u001b[39;00m\u001b[38;5;124m'\u001b[39m)\n\u001b[1;32m    195\u001b[0m     \u001b[38;5;28mself\u001b[39m(\u001b[38;5;124mf\u001b[39m\u001b[38;5;124m'\u001b[39m\u001b[38;5;124mafter_\u001b[39m\u001b[38;5;132;01m{\u001b[39;00mevent_type\u001b[38;5;132;01m}\u001b[39;00m\u001b[38;5;124m'\u001b[39m);  final()\n",
      "File \u001b[0;32m/tmp/fastai/fastai/learner.py:245\u001b[0m, in \u001b[0;36mLearner._do_fit\u001b[0;34m(self)\u001b[0m\n\u001b[1;32m    243\u001b[0m \u001b[38;5;28;01mfor\u001b[39;00m epoch \u001b[38;5;129;01min\u001b[39;00m \u001b[38;5;28mrange\u001b[39m(\u001b[38;5;28mself\u001b[39m\u001b[38;5;241m.\u001b[39mn_epoch):\n\u001b[1;32m    244\u001b[0m     \u001b[38;5;28mself\u001b[39m\u001b[38;5;241m.\u001b[39mepoch\u001b[38;5;241m=\u001b[39mepoch\n\u001b[0;32m--> 245\u001b[0m     \u001b[38;5;28;43mself\u001b[39;49m\u001b[38;5;241;43m.\u001b[39;49m\u001b[43m_with_events\u001b[49m\u001b[43m(\u001b[49m\u001b[38;5;28;43mself\u001b[39;49m\u001b[38;5;241;43m.\u001b[39;49m\u001b[43m_do_epoch\u001b[49m\u001b[43m,\u001b[49m\u001b[43m \u001b[49m\u001b[38;5;124;43m'\u001b[39;49m\u001b[38;5;124;43mepoch\u001b[39;49m\u001b[38;5;124;43m'\u001b[39;49m\u001b[43m,\u001b[49m\u001b[43m \u001b[49m\u001b[43mCancelEpochException\u001b[49m\u001b[43m)\u001b[49m\n",
      "File \u001b[0;32m/tmp/fastai/fastai/learner.py:193\u001b[0m, in \u001b[0;36mLearner._with_events\u001b[0;34m(self, f, event_type, ex, final)\u001b[0m\n\u001b[1;32m    192\u001b[0m \u001b[38;5;28;01mdef\u001b[39;00m \u001b[38;5;21m_with_events\u001b[39m(\u001b[38;5;28mself\u001b[39m, f, event_type, ex, final\u001b[38;5;241m=\u001b[39mnoop):\n\u001b[0;32m--> 193\u001b[0m     \u001b[38;5;28;01mtry\u001b[39;00m: \u001b[38;5;28mself\u001b[39m(\u001b[38;5;124mf\u001b[39m\u001b[38;5;124m'\u001b[39m\u001b[38;5;124mbefore_\u001b[39m\u001b[38;5;132;01m{\u001b[39;00mevent_type\u001b[38;5;132;01m}\u001b[39;00m\u001b[38;5;124m'\u001b[39m);  \u001b[43mf\u001b[49m\u001b[43m(\u001b[49m\u001b[43m)\u001b[49m\n\u001b[1;32m    194\u001b[0m     \u001b[38;5;28;01mexcept\u001b[39;00m ex: \u001b[38;5;28mself\u001b[39m(\u001b[38;5;124mf\u001b[39m\u001b[38;5;124m'\u001b[39m\u001b[38;5;124mafter_cancel_\u001b[39m\u001b[38;5;132;01m{\u001b[39;00mevent_type\u001b[38;5;132;01m}\u001b[39;00m\u001b[38;5;124m'\u001b[39m)\n\u001b[1;32m    195\u001b[0m     \u001b[38;5;28mself\u001b[39m(\u001b[38;5;124mf\u001b[39m\u001b[38;5;124m'\u001b[39m\u001b[38;5;124mafter_\u001b[39m\u001b[38;5;132;01m{\u001b[39;00mevent_type\u001b[38;5;132;01m}\u001b[39;00m\u001b[38;5;124m'\u001b[39m);  final()\n",
      "File \u001b[0;32m/tmp/fastai/fastai/learner.py:239\u001b[0m, in \u001b[0;36mLearner._do_epoch\u001b[0;34m(self)\u001b[0m\n\u001b[1;32m    238\u001b[0m \u001b[38;5;28;01mdef\u001b[39;00m \u001b[38;5;21m_do_epoch\u001b[39m(\u001b[38;5;28mself\u001b[39m):\n\u001b[0;32m--> 239\u001b[0m     \u001b[38;5;28;43mself\u001b[39;49m\u001b[38;5;241;43m.\u001b[39;49m\u001b[43m_do_epoch_train\u001b[49m\u001b[43m(\u001b[49m\u001b[43m)\u001b[49m\n\u001b[1;32m    240\u001b[0m     \u001b[38;5;28mself\u001b[39m\u001b[38;5;241m.\u001b[39m_do_epoch_validate()\n",
      "File \u001b[0;32m/tmp/fastai/fastai/learner.py:231\u001b[0m, in \u001b[0;36mLearner._do_epoch_train\u001b[0;34m(self)\u001b[0m\n\u001b[1;32m    229\u001b[0m \u001b[38;5;28;01mdef\u001b[39;00m \u001b[38;5;21m_do_epoch_train\u001b[39m(\u001b[38;5;28mself\u001b[39m):\n\u001b[1;32m    230\u001b[0m     \u001b[38;5;28mself\u001b[39m\u001b[38;5;241m.\u001b[39mdl \u001b[38;5;241m=\u001b[39m \u001b[38;5;28mself\u001b[39m\u001b[38;5;241m.\u001b[39mdls\u001b[38;5;241m.\u001b[39mtrain\n\u001b[0;32m--> 231\u001b[0m     \u001b[38;5;28;43mself\u001b[39;49m\u001b[38;5;241;43m.\u001b[39;49m\u001b[43m_with_events\u001b[49m\u001b[43m(\u001b[49m\u001b[38;5;28;43mself\u001b[39;49m\u001b[38;5;241;43m.\u001b[39;49m\u001b[43mall_batches\u001b[49m\u001b[43m,\u001b[49m\u001b[43m \u001b[49m\u001b[38;5;124;43m'\u001b[39;49m\u001b[38;5;124;43mtrain\u001b[39;49m\u001b[38;5;124;43m'\u001b[39;49m\u001b[43m,\u001b[49m\u001b[43m \u001b[49m\u001b[43mCancelTrainException\u001b[49m\u001b[43m)\u001b[49m\n",
      "File \u001b[0;32m/tmp/fastai/fastai/learner.py:193\u001b[0m, in \u001b[0;36mLearner._with_events\u001b[0;34m(self, f, event_type, ex, final)\u001b[0m\n\u001b[1;32m    192\u001b[0m \u001b[38;5;28;01mdef\u001b[39;00m \u001b[38;5;21m_with_events\u001b[39m(\u001b[38;5;28mself\u001b[39m, f, event_type, ex, final\u001b[38;5;241m=\u001b[39mnoop):\n\u001b[0;32m--> 193\u001b[0m     \u001b[38;5;28;01mtry\u001b[39;00m: \u001b[38;5;28mself\u001b[39m(\u001b[38;5;124mf\u001b[39m\u001b[38;5;124m'\u001b[39m\u001b[38;5;124mbefore_\u001b[39m\u001b[38;5;132;01m{\u001b[39;00mevent_type\u001b[38;5;132;01m}\u001b[39;00m\u001b[38;5;124m'\u001b[39m);  \u001b[43mf\u001b[49m\u001b[43m(\u001b[49m\u001b[43m)\u001b[49m\n\u001b[1;32m    194\u001b[0m     \u001b[38;5;28;01mexcept\u001b[39;00m ex: \u001b[38;5;28mself\u001b[39m(\u001b[38;5;124mf\u001b[39m\u001b[38;5;124m'\u001b[39m\u001b[38;5;124mafter_cancel_\u001b[39m\u001b[38;5;132;01m{\u001b[39;00mevent_type\u001b[38;5;132;01m}\u001b[39;00m\u001b[38;5;124m'\u001b[39m)\n\u001b[1;32m    195\u001b[0m     \u001b[38;5;28mself\u001b[39m(\u001b[38;5;124mf\u001b[39m\u001b[38;5;124m'\u001b[39m\u001b[38;5;124mafter_\u001b[39m\u001b[38;5;132;01m{\u001b[39;00mevent_type\u001b[38;5;132;01m}\u001b[39;00m\u001b[38;5;124m'\u001b[39m);  final()\n",
      "File \u001b[0;32m/tmp/fastai/fastai/learner.py:199\u001b[0m, in \u001b[0;36mLearner.all_batches\u001b[0;34m(self)\u001b[0m\n\u001b[1;32m    197\u001b[0m \u001b[38;5;28;01mdef\u001b[39;00m \u001b[38;5;21mall_batches\u001b[39m(\u001b[38;5;28mself\u001b[39m):\n\u001b[1;32m    198\u001b[0m     \u001b[38;5;28mself\u001b[39m\u001b[38;5;241m.\u001b[39mn_iter \u001b[38;5;241m=\u001b[39m \u001b[38;5;28mlen\u001b[39m(\u001b[38;5;28mself\u001b[39m\u001b[38;5;241m.\u001b[39mdl)\n\u001b[0;32m--> 199\u001b[0m     \u001b[38;5;28;01mfor\u001b[39;00m o \u001b[38;5;129;01min\u001b[39;00m \u001b[38;5;28menumerate\u001b[39m(\u001b[38;5;28mself\u001b[39m\u001b[38;5;241m.\u001b[39mdl): \u001b[38;5;28;43mself\u001b[39;49m\u001b[38;5;241;43m.\u001b[39;49m\u001b[43mone_batch\u001b[49m\u001b[43m(\u001b[49m\u001b[38;5;241;43m*\u001b[39;49m\u001b[43mo\u001b[49m\u001b[43m)\u001b[49m\n",
      "File \u001b[0;32m/tmp/fastai/fastai/learner.py:227\u001b[0m, in \u001b[0;36mLearner.one_batch\u001b[0;34m(self, i, b)\u001b[0m\n\u001b[1;32m    225\u001b[0m b \u001b[38;5;241m=\u001b[39m \u001b[38;5;28mself\u001b[39m\u001b[38;5;241m.\u001b[39m_set_device(b)\n\u001b[1;32m    226\u001b[0m \u001b[38;5;28mself\u001b[39m\u001b[38;5;241m.\u001b[39m_split(b)\n\u001b[0;32m--> 227\u001b[0m \u001b[38;5;28;43mself\u001b[39;49m\u001b[38;5;241;43m.\u001b[39;49m\u001b[43m_with_events\u001b[49m\u001b[43m(\u001b[49m\u001b[38;5;28;43mself\u001b[39;49m\u001b[38;5;241;43m.\u001b[39;49m\u001b[43m_do_one_batch\u001b[49m\u001b[43m,\u001b[49m\u001b[43m \u001b[49m\u001b[38;5;124;43m'\u001b[39;49m\u001b[38;5;124;43mbatch\u001b[39;49m\u001b[38;5;124;43m'\u001b[39;49m\u001b[43m,\u001b[49m\u001b[43m \u001b[49m\u001b[43mCancelBatchException\u001b[49m\u001b[43m)\u001b[49m\n",
      "File \u001b[0;32m/tmp/fastai/fastai/learner.py:193\u001b[0m, in \u001b[0;36mLearner._with_events\u001b[0;34m(self, f, event_type, ex, final)\u001b[0m\n\u001b[1;32m    192\u001b[0m \u001b[38;5;28;01mdef\u001b[39;00m \u001b[38;5;21m_with_events\u001b[39m(\u001b[38;5;28mself\u001b[39m, f, event_type, ex, final\u001b[38;5;241m=\u001b[39mnoop):\n\u001b[0;32m--> 193\u001b[0m     \u001b[38;5;28;01mtry\u001b[39;00m: \u001b[38;5;28mself\u001b[39m(\u001b[38;5;124mf\u001b[39m\u001b[38;5;124m'\u001b[39m\u001b[38;5;124mbefore_\u001b[39m\u001b[38;5;132;01m{\u001b[39;00mevent_type\u001b[38;5;132;01m}\u001b[39;00m\u001b[38;5;124m'\u001b[39m);  \u001b[43mf\u001b[49m\u001b[43m(\u001b[49m\u001b[43m)\u001b[49m\n\u001b[1;32m    194\u001b[0m     \u001b[38;5;28;01mexcept\u001b[39;00m ex: \u001b[38;5;28mself\u001b[39m(\u001b[38;5;124mf\u001b[39m\u001b[38;5;124m'\u001b[39m\u001b[38;5;124mafter_cancel_\u001b[39m\u001b[38;5;132;01m{\u001b[39;00mevent_type\u001b[38;5;132;01m}\u001b[39;00m\u001b[38;5;124m'\u001b[39m)\n\u001b[1;32m    195\u001b[0m     \u001b[38;5;28mself\u001b[39m(\u001b[38;5;124mf\u001b[39m\u001b[38;5;124m'\u001b[39m\u001b[38;5;124mafter_\u001b[39m\u001b[38;5;132;01m{\u001b[39;00mevent_type\u001b[38;5;132;01m}\u001b[39;00m\u001b[38;5;124m'\u001b[39m);  final()\n",
      "File \u001b[0;32m/tmp/fastai/fastai/learner.py:213\u001b[0m, in \u001b[0;36mLearner._do_one_batch\u001b[0;34m(self)\u001b[0m\n\u001b[1;32m    211\u001b[0m \u001b[38;5;28;01mif\u001b[39;00m \u001b[38;5;129;01mnot\u001b[39;00m \u001b[38;5;28mself\u001b[39m\u001b[38;5;241m.\u001b[39mtraining \u001b[38;5;129;01mor\u001b[39;00m \u001b[38;5;129;01mnot\u001b[39;00m \u001b[38;5;28mlen\u001b[39m(\u001b[38;5;28mself\u001b[39m\u001b[38;5;241m.\u001b[39myb): \u001b[38;5;28;01mreturn\u001b[39;00m\n\u001b[1;32m    212\u001b[0m \u001b[38;5;28mself\u001b[39m\u001b[38;5;241m.\u001b[39m_with_events(\u001b[38;5;28mself\u001b[39m\u001b[38;5;241m.\u001b[39m_backward, \u001b[38;5;124m'\u001b[39m\u001b[38;5;124mbackward\u001b[39m\u001b[38;5;124m'\u001b[39m, CancelBackwardException)\n\u001b[0;32m--> 213\u001b[0m \u001b[38;5;28;43mself\u001b[39;49m\u001b[38;5;241;43m.\u001b[39;49m\u001b[43m_with_events\u001b[49m\u001b[43m(\u001b[49m\u001b[38;5;28;43mself\u001b[39;49m\u001b[38;5;241;43m.\u001b[39;49m\u001b[43m_step\u001b[49m\u001b[43m,\u001b[49m\u001b[43m \u001b[49m\u001b[38;5;124;43m'\u001b[39;49m\u001b[38;5;124;43mstep\u001b[39;49m\u001b[38;5;124;43m'\u001b[39;49m\u001b[43m,\u001b[49m\u001b[43m \u001b[49m\u001b[43mCancelStepException\u001b[49m\u001b[43m)\u001b[49m\n\u001b[1;32m    214\u001b[0m \u001b[38;5;28mself\u001b[39m\u001b[38;5;241m.\u001b[39mopt\u001b[38;5;241m.\u001b[39mzero_grad()\n",
      "File \u001b[0;32m/tmp/fastai/fastai/learner.py:193\u001b[0m, in \u001b[0;36mLearner._with_events\u001b[0;34m(self, f, event_type, ex, final)\u001b[0m\n\u001b[1;32m    192\u001b[0m \u001b[38;5;28;01mdef\u001b[39;00m \u001b[38;5;21m_with_events\u001b[39m(\u001b[38;5;28mself\u001b[39m, f, event_type, ex, final\u001b[38;5;241m=\u001b[39mnoop):\n\u001b[0;32m--> 193\u001b[0m     \u001b[38;5;28;01mtry\u001b[39;00m: \u001b[38;5;28mself\u001b[39m(\u001b[38;5;124mf\u001b[39m\u001b[38;5;124m'\u001b[39m\u001b[38;5;124mbefore_\u001b[39m\u001b[38;5;132;01m{\u001b[39;00mevent_type\u001b[38;5;132;01m}\u001b[39;00m\u001b[38;5;124m'\u001b[39m);  \u001b[43mf\u001b[49m\u001b[43m(\u001b[49m\u001b[43m)\u001b[49m\n\u001b[1;32m    194\u001b[0m     \u001b[38;5;28;01mexcept\u001b[39;00m ex: \u001b[38;5;28mself\u001b[39m(\u001b[38;5;124mf\u001b[39m\u001b[38;5;124m'\u001b[39m\u001b[38;5;124mafter_cancel_\u001b[39m\u001b[38;5;132;01m{\u001b[39;00mevent_type\u001b[38;5;132;01m}\u001b[39;00m\u001b[38;5;124m'\u001b[39m)\n\u001b[1;32m    195\u001b[0m     \u001b[38;5;28mself\u001b[39m(\u001b[38;5;124mf\u001b[39m\u001b[38;5;124m'\u001b[39m\u001b[38;5;124mafter_\u001b[39m\u001b[38;5;132;01m{\u001b[39;00mevent_type\u001b[38;5;132;01m}\u001b[39;00m\u001b[38;5;124m'\u001b[39m);  final()\n",
      "File \u001b[0;32m/tmp/fastai/fastai/learner.py:202\u001b[0m, in \u001b[0;36mLearner._step\u001b[0;34m(self)\u001b[0m\n\u001b[0;32m--> 202\u001b[0m \u001b[38;5;28;01mdef\u001b[39;00m \u001b[38;5;21m_step\u001b[39m(\u001b[38;5;28mself\u001b[39m): \u001b[38;5;28;43mself\u001b[39;49m\u001b[38;5;241;43m.\u001b[39;49m\u001b[43mopt\u001b[49m\u001b[38;5;241;43m.\u001b[39;49m\u001b[43mstep\u001b[49m\u001b[43m(\u001b[49m\u001b[43m)\u001b[49m\n",
      "File \u001b[0;32m/tmp/fastai/fastai/optimizer.py:109\u001b[0m, in \u001b[0;36mOptimizer.step\u001b[0;34m(self, closure)\u001b[0m\n\u001b[1;32m    107\u001b[0m \u001b[38;5;28;01mif\u001b[39;00m closure \u001b[38;5;129;01mis\u001b[39;00m \u001b[38;5;129;01mnot\u001b[39;00m \u001b[38;5;28;01mNone\u001b[39;00m: \u001b[38;5;28;01mraise\u001b[39;00m \u001b[38;5;167;01mNotImplementedError\u001b[39;00m(\u001b[38;5;124m\"\u001b[39m\u001b[38;5;124mfastai optimizers currently do not support closure\u001b[39m\u001b[38;5;124m\"\u001b[39m)\n\u001b[1;32m    108\u001b[0m \u001b[38;5;28;01mfor\u001b[39;00m p,pg,state,hyper \u001b[38;5;129;01min\u001b[39;00m \u001b[38;5;28mself\u001b[39m\u001b[38;5;241m.\u001b[39mall_params(with_grad\u001b[38;5;241m=\u001b[39m\u001b[38;5;28;01mTrue\u001b[39;00m):\n\u001b[0;32m--> 109\u001b[0m     \u001b[38;5;28;01mfor\u001b[39;00m cb \u001b[38;5;129;01min\u001b[39;00m \u001b[38;5;28mself\u001b[39m\u001b[38;5;241m.\u001b[39mcbs: state \u001b[38;5;241m=\u001b[39m _update(state, \u001b[43mcb\u001b[49m\u001b[43m(\u001b[49m\u001b[43mp\u001b[49m\u001b[43m,\u001b[49m\u001b[43m \u001b[49m\u001b[38;5;241;43m*\u001b[39;49m\u001b[38;5;241;43m*\u001b[39;49m\u001b[43m{\u001b[49m\u001b[38;5;241;43m*\u001b[39;49m\u001b[38;5;241;43m*\u001b[39;49m\u001b[43mstate\u001b[49m\u001b[43m,\u001b[49m\u001b[43m \u001b[49m\u001b[38;5;241;43m*\u001b[39;49m\u001b[38;5;241;43m*\u001b[39;49m\u001b[43mhyper\u001b[49m\u001b[43m}\u001b[49m\u001b[43m)\u001b[49m)\n\u001b[1;32m    110\u001b[0m     \u001b[38;5;28mself\u001b[39m\u001b[38;5;241m.\u001b[39mstate[p] \u001b[38;5;241m=\u001b[39m state\n",
      "File \u001b[0;32m/tmp/fastai/fastai/optimizer.py:208\u001b[0m, in \u001b[0;36madam_step\u001b[0;34m(p, lr, mom, step, sqr_mom, grad_avg, sqr_avg, eps, **kwargs)\u001b[0m\n\u001b[1;32m    206\u001b[0m debias1 \u001b[38;5;241m=\u001b[39m debias(mom,     \u001b[38;5;241m1\u001b[39m\u001b[38;5;241m-\u001b[39mmom,     step)\n\u001b[1;32m    207\u001b[0m debias2 \u001b[38;5;241m=\u001b[39m debias(sqr_mom, \u001b[38;5;241m1\u001b[39m\u001b[38;5;241m-\u001b[39msqr_mom, step)\n\u001b[0;32m--> 208\u001b[0m p\u001b[38;5;241m.\u001b[39mdata\u001b[38;5;241m.\u001b[39maddcdiv_(grad_avg, \u001b[43m(\u001b[49m\u001b[43msqr_avg\u001b[49m\u001b[38;5;241;43m/\u001b[39;49m\u001b[43mdebias2\u001b[49m\u001b[43m)\u001b[49m\u001b[38;5;241;43m.\u001b[39;49m\u001b[43msqrt\u001b[49m\u001b[43m(\u001b[49m\u001b[43m)\u001b[49m \u001b[38;5;241m+\u001b[39m eps, value \u001b[38;5;241m=\u001b[39m \u001b[38;5;241m-\u001b[39mlr \u001b[38;5;241m/\u001b[39m debias1)\n\u001b[1;32m    209\u001b[0m \u001b[38;5;28;01mreturn\u001b[39;00m p\n",
      "\u001b[0;31mKeyboardInterrupt\u001b[0m: "
     ]
    }
   ],
   "source": [
    "learner.fit_one_cycle(2, lr_max=slice(7e-6, 7e-5))"
   ]
  },
  {
   "cell_type": "code",
   "execution_count": 15,
   "id": "5688945d",
   "metadata": {},
   "outputs": [
    {
     "data": {
      "text/plain": [
       "Path('models/Resnet18-6chnls-trained-3.pth')"
      ]
     },
     "execution_count": 15,
     "metadata": {},
     "output_type": "execute_result"
    }
   ],
   "source": [
    "learner.save('Resnet18-6chnls-trained-3')"
   ]
  },
  {
   "cell_type": "code",
   "execution_count": null,
   "id": "6ed9205a-4cb9-4356-88d1-6bcfa359ac2a",
   "metadata": {},
   "outputs": [],
   "source": []
  },
  {
   "cell_type": "code",
   "execution_count": null,
   "id": "b8f4f812-53ff-4a97-b9b8-ab643b7e01c5",
   "metadata": {},
   "outputs": [],
   "source": []
  },
  {
   "cell_type": "code",
   "execution_count": null,
   "id": "14629ec9-8d9d-4a9b-a29a-d86697ddf088",
   "metadata": {},
   "outputs": [],
   "source": []
  },
  {
   "cell_type": "code",
   "execution_count": null,
   "id": "6c3d3a8f-69db-41a6-bd47-6b33d8e6b3d5",
   "metadata": {},
   "outputs": [],
   "source": []
  },
  {
   "cell_type": "code",
   "execution_count": null,
   "id": "85de3110-e13b-416a-9f5f-eb699b1dcb82",
   "metadata": {},
   "outputs": [
    {
     "data": {
      "text/html": [
       "\n",
       "<style>\n",
       "    /* Turns off some styling */\n",
       "    progress {\n",
       "        /* gets rid of default border in Firefox and Opera. */\n",
       "        border: none;\n",
       "        /* Needs to be in here for Safari polyfill so background images work as expected. */\n",
       "        background-size: auto;\n",
       "    }\n",
       "    progress:not([value]), progress:not([value])::-webkit-progress-bar {\n",
       "        background: repeating-linear-gradient(45deg, #7e7e7e, #7e7e7e 10px, #5c5c5c 10px, #5c5c5c 20px);\n",
       "    }\n",
       "    .progress-bar-interrupted, .progress-bar-interrupted::-webkit-progress-bar {\n",
       "        background: #F44336;\n",
       "    }\n",
       "</style>\n"
      ],
      "text/plain": [
       "<IPython.core.display.HTML object>"
      ]
     },
     "metadata": {},
     "output_type": "display_data"
    },
    {
     "data": {
      "text/html": [
       "\n",
       "    <div>\n",
       "      <progress value='0' class='' max='1' style='width:300px; height:20px; vertical-align: middle;'></progress>\n",
       "      0.00% [0/1 00:00&lt;?]\n",
       "    </div>\n",
       "    \n",
       "<table border=\"1\" class=\"dataframe\">\n",
       "  <thead>\n",
       "    <tr style=\"text-align: left;\">\n",
       "      <th>epoch</th>\n",
       "      <th>train_loss</th>\n",
       "      <th>valid_loss</th>\n",
       "      <th>time</th>\n",
       "    </tr>\n",
       "  </thead>\n",
       "  <tbody>\n",
       "  </tbody>\n",
       "</table><p>\n",
       "\n",
       "    <div>\n",
       "      <progress value='668' class='' max='7067' style='width:300px; height:20px; vertical-align: middle;'></progress>\n",
       "      9.45% [668/7067 10:51&lt;1:44:04 0.1058]\n",
       "    </div>\n",
       "    "
      ],
      "text/plain": [
       "<IPython.core.display.HTML object>"
      ]
     },
     "metadata": {},
     "output_type": "display_data"
    },
    {
     "name": "stdout",
     "output_type": "stream",
     "text": [
      "Cleared image 105\n",
      "Loading image 1 in background\n",
      "Loaded sucessfully\n",
      "Cleared image 0\n",
      "Loading image 2 in background\n",
      "Loaded sucessfully\n",
      "Cleared image 1\n",
      "Loading image 3 in background\n",
      "Loaded sucessfully\n",
      "Cleared image 2\n",
      "Loading image 4 in background\n",
      "Loaded sucessfully\n",
      "Cleared image 3\n",
      "Loading image 5 in background\n",
      "Loaded sucessfully\n",
      "Cleared image 4\n",
      "Loading image 6 in background\n",
      "Loaded sucessfully\n",
      "Cleared image 5\n",
      "Loading image 7 in background\n",
      "Loaded sucessfully\n",
      "Cleared image 6\n",
      "Loading image 8 in background\n",
      "Loaded sucessfully\n",
      "Cleared image 7\n",
      "Loading image 9 in background\n",
      "Loaded sucessfully\n",
      "Cleared image 8\n",
      "Loading image 10 in background\n",
      "Loaded sucessfully\n",
      "Cleared image 9\n",
      "Loading image 11 in background\n"
     ]
    }
   ],
   "source": [
    "learner.freeze()\n",
    "learner.fit_one_cycle(1, lr_max=3e-5)\n",
    "learner.save('Resnet18-6chnls-untrained3')"
   ]
  },
  {
   "cell_type": "code",
   "execution_count": null,
   "id": "36dcf1b8-459f-4a36-9e4b-5928a17387ac",
   "metadata": {},
   "outputs": [],
   "source": []
  },
  {
   "cell_type": "markdown",
   "id": "76552f92",
   "metadata": {},
   "source": [
    "### Como ver os resultados???"
   ]
  },
  {
   "cell_type": "code",
   "execution_count": 13,
   "id": "8b78156b",
   "metadata": {},
   "outputs": [],
   "source": [
    "from waternet.wnvisualizer import WNVisualizer"
   ]
  },
  {
   "cell_type": "code",
   "execution_count": null,
   "id": "eb784d9b-8d66-45a9-ad68-044e16b9dbfb",
   "metadata": {},
   "outputs": [],
   "source": [
    "learner = unet_learner(\n",
    "    dls, arch=resnet18, pretrained=False, normalize=False, n_in=6, n_out=3, loss_func=CrossEntropyLossFlat(axis=1)\n",
    ")\n",
    "learner.load('Resnet18-6chnls-trained')"
   ]
  },
  {
   "cell_type": "code",
   "execution_count": 16,
   "id": "27bf9909-a3f3-4318-8d9d-bdacafe47289",
   "metadata": {},
   "outputs": [],
   "source": [
    "model = learner.cpu()"
   ]
  },
  {
   "cell_type": "code",
   "execution_count": 14,
   "id": "9339b291-7ace-4ebd-863a-a409ec72b0b5",
   "metadata": {},
   "outputs": [],
   "source": [
    "visu = WNVisualizer(dls.valid, learner)"
   ]
  },
  {
   "cell_type": "code",
   "execution_count": 17,
   "id": "2baeb490-5f8e-4e27-ba1d-dabf41210a95",
   "metadata": {},
   "outputs": [
    {
     "data": {
      "text/plain": [
       "(6, 512, 512)"
      ]
     },
     "execution_count": 17,
     "metadata": {},
     "output_type": "execute_result"
    }
   ],
   "source": [
    "visu.predict_item(0)['item'].shape"
   ]
  },
  {
   "cell_type": "code",
   "execution_count": null,
   "id": "f52d9820-df1d-45e3-91c6-06d30f17c30e",
   "metadata": {},
   "outputs": [
    {
     "name": "stdout",
     "output_type": "stream",
     "text": [
      "Loading image 1 in background\n"
     ]
    }
   ],
   "source": [
    "visu.show_pred(100)"
   ]
  },
  {
   "cell_type": "code",
   "execution_count": null,
   "id": "ce509054-fd0d-4f1d-925b-133381177c35",
   "metadata": {},
   "outputs": [],
   "source": [
    "dls.valid.dataset.loaded_status"
   ]
  },
  {
   "cell_type": "code",
   "execution_count": 17,
   "id": "151f4772-ddf8-45ef-b253-9f3c0a9eb49b",
   "metadata": {},
   "outputs": [
    {
     "data": {
      "text/plain": [
       "2"
      ]
     },
     "execution_count": 17,
     "metadata": {},
     "output_type": "execute_result"
    }
   ],
   "source": [
    "2"
   ]
  },
  {
   "cell_type": "code",
   "execution_count": null,
   "id": "ca628892-0419-4145-943e-d5ceb02ae592",
   "metadata": {},
   "outputs": [],
   "source": []
  }
 ],
 "metadata": {
  "kernelspec": {
   "display_name": "Python 3 (ipykernel)",
   "language": "python",
   "name": "python3"
  },
  "language_info": {
   "codemirror_mode": {
    "name": "ipython",
    "version": 3
   },
   "file_extension": ".py",
   "mimetype": "text/x-python",
   "name": "python",
   "nbconvert_exporter": "python",
   "pygments_lexer": "ipython3",
   "version": "3.10.6"
  },
  "vscode": {
   "interpreter": {
    "hash": "b8d564a5e78fa920f6d109e3b6389da476a9ea846c62606ff1aca0006ea12436"
   }
  }
 },
 "nbformat": 4,
 "nbformat_minor": 5
}
