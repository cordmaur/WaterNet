{
 "cells": [
  {
   "cell_type": "markdown",
   "id": "d003bde1-3fa5-40f3-82c5-500c83f7743c",
   "metadata": {},
   "source": [
    "# Fastai Learner"
   ]
  },
  {
   "cell_type": "markdown",
   "id": "fc880c3c",
   "metadata": {},
   "source": [
    "In the previous notebooks we've seen how to create Datasets and Dataloaders.\n",
    "Now we will try to wrap everything together to create a learner."
   ]
  },
  {
   "cell_type": "code",
   "execution_count": 1,
   "id": "64bdf6e9-265f-43e4-8d25-8abbbd5d63c2",
   "metadata": {},
   "outputs": [],
   "source": [
    "%load_ext autoreload\n",
    "%autoreload 2\n",
    "\n",
    "from waternet.wndataset import WNDataSet\n",
    "from fastai.vision.all import *\n"
   ]
  },
  {
   "cell_type": "markdown",
   "id": "4b54a6fe",
   "metadata": {},
   "source": [
    "### Creating the Datasets"
   ]
  },
  {
   "cell_type": "code",
   "execution_count": 2,
   "id": "77685cbb",
   "metadata": {},
   "outputs": [
    {
     "data": {
      "application/vnd.jupyter.widget-view+json": {
       "model_id": "269519912b174e36beff05ae0075d7d5",
       "version_major": 2,
       "version_minor": 0
      },
      "text/plain": [
       "Matching imgs/masks:   0%|          | 0/11 [00:00<?, ?it/s]"
      ]
     },
     "metadata": {},
     "output_type": "display_data"
    },
    {
     "data": {
      "application/vnd.jupyter.widget-view+json": {
       "model_id": "65a34f908e58427fb4a5b0bcfa89e85e",
       "version_major": 2,
       "version_minor": 0
      },
      "text/plain": [
       "Matching imgs/masks:   0%|          | 0/1 [00:00<?, ?it/s]"
      ]
     },
     "metadata": {},
     "output_type": "display_data"
    },
    {
     "name": "stdout",
     "output_type": "stream",
     "text": [
      "WNDataset instance with 11 images\n",
      "Loaded: 0 items\n",
      "Empty: 11 items\n",
      "Loading: 0 items\n",
      "\n",
      "WNDataset instance with 1 images\n",
      "Loaded: 0 items\n",
      "Empty: 1 items\n",
      "Loading: 0 items\n",
      "\n"
     ]
    }
   ],
   "source": [
    "# default config for shape, size and step\n",
    "config = dict(\n",
    "    shape=(5490, 5490),\n",
    "    patch_size=(512, 512),\n",
    "    step=262,    \n",
    ")\n",
    "\n",
    "# 2018 october for training\n",
    "train_ds = WNDataSet.from_masks(\n",
    "    masks_path='d:/temp/22KEV/',\n",
    "    pattern='*20181*.tif',\n",
    "    **config\n",
    ")\n",
    "\n",
    "# a single image for the validation\n",
    "valid_ds = WNDataSet.from_masks(\n",
    "    masks_path='d:/temp/22KEV/',\n",
    "    pattern='*20210221T133219*.tif',\n",
    "    **config\n",
    ")\n",
    "\n",
    "train_ds.bands = ['B11', 'B12']\n",
    "valid_ds.bands = ['B11', 'B12']\n",
    "\n",
    "print(train_ds)\n",
    "print(valid_ds)"
   ]
  },
  {
   "cell_type": "markdown",
   "id": "94a0695a",
   "metadata": {},
   "source": [
    "If we try to access one item, without proper initialization..."
   ]
  },
  {
   "cell_type": "markdown",
   "id": "3fc2874c",
   "metadata": {},
   "source": [
    "### Creating Dataloaders"
   ]
  },
  {
   "cell_type": "code",
   "execution_count": 3,
   "id": "46184e42",
   "metadata": {},
   "outputs": [],
   "source": [
    "# Create two dataloaders (for training and validation)\n",
    "# Put it in the GPU\n",
    "dls = DataLoaders(\n",
    "    DataLoader(train_ds, bs=4),\n",
    "    DataLoader(valid_ds, bs=4)\n",
    ")"
   ]
  },
  {
   "cell_type": "code",
   "execution_count": 4,
   "id": "a5017b54",
   "metadata": {},
   "outputs": [
    {
     "data": {
      "text/plain": [
       "device(type='cpu')"
      ]
     },
     "execution_count": 4,
     "metadata": {},
     "output_type": "execute_result"
    }
   ],
   "source": [
    "m, t = dls.valid.one_batch()\n",
    "m.device"
   ]
  },
  {
   "cell_type": "code",
   "execution_count": 5,
   "id": "6007071f",
   "metadata": {},
   "outputs": [
    {
     "name": "stdout",
     "output_type": "stream",
     "text": [
      "Loading image 1 in background\n"
     ]
    },
    {
     "data": {
      "text/plain": [
       "torch.Size([4, 512, 512])"
      ]
     },
     "execution_count": 5,
     "metadata": {},
     "output_type": "execute_result"
    }
   ],
   "source": [
    "dls.train.one_batch()[1].shape"
   ]
  },
  {
   "cell_type": "markdown",
   "id": "b584777c",
   "metadata": {},
   "source": [
    "### Creating the Learner"
   ]
  },
  {
   "cell_type": "code",
   "execution_count": 6,
   "id": "615994bc",
   "metadata": {},
   "outputs": [],
   "source": [
    "import pdb\n",
    "def loss_fn(pred, targ):\n",
    "    return torch.nn.functional.cross_entropy(pred, targ.squeeze(1).type(torch.long))\n",
    "\n",
    "# CrossEntropyLossFlat(axis=1)"
   ]
  },
  {
   "cell_type": "code",
   "execution_count": 7,
   "id": "8da54fd4",
   "metadata": {},
   "outputs": [
    {
     "name": "stderr",
     "output_type": "stream",
     "text": [
      "d:\\Programs\\miniconda3\\envs\\fastai\\lib\\site-packages\\torchvision\\models\\_utils.py:208: UserWarning: The parameter 'pretrained' is deprecated since 0.13 and will be removed in 0.15, please use 'weights' instead.\n",
      "  warnings.warn(\n",
      "d:\\Programs\\miniconda3\\envs\\fastai\\lib\\site-packages\\torchvision\\models\\_utils.py:223: UserWarning: Arguments other than a weight enum or `None` for 'weights' are deprecated since 0.13 and will be removed in 0.15. The current behavior is equivalent to passing `weights=ResNet18_Weights.IMAGENET1K_V1`. You can also use `weights=ResNet18_Weights.DEFAULT` to get the most up-to-date weights.\n",
      "  warnings.warn(msg)\n"
     ]
    }
   ],
   "source": [
    "learner = unet_learner(dls, arch=resnet18, normalize=False, n_in=2, n_out=3, loss_func=loss_fn)\n",
    "# cuda_model = learner.cuda()"
   ]
  },
  {
   "cell_type": "markdown",
   "id": "d7a63d89",
   "metadata": {},
   "source": [
    "### Checking model and predictions"
   ]
  },
  {
   "cell_type": "code",
   "execution_count": 10,
   "id": "b50329cd",
   "metadata": {},
   "outputs": [
    {
     "data": {
      "text/html": [
       "\n",
       "<style>\n",
       "    /* Turns off some styling */\n",
       "    progress {\n",
       "        /* gets rid of default border in Firefox and Opera. */\n",
       "        border: none;\n",
       "        /* Needs to be in here for Safari polyfill so background images work as expected. */\n",
       "        background-size: auto;\n",
       "    }\n",
       "    progress:not([value]), progress:not([value])::-webkit-progress-bar {\n",
       "        background: repeating-linear-gradient(45deg, #7e7e7e, #7e7e7e 10px, #5c5c5c 10px, #5c5c5c 20px);\n",
       "    }\n",
       "    .progress-bar-interrupted, .progress-bar-interrupted::-webkit-progress-bar {\n",
       "        background: #F44336;\n",
       "    }\n",
       "</style>\n"
      ],
      "text/plain": [
       "<IPython.core.display.HTML object>"
      ]
     },
     "metadata": {},
     "output_type": "display_data"
    },
    {
     "data": {
      "text/html": [],
      "text/plain": [
       "<IPython.core.display.HTML object>"
      ]
     },
     "metadata": {},
     "output_type": "display_data"
    },
    {
     "data": {
      "text/plain": [
       "DynamicUnet (Input shape: 4 x 2 x 512 x 512)\n",
       "============================================================================\n",
       "Layer (type)         Output Shape         Param #    Trainable \n",
       "============================================================================\n",
       "                     4 x 64 x 256 x 256  \n",
       "Conv2d                                    6272       False     \n",
       "BatchNorm2d                               128        True      \n",
       "ReLU                                                           \n",
       "____________________________________________________________________________\n",
       "                     4 x 64 x 128 x 128  \n",
       "MaxPool2d                                                      \n",
       "Conv2d                                    36864      False     \n",
       "BatchNorm2d                               128        True      \n",
       "ReLU                                                           \n",
       "Conv2d                                    36864      False     \n",
       "BatchNorm2d                               128        True      \n",
       "Conv2d                                    36864      False     \n",
       "BatchNorm2d                               128        True      \n",
       "ReLU                                                           \n",
       "Conv2d                                    36864      False     \n",
       "BatchNorm2d                               128        True      \n",
       "____________________________________________________________________________\n",
       "                     4 x 128 x 64 x 64   \n",
       "Conv2d                                    73728      False     \n",
       "BatchNorm2d                               256        True      \n",
       "ReLU                                                           \n",
       "Conv2d                                    147456     False     \n",
       "BatchNorm2d                               256        True      \n",
       "Conv2d                                    8192       False     \n",
       "BatchNorm2d                               256        True      \n",
       "Conv2d                                    147456     False     \n",
       "BatchNorm2d                               256        True      \n",
       "ReLU                                                           \n",
       "Conv2d                                    147456     False     \n",
       "BatchNorm2d                               256        True      \n",
       "____________________________________________________________________________\n",
       "                     4 x 256 x 32 x 32   \n",
       "Conv2d                                    294912     False     \n",
       "BatchNorm2d                               512        True      \n",
       "ReLU                                                           \n",
       "Conv2d                                    589824     False     \n",
       "BatchNorm2d                               512        True      \n",
       "Conv2d                                    32768      False     \n",
       "BatchNorm2d                               512        True      \n",
       "Conv2d                                    589824     False     \n",
       "BatchNorm2d                               512        True      \n",
       "ReLU                                                           \n",
       "Conv2d                                    589824     False     \n",
       "BatchNorm2d                               512        True      \n",
       "____________________________________________________________________________\n",
       "                     4 x 512 x 16 x 16   \n",
       "Conv2d                                    1179648    False     \n",
       "BatchNorm2d                               1024       True      \n",
       "ReLU                                                           \n",
       "Conv2d                                    2359296    False     \n",
       "BatchNorm2d                               1024       True      \n",
       "Conv2d                                    131072     False     \n",
       "BatchNorm2d                               1024       True      \n",
       "Conv2d                                    2359296    False     \n",
       "BatchNorm2d                               1024       True      \n",
       "ReLU                                                           \n",
       "Conv2d                                    2359296    False     \n",
       "BatchNorm2d                               1024       True      \n",
       "BatchNorm2d                               1024       True      \n",
       "ReLU                                                           \n",
       "____________________________________________________________________________\n",
       "                     4 x 1024 x 16 x 16  \n",
       "Conv2d                                    4719616    True      \n",
       "ReLU                                                           \n",
       "____________________________________________________________________________\n",
       "                     4 x 512 x 16 x 16   \n",
       "Conv2d                                    4719104    True      \n",
       "ReLU                                                           \n",
       "____________________________________________________________________________\n",
       "                     4 x 1024 x 16 x 16  \n",
       "Conv2d                                    525312     True      \n",
       "ReLU                                                           \n",
       "____________________________________________________________________________\n",
       "                     4 x 256 x 32 x 32   \n",
       "PixelShuffle                                                   \n",
       "BatchNorm2d                               512        True      \n",
       "Conv2d                                    2359808    True      \n",
       "ReLU                                                           \n",
       "Conv2d                                    2359808    True      \n",
       "ReLU                                                           \n",
       "ReLU                                                           \n",
       "____________________________________________________________________________\n",
       "                     4 x 1024 x 32 x 32  \n",
       "Conv2d                                    525312     True      \n",
       "ReLU                                                           \n",
       "____________________________________________________________________________\n",
       "                     4 x 256 x 64 x 64   \n",
       "PixelShuffle                                                   \n",
       "BatchNorm2d                               256        True      \n",
       "Conv2d                                    1327488    True      \n",
       "ReLU                                                           \n",
       "Conv2d                                    1327488    True      \n",
       "ReLU                                                           \n",
       "ReLU                                                           \n",
       "____________________________________________________________________________\n",
       "                     4 x 768 x 64 x 64   \n",
       "Conv2d                                    295680     True      \n",
       "ReLU                                                           \n",
       "____________________________________________________________________________\n",
       "                     4 x 192 x 128 x 128 \n",
       "PixelShuffle                                                   \n",
       "BatchNorm2d                               128        True      \n",
       "Conv2d                                    590080     True      \n",
       "ReLU                                                           \n",
       "Conv2d                                    590080     True      \n",
       "ReLU                                                           \n",
       "ReLU                                                           \n",
       "____________________________________________________________________________\n",
       "                     4 x 512 x 128 x 128 \n",
       "Conv2d                                    131584     True      \n",
       "ReLU                                                           \n",
       "____________________________________________________________________________\n",
       "                     4 x 128 x 256 x 256 \n",
       "PixelShuffle                                                   \n",
       "BatchNorm2d                               128        True      \n",
       "____________________________________________________________________________\n",
       "                     4 x 96 x 256 x 256  \n",
       "Conv2d                                    165984     True      \n",
       "ReLU                                                           \n",
       "Conv2d                                    83040      True      \n",
       "ReLU                                                           \n",
       "ReLU                                                           \n",
       "____________________________________________________________________________\n",
       "                     4 x 384 x 256 x 256 \n",
       "Conv2d                                    37248      True      \n",
       "ReLU                                                           \n",
       "____________________________________________________________________________\n",
       "                     4 x 96 x 512 x 512  \n",
       "PixelShuffle                                                   \n",
       "ResizeToOrig                                                   \n",
       "____________________________________________________________________________\n",
       "                     4 x 98 x 512 x 512  \n",
       "MergeLayer                                                     \n",
       "Conv2d                                    86534      True      \n",
       "ReLU                                                           \n",
       "Conv2d                                    86534      True      \n",
       "Sequential                                                     \n",
       "ReLU                                                           \n",
       "____________________________________________________________________________\n",
       "                     4 x 3 x 512 x 512   \n",
       "Conv2d                                    297        True      \n",
       "ToTensorBase                                                   \n",
       "____________________________________________________________________________\n",
       "\n",
       "Total params: 31,106,421\n",
       "Total trainable params: 19,942,645\n",
       "Total non-trainable params: 11,163,776\n",
       "\n",
       "Optimizer used: <function Adam at 0x000002B3DB048D30>\n",
       "Loss function: <function loss_fn at 0x000002B3DD4E3C10>\n",
       "\n",
       "Model frozen up to parameter group #2\n",
       "\n",
       "Callbacks:\n",
       "  - TrainEvalCallback\n",
       "  - CastToTensor\n",
       "  - Recorder\n",
       "  - ProgressCallback"
      ]
     },
     "execution_count": 10,
     "metadata": {},
     "output_type": "execute_result"
    }
   ],
   "source": [
    "learner.summary()"
   ]
  },
  {
   "cell_type": "code",
   "execution_count": 19,
   "id": "bb912cc6",
   "metadata": {},
   "outputs": [
    {
     "name": "stdout",
     "output_type": "stream",
     "text": [
      "Cleared image 10\n",
      "Loading image 1 in background\n",
      "torch.Size([4, 2, 512, 512]) torch.Size([4, 512, 512])\n"
     ]
    }
   ],
   "source": [
    "batch, target = dls.train.one_batch()\n",
    "print(batch.shape, target.shape)"
   ]
  },
  {
   "cell_type": "code",
   "execution_count": 14,
   "id": "2bb0a04e",
   "metadata": {},
   "outputs": [
    {
     "data": {
      "text/plain": [
       "torch.Size([4, 3, 512, 512])"
      ]
     },
     "execution_count": 14,
     "metadata": {},
     "output_type": "execute_result"
    }
   ],
   "source": [
    "# Calculate the predictions for the 4 patches (1 batch)\n",
    "pred = learner.model(batch)\n",
    "pred.shape"
   ]
  },
  {
   "cell_type": "code",
   "execution_count": 17,
   "id": "bdf642d7",
   "metadata": {},
   "outputs": [
    {
     "data": {
      "text/plain": [
       "TensorBase(0.9572, grad_fn=<AliasBackward0>)"
      ]
     },
     "execution_count": 17,
     "metadata": {},
     "output_type": "execute_result"
    }
   ],
   "source": [
    "loss_fn(pred, target)"
   ]
  },
  {
   "cell_type": "code",
   "execution_count": 20,
   "id": "8a77e704",
   "metadata": {},
   "outputs": [
    {
     "data": {
      "text/plain": [
       "TensorBase(0.9572, grad_fn=<AliasBackward0>)"
      ]
     },
     "execution_count": 20,
     "metadata": {},
     "output_type": "execute_result"
    }
   ],
   "source": [
    "CrossEntropyLossFlat(axis=1)(pred, target)"
   ]
  },
  {
   "cell_type": "markdown",
   "id": "dedade94",
   "metadata": {},
   "source": [
    "### Running LrFind"
   ]
  },
  {
   "cell_type": "markdown",
   "id": "6d8555a2",
   "metadata": {},
   "source": [
    "Up to now, evertying was done in the CPU, but to run large amounts, it is necessary to load the data in the Cuda device. For that we will put them in the GPU and find the best learning rate."
   ]
  },
  {
   "cell_type": "code",
   "execution_count": 8,
   "id": "b3550702",
   "metadata": {},
   "outputs": [
    {
     "name": "stdout",
     "output_type": "stream",
     "text": [
      "Loaded sucessfully\n"
     ]
    }
   ],
   "source": [
    "learner.cuda()\n",
    "learner.dls = dls.cuda()"
   ]
  },
  {
   "cell_type": "code",
   "execution_count": 9,
   "id": "0e7122d4",
   "metadata": {},
   "outputs": [
    {
     "data": {
      "text/html": [
       "\n",
       "<style>\n",
       "    /* Turns off some styling */\n",
       "    progress {\n",
       "        /* gets rid of default border in Firefox and Opera. */\n",
       "        border: none;\n",
       "        /* Needs to be in here for Safari polyfill so background images work as expected. */\n",
       "        background-size: auto;\n",
       "    }\n",
       "    progress:not([value]), progress:not([value])::-webkit-progress-bar {\n",
       "        background: repeating-linear-gradient(45deg, #7e7e7e, #7e7e7e 10px, #5c5c5c 10px, #5c5c5c 20px);\n",
       "    }\n",
       "    .progress-bar-interrupted, .progress-bar-interrupted::-webkit-progress-bar {\n",
       "        background: #F44336;\n",
       "    }\n",
       "</style>\n"
      ],
      "text/plain": [
       "<IPython.core.display.HTML object>"
      ]
     },
     "metadata": {},
     "output_type": "display_data"
    },
    {
     "data": {
      "text/html": [],
      "text/plain": [
       "<IPython.core.display.HTML object>"
      ]
     },
     "metadata": {},
     "output_type": "display_data"
    },
    {
     "data": {
      "text/plain": [
       "SuggestedLRs(valley=0.00010964782268274575)"
      ]
     },
     "execution_count": 9,
     "metadata": {},
     "output_type": "execute_result"
    },
    {
     "data": {
      "image/png": "[encoded data removed]",
      "text/plain": [
       "<Figure size 432x288 with 1 Axes>"
      ]
     },
     "metadata": {
      "needs_background": "light"
     },
     "output_type": "display_data"
    }
   ],
   "source": [
    "learner.lr_find()"
   ]
  },
  {
   "cell_type": "code",
   "execution_count": 10,
   "id": "6cf7e546",
   "metadata": {},
   "outputs": [
    {
     "data": {
      "text/html": [
       "\n",
       "<style>\n",
       "    /* Turns off some styling */\n",
       "    progress {\n",
       "        /* gets rid of default border in Firefox and Opera. */\n",
       "        border: none;\n",
       "        /* Needs to be in here for Safari polyfill so background images work as expected. */\n",
       "        background-size: auto;\n",
       "    }\n",
       "    progress:not([value]), progress:not([value])::-webkit-progress-bar {\n",
       "        background: repeating-linear-gradient(45deg, #7e7e7e, #7e7e7e 10px, #5c5c5c 10px, #5c5c5c 20px);\n",
       "    }\n",
       "    .progress-bar-interrupted, .progress-bar-interrupted::-webkit-progress-bar {\n",
       "        background: #F44336;\n",
       "    }\n",
       "</style>\n"
      ],
      "text/plain": [
       "<IPython.core.display.HTML object>"
      ]
     },
     "metadata": {},
     "output_type": "display_data"
    },
    {
     "data": {
      "text/html": [
       "<table border=\"1\" class=\"dataframe\">\n",
       "  <thead>\n",
       "    <tr style=\"text-align: left;\">\n",
       "      <th>epoch</th>\n",
       "      <th>train_loss</th>\n",
       "      <th>valid_loss</th>\n",
       "      <th>time</th>\n",
       "    </tr>\n",
       "  </thead>\n",
       "  <tbody>\n",
       "    <tr>\n",
       "      <td>0</td>\n",
       "      <td>0.163114</td>\n",
       "      <td>0.382699</td>\n",
       "      <td>15:14</td>\n",
       "    </tr>\n",
       "  </tbody>\n",
       "</table>"
      ],
      "text/plain": [
       "<IPython.core.display.HTML object>"
      ]
     },
     "metadata": {},
     "output_type": "display_data"
    },
    {
     "name": "stdout",
     "output_type": "stream",
     "text": [
      "Cleared image 0\n",
      "Loading image 2 in background\n",
      "Loaded sucessfully\n",
      "Cleared image 1\n",
      "Loading image 3 in background\n",
      "Loaded sucessfully\n",
      "Cleared image 2\n",
      "Loading image 4 in background\n",
      "Loaded sucessfully\n",
      "Cleared image 3\n",
      "Loading image 5 in background\n",
      "Loaded sucessfully\n",
      "Cleared image 4\n",
      "Loading image 6 in background\n",
      "Loaded sucessfully\n",
      "Cleared image 5\n",
      "Loading image 7 in background\n",
      "Loaded sucessfully\n",
      "Cleared image 6\n",
      "Loading image 8 in background\n",
      "Loaded sucessfully\n",
      "Cleared image 7\n",
      "Loading image 9 in background\n",
      "Loaded sucessfully\n",
      "Cleared image 8\n",
      "Loading image 10 in background\n",
      "Loaded sucessfully\n",
      "Cleared image 9\n",
      "Loading image 0 in background\n",
      "Loaded sucessfully\n"
     ]
    }
   ],
   "source": [
    "learner.fit_one_cycle(1, lr_max=0.0001)"
   ]
  },
  {
   "cell_type": "code",
   "execution_count": 13,
   "id": "28dc71e7",
   "metadata": {},
   "outputs": [
    {
     "data": {
      "text/plain": [
       "'models'"
      ]
     },
     "execution_count": 13,
     "metadata": {},
     "output_type": "execute_result"
    }
   ],
   "source": [
    "learner.model_dir"
   ]
  },
  {
   "cell_type": "code",
   "execution_count": 14,
   "id": "5688945d",
   "metadata": {},
   "outputs": [
    {
     "data": {
      "text/plain": [
       "Path('models/first_model.pth')"
      ]
     },
     "execution_count": 14,
     "metadata": {},
     "output_type": "execute_result"
    }
   ],
   "source": [
    "learner.save('first_model')"
   ]
  },
  {
   "cell_type": "markdown",
   "id": "76552f92",
   "metadata": {},
   "source": [
    "### Como ver os resultados???"
   ]
  },
  {
   "cell_type": "code",
   "execution_count": null,
   "id": "8b78156b",
   "metadata": {},
   "outputs": [],
   "source": [
    "learner"
   ]
  }
 ],
 "metadata": {
  "kernelspec": {
   "display_name": "Python 3.8.12 ('fastai')",
   "language": "python",
   "name": "python3"
  },
  "language_info": {
   "codemirror_mode": {
    "name": "ipython",
    "version": 3
   },
   "file_extension": ".py",
   "mimetype": "text/x-python",
   "name": "python",
   "nbconvert_exporter": "python",
   "pygments_lexer": "ipython3",
   "version": "3.8.12"
  },
  "vscode": {
   "interpreter": {
    "hash": "b8d564a5e78fa920f6d109e3b6389da476a9ea846c62606ff1aca0006ea12436"
   }
  }
 },
 "nbformat": 4,
 "nbformat_minor": 5
}
