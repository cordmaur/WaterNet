{
 "cells": [
  {
   "cell_type": "markdown",
   "id": "5bd3a5b6-224c-4081-9a38-d8017c5963fe",
   "metadata": {},
   "source": [
    "# WaterNet Segmentation Item"
   ]
  },
  {
   "cell_type": "markdown",
   "id": "2918e09a-1416-47e8-9725-9965282ed0c3",
   "metadata": {},
   "source": [
    "This notebook presents the basic functionalities of the `WNSegmentationItem` class.<br>\n",
    "This class will be responsible to match original imagery and the segmentation mask."
   ]
  },
  {
   "cell_type": "code",
   "execution_count": 1,
   "id": "5d8fd87c-0040-4ba3-ad73-b05c48dd47e2",
   "metadata": {},
   "outputs": [
    {
     "name": "stdout",
     "output_type": "stream",
     "text": [
      "Fastai is needed to use waternet package\n"
     ]
    }
   ],
   "source": [
    "%load_ext autoreload\n",
    "%autoreload 2\n",
    "\n",
    "import sys\n",
    "sys.path.append('../')\n",
    "\n",
    "from waternet.wnsegmantationitem import *\n",
    "from waternet.wnbaseimage import *\n",
    "from waternet.wnstacimage import *\n",
    "\n",
    "from tqdm.notebook import tqdm\n",
    "\n",
    "import time "
   ]
  },
  {
   "cell_type": "markdown",
   "id": "534b0f34",
   "metadata": {},
   "source": [
    "## Load Mask and Image"
   ]
  },
  {
   "cell_type": "markdown",
   "id": "8f914282",
   "metadata": {},
   "source": [
    "The WNSegmentationItem can be created manually through a mask and a stac image, like so:"
   ]
  },
  {
   "cell_type": "code",
   "execution_count": 3,
   "id": "b4f17c6e",
   "metadata": {},
   "outputs": [
    {
     "name": "stdout",
     "output_type": "stream",
     "text": [
      "WNBaseImage: array not loaded in memory\n",
      "\n",
      "Img: S2B_MSIL2A_20220825T133149_R081_T22KEV_20220826T055538\n",
      "Loaded bands: []\n"
     ]
    }
   ],
   "source": [
    "mask = WNBaseImage('d:/temp/22KEV/S2A_MSIL2A_20180123T133221_R081_T22KEV_watermask.tif', shape=(5490, 5490))\n",
    "stacimg = WNStacImage.from_tile(tile='22KEV', str_date='2022-08-25')\n",
    "\n",
    "print(mask)\n",
    "print(stacimg)"
   ]
  },
  {
   "cell_type": "code",
   "execution_count": 4,
   "id": "c5d73821",
   "metadata": {},
   "outputs": [
    {
     "name": "stdout",
     "output_type": "stream",
     "text": [
      "S2B_MSIL2A_20220825T133149_R081_T22KEV_20220826T055538->S2A_MSIL2A_20180123T133221_R081_T22KEV_watermask.tif\n"
     ]
    }
   ],
   "source": [
    "segitem = WNSegmentationItem(img=stacimg, mask=mask)\n",
    "print(segitem)"
   ]
  },
  {
   "cell_type": "markdown",
   "id": "e3441d88",
   "metadata": {},
   "source": [
    "## Create the SegmantationItem"
   ]
  },
  {
   "cell_type": "markdown",
   "id": "c8616d71",
   "metadata": {},
   "source": [
    "Alternatively, it can be created from an existing mask (basic use case), where given a mask it will get the corresponding asset from the MSPlanetary"
   ]
  },
  {
   "cell_type": "code",
   "execution_count": 5,
   "id": "fbc69282",
   "metadata": {},
   "outputs": [
    {
     "name": "stdout",
     "output_type": "stream",
     "text": [
      "S2A_MSIL2A_20180123T133221_R081_T22KEV_20201014T080306->S2A_MSIL2A_20180123T133221_R081_T22KEV_watermask.tif\n"
     ]
    }
   ],
   "source": [
    "segitem = WNSegmentationItem.from_mask(\n",
    "    mask_path='d:/temp/22KEV/S2A_MSIL2A_20180123T133221_R081_T22KEV_watermask.tif', \n",
    "    shape=(5490, 5490), \n",
    "    patch_size=(512, 512), \n",
    "    step=262\n",
    ")\n",
    "\n",
    "print(segitem)"
   ]
  },
  {
   "cell_type": "code",
   "execution_count": 8,
   "id": "7894cf2c",
   "metadata": {},
   "outputs": [
    {
     "name": "stdout",
     "output_type": "stream",
     "text": [
      "(2, 512, 512) (512, 512)\n"
     ]
    }
   ],
   "source": [
    "segitem.patchify(bands=['B11', 'B12'])\n",
    "print(segitem[0][0].shape, segitem[0][1].shape)"
   ]
  }
 ],
 "metadata": {
  "kernelspec": {
   "display_name": "Python 3.8.12 ('planetary')",
   "language": "python",
   "name": "python3"
  },
  "language_info": {
   "codemirror_mode": {
    "name": "ipython",
    "version": 3
   },
   "file_extension": ".py",
   "mimetype": "text/x-python",
   "name": "python",
   "nbconvert_exporter": "python",
   "pygments_lexer": "ipython3",
   "version": "3.8.12"
  },
  "vscode": {
   "interpreter": {
    "hash": "72df4cb69ae472887d30e5414c4e0abed2d1109c9f3b182d23f9c59ea87bf37f"
   }
  }
 },
 "nbformat": 4,
 "nbformat_minor": 5
}
