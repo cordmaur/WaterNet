{
 "cells": [
  {
   "cell_type": "code",
   "execution_count": 9,
   "id": "baef8260-9b8a-434b-a757-1e0eac08f1b3",
   "metadata": {},
   "outputs": [
    {
     "data": {
      "text/plain": [
       "2.6947349309921265"
      ]
     },
     "execution_count": 9,
     "metadata": {},
     "output_type": "execute_result"
    }
   ],
   "source": [
    "10980*10980*4/1024/1024/1024*6"
   ]
  },
  {
   "cell_type": "markdown",
   "id": "d003bde1-3fa5-40f3-82c5-500c83f7743c",
   "metadata": {},
   "source": [
    "# Model Visualization"
   ]
  },
  {
   "cell_type": "code",
   "execution_count": 4,
   "id": "d36f1de3-3afb-434e-b21e-1e7550ec1b29",
   "metadata": {},
   "outputs": [],
   "source": [
    "%load_ext autoreload\n",
    "%autoreload 2\n",
    "\n",
    "import importlib    \n",
    "\n",
    "# check if it is using CPU or GPU\n",
    "# First the CPU version\n",
    "if importlib.util.find_spec('torch') is None:\n",
    "    %pip install --quiet torch torchvision --extra-index-url https://download.pytorch.org/whl/cpu\n",
    "    \n",
    "if importlib.util.find_spec('fastai') is None:\n",
    "    # Then install fastai from code\n",
    "    !cd /tmp; git clone https://github.com/fastai/fastai -q\n",
    "    %pip -q install -e /tmp/fastai \n",
    "    \n",
    "# Install WaterNet\n",
    "if importlib.util.find_spec('waternet') is None:\n",
    "    %pip install -e /home/jovyan/projects/WaterNet/\n",
    "    \n",
    "from waternet.wndataset import WNDataSet\n",
    "from fastai.vision.all import *\n",
    "\n"
   ]
  },
  {
   "cell_type": "markdown",
   "id": "4b54a6fe",
   "metadata": {},
   "source": [
    "### Creating the Datasets"
   ]
  },
  {
   "cell_type": "code",
   "execution_count": 5,
   "id": "a4e3310c-433c-4cb9-9c78-4ba3246b76b6",
   "metadata": {},
   "outputs": [],
   "source": [
    "masks_path = '/home/jovyan/tmp3'\n",
    "training_bands = ['B04', 'B03', 'B02', 'B08', 'B11', 'B12']\n",
    "# masks_path='d:/temp/22KEV/'"
   ]
  },
  {
   "cell_type": "code",
   "execution_count": 6,
   "id": "ec0d21ff-891b-4a71-9a14-96089b82375f",
   "metadata": {},
   "outputs": [],
   "source": [
    "# default config for shape, size and step\n",
    "config = dict(\n",
    "    shape=(5490, 5490),\n",
    "    patch_size=(512, 512),\n",
    "    step=262,    \n",
    ")"
   ]
  },
  {
   "cell_type": "code",
   "execution_count": 7,
   "id": "ecbd9fdf-f062-42b4-ba54-26ce423c57a3",
   "metadata": {},
   "outputs": [
    {
     "data": {
      "application/vnd.jupyter.widget-view+json": {
       "model_id": "4fabee3022fd40f9b85ac46f83bd470b",
       "version_major": 2,
       "version_minor": 0
      },
      "text/plain": [
       "Matching imgs/masks:   0%|          | 0/25 [00:00<?, ?it/s]"
      ]
     },
     "metadata": {},
     "output_type": "display_data"
    }
   ],
   "source": [
    "# a single image for the validation\n",
    "valid_ds = WNDataSet.from_masks(\n",
    "    masks_path=masks_path,\n",
    "    pattern='*S2B_MSIL2A_2021*watermask.tif',\n",
    "    **config\n",
    ")"
   ]
  },
  {
   "cell_type": "code",
   "execution_count": 8,
   "id": "9688a3d1-098f-4811-a873-b71997161c35",
   "metadata": {},
   "outputs": [
    {
     "name": "stdout",
     "output_type": "stream",
     "text": [
      "WNDataset instance with 25 images\n",
      "Loaded: 0 items\n",
      "Empty: 25 items\n",
      "Loading: 0 items\n",
      "\n"
     ]
    }
   ],
   "source": [
    "valid_ds.bands = training_bands\n",
    "print(valid_ds)"
   ]
  },
  {
   "cell_type": "markdown",
   "id": "3fc2874c",
   "metadata": {},
   "source": [
    "### Creating the Learner"
   ]
  },
  {
   "cell_type": "markdown",
   "id": "299729d3-bf92-437b-92f7-a9555edd8589",
   "metadata": {},
   "source": [
    "### Testing the \"untrained\" model from pretrained learner"
   ]
  },
  {
   "cell_type": "markdown",
   "id": "623d7e71-410c-4fbf-be11-b3523bd004c4",
   "metadata": {},
   "source": [
    "We will run the validation two times to check for differences between runs"
   ]
  },
  {
   "cell_type": "code",
   "execution_count": 9,
   "id": "140ef517-8231-4547-b2ae-a8d39297f64d",
   "metadata": {},
   "outputs": [
    {
     "name": "stdout",
     "output_type": "stream",
     "text": [
      "Loading image 1 in background\n"
     ]
    },
    {
     "name": "stderr",
     "output_type": "stream",
     "text": [
      "/srv/conda/envs/notebook/lib/python3.9/site-packages/torchvision/models/_utils.py:208: UserWarning: The parameter 'pretrained' is deprecated since 0.13 and will be removed in 0.15, please use 'weights' instead.\n",
      "  warnings.warn(\n",
      "/srv/conda/envs/notebook/lib/python3.9/site-packages/torchvision/models/_utils.py:223: UserWarning: Arguments other than a weight enum or `None` for 'weights' are deprecated since 0.13 and will be removed in 0.15. The current behavior is equivalent to passing `weights=None`.\n",
      "  warnings.warn(msg)\n"
     ]
    },
    {
     "name": "stdout",
     "output_type": "stream",
     "text": [
      "Loaded sucessfully\n"
     ]
    }
   ],
   "source": [
    "learner = unet_learner(DataLoaders(DataLoader(valid_ds, bs=8)),  arch=resnet18, pretrained=False, normalize=False, n_in=6, n_out=3, loss_func=CrossEntropyLossFlat(axis=1))"
   ]
  },
  {
   "cell_type": "code",
   "execution_count": 8,
   "id": "6ec7c801-815f-4da5-9dae-886b5271e5f6",
   "metadata": {},
   "outputs": [
    {
     "name": "stdout",
     "output_type": "stream",
     "text": [
      "Loading image 1 in background\n"
     ]
    },
    {
     "name": "stderr",
     "output_type": "stream",
     "text": [
      "/srv/conda/envs/notebook/lib/python3.9/site-packages/torchvision/models/_utils.py:208: UserWarning: The parameter 'pretrained' is deprecated since 0.13 and will be removed in 0.15, please use 'weights' instead.\n",
      "  warnings.warn(\n",
      "/srv/conda/envs/notebook/lib/python3.9/site-packages/torchvision/models/_utils.py:223: UserWarning: Arguments other than a weight enum or `None` for 'weights' are deprecated since 0.13 and will be removed in 0.15. The current behavior is equivalent to passing `weights=None`.\n",
      "  warnings.warn(msg)\n"
     ]
    },
    {
     "name": "stdout",
     "output_type": "stream",
     "text": [
      "Loaded sucessfully\n"
     ]
    },
    {
     "data": {
      "text/html": [
       "\n",
       "<style>\n",
       "    /* Turns off some styling */\n",
       "    progress {\n",
       "        /* gets rid of default border in Firefox and Opera. */\n",
       "        border: none;\n",
       "        /* Needs to be in here for Safari polyfill so background images work as expected. */\n",
       "        background-size: auto;\n",
       "    }\n",
       "    progress:not([value]), progress:not([value])::-webkit-progress-bar {\n",
       "        background: repeating-linear-gradient(45deg, #7e7e7e, #7e7e7e 10px, #5c5c5c 10px, #5c5c5c 20px);\n",
       "    }\n",
       "    .progress-bar-interrupted, .progress-bar-interrupted::-webkit-progress-bar {\n",
       "        background: #F44336;\n",
       "    }\n",
       "</style>\n"
      ],
      "text/plain": [
       "<IPython.core.display.HTML object>"
      ]
     },
     "metadata": {},
     "output_type": "display_data"
    },
    {
     "data": {
      "text/html": [],
      "text/plain": [
       "<IPython.core.display.HTML object>"
      ]
     },
     "metadata": {},
     "output_type": "display_data"
    },
    {
     "name": "stdout",
     "output_type": "stream",
     "text": [
      "Cleared image 0\n",
      "Loading image 2 in background\n",
      "Loaded sucessfully\n",
      "Cleared image 1\n",
      "Loading image 3 in background\n",
      "Loaded sucessfully\n",
      "Cleared image 2\n",
      "Loading image 4 in background\n",
      "Loaded sucessfully\n",
      "Cleared image 3\n",
      "Loading image 5 in background\n",
      "Loaded sucessfully\n",
      "Cleared image 4\n",
      "Loading image 6 in background\n",
      "Loaded sucessfully\n",
      "Cleared image 5\n",
      "Loading image 7 in background\n",
      "Loaded sucessfully\n",
      "Cleared image 6\n",
      "Loading image 8 in background\n",
      "Loaded sucessfully\n",
      "Cleared image 7\n",
      "Loading image 9 in background\n",
      "Loaded sucessfully\n",
      "Cleared image 8\n",
      "Loading image 10 in background\n",
      "Loaded sucessfully\n",
      "Cleared image 9\n",
      "Loading image 11 in background\n",
      "Loaded sucessfully\n",
      "Cleared image 10\n",
      "Loading image 12 in background\n",
      "Loaded sucessfully\n",
      "Cleared image 11\n",
      "Loading image 13 in background\n",
      "Loaded sucessfully\n",
      "Cleared image 12\n",
      "Loading image 14 in background\n",
      "Loaded sucessfully\n",
      "Cleared image 13\n",
      "Loading image 15 in background\n",
      "Loaded sucessfully\n",
      "Cleared image 14\n",
      "Loading image 16 in background\n",
      "Loaded sucessfully\n",
      "Cleared image 15\n",
      "Loading image 17 in background\n",
      "Loaded sucessfully\n",
      "Cleared image 16\n",
      "Loading image 18 in background\n",
      "Loaded sucessfully\n",
      "Cleared image 17\n",
      "Loading image 19 in background\n",
      "Loaded sucessfully\n",
      "Cleared image 18\n",
      "Loading image 20 in background\n",
      "Loaded sucessfully\n",
      "Cleared image 19\n",
      "Loading image 21 in background\n",
      "Loaded sucessfully\n",
      "Cleared image 20\n",
      "Loading image 22 in background\n",
      "Loaded sucessfully\n",
      "Cleared image 21\n",
      "Loading image 23 in background\n",
      "Loaded sucessfully\n",
      "Cleared image 22\n",
      "Loading image 24 in background\n",
      "Loaded sucessfully\n",
      "Cleared image 23\n",
      "Loading image 0 in background\n",
      "Loaded sucessfully\n"
     ]
    },
    {
     "data": {
      "text/plain": [
       "(#1) [0.16158856451511383]"
      ]
     },
     "execution_count": 8,
     "metadata": {},
     "output_type": "execute_result"
    }
   ],
   "source": [
    "learner.load('Resnet18-6chnls-untrained3')\n",
    "\n",
    "model = learner.cuda()\n",
    "learner.dls = learner.dls.cuda()\n",
    "\n",
    "learner.validate(ds_idx=0)"
   ]
  },
  {
   "cell_type": "code",
   "execution_count": null,
   "id": "2651f6c5-794a-4d50-8b16-881d8c2f6083",
   "metadata": {},
   "outputs": [],
   "source": []
  },
  {
   "cell_type": "code",
   "execution_count": null,
   "id": "5601f885-1f8d-4d0f-84ce-8501eedac743",
   "metadata": {},
   "outputs": [],
   "source": []
  },
  {
   "cell_type": "code",
   "execution_count": null,
   "id": "39ff536b-c753-45bb-a65b-aa8ff3b641ac",
   "metadata": {},
   "outputs": [],
   "source": []
  },
  {
   "cell_type": "code",
   "execution_count": null,
   "id": "f3236436-c03b-4606-8530-a528ae421e74",
   "metadata": {},
   "outputs": [],
   "source": []
  },
  {
   "cell_type": "code",
   "execution_count": null,
   "id": "deca50b7-adc9-4d86-9dda-cd0bab1f89ad",
   "metadata": {},
   "outputs": [],
   "source": []
  },
  {
   "cell_type": "code",
   "execution_count": 7,
   "id": "a8c5efe1-e2a6-4298-8810-e447a5aa4039",
   "metadata": {},
   "outputs": [
    {
     "name": "stdout",
     "output_type": "stream",
     "text": [
      "Cleared image 24\n",
      "Loading image 1 in background\n"
     ]
    },
    {
     "data": {
      "text/html": [
       "\n",
       "<style>\n",
       "    /* Turns off some styling */\n",
       "    progress {\n",
       "        /* gets rid of default border in Firefox and Opera. */\n",
       "        border: none;\n",
       "        /* Needs to be in here for Safari polyfill so background images work as expected. */\n",
       "        background-size: auto;\n",
       "    }\n",
       "    progress:not([value]), progress:not([value])::-webkit-progress-bar {\n",
       "        background: repeating-linear-gradient(45deg, #7e7e7e, #7e7e7e 10px, #5c5c5c 10px, #5c5c5c 20px);\n",
       "    }\n",
       "    .progress-bar-interrupted, .progress-bar-interrupted::-webkit-progress-bar {\n",
       "        background: #F44336;\n",
       "    }\n",
       "</style>\n"
      ],
      "text/plain": [
       "<IPython.core.display.HTML object>"
      ]
     },
     "metadata": {},
     "output_type": "display_data"
    },
    {
     "data": {
      "text/html": [],
      "text/plain": [
       "<IPython.core.display.HTML object>"
      ]
     },
     "metadata": {},
     "output_type": "display_data"
    },
    {
     "name": "stdout",
     "output_type": "stream",
     "text": [
      "Loaded sucessfully\n",
      "Cleared image 0\n",
      "Loading image 2 in background\n",
      "Loaded sucessfully\n",
      "Cleared image 1\n",
      "Loading image 3 in background\n",
      "Loaded sucessfully\n",
      "Cleared image 2\n",
      "Loading image 4 in background\n",
      "Loaded sucessfully\n",
      "Cleared image 3\n",
      "Loading image 5 in background\n",
      "Loaded sucessfully\n",
      "Cleared image 4\n",
      "Loading image 6 in background\n",
      "Loaded sucessfully\n",
      "Cleared image 5\n",
      "Loading image 7 in background\n",
      "Loaded sucessfully\n",
      "Cleared image 6\n",
      "Loading image 8 in background\n",
      "Loaded sucessfully\n",
      "Cleared image 7\n",
      "Loading image 9 in background\n",
      "Loaded sucessfully\n",
      "Cleared image 8\n",
      "Loading image 10 in background\n",
      "Loaded sucessfully\n",
      "Cleared image 9\n",
      "Loading image 11 in background\n",
      "Loaded sucessfully\n",
      "Cleared image 10\n",
      "Loading image 12 in background\n",
      "Loaded sucessfully\n",
      "Cleared image 11\n",
      "Loading image 13 in background\n",
      "Loaded sucessfully\n",
      "Cleared image 12\n",
      "Loading image 14 in background\n",
      "Loaded sucessfully\n",
      "Cleared image 13\n",
      "Loading image 15 in background\n",
      "Loaded sucessfully\n",
      "Cleared image 14\n",
      "Loading image 16 in background\n",
      "Loaded sucessfully\n",
      "Cleared image 15\n",
      "Loading image 17 in background\n",
      "Loaded sucessfully\n",
      "Cleared image 16\n",
      "Loading image 18 in background\n",
      "Loaded sucessfully\n",
      "Cleared image 17\n",
      "Loading image 19 in background\n",
      "Loaded sucessfully\n",
      "Cleared image 18\n",
      "Loading image 20 in background\n",
      "Loaded sucessfully\n",
      "Cleared image 19\n",
      "Loading image 21 in background\n",
      "Loaded sucessfully\n",
      "Cleared image 20\n",
      "Loading image 22 in background\n",
      "Loaded sucessfully\n",
      "Cleared image 21\n",
      "Loading image 23 in background\n",
      "Loaded sucessfully\n",
      "Cleared image 22\n",
      "Loading image 24 in background\n",
      "Loaded sucessfully\n",
      "Cleared image 23\n",
      "Loading image 0 in background\n",
      "Loaded sucessfully\n"
     ]
    },
    {
     "data": {
      "text/plain": [
       "(#1) [1.5655814409255981]"
      ]
     },
     "execution_count": 7,
     "metadata": {},
     "output_type": "execute_result"
    }
   ],
   "source": [
    "learner = unet_learner(DataLoaders(DataLoader(valid_ds, bs=8)),  arch=resnet18, pretrained=True, normalize=False, n_in=6, n_out=3, loss_func=CrossEntropyLossFlat(axis=1))\n",
    "\n",
    "model = learner.cuda()\n",
    "learner.dls = learner.dls.cuda()\n",
    "\n",
    "learner.validate(ds_idx=0)"
   ]
  },
  {
   "cell_type": "markdown",
   "id": "3f4cd6ab-d38c-4a50-9365-3f618741e9b1",
   "metadata": {},
   "source": [
    "### Testing the \"untrained\" model"
   ]
  },
  {
   "cell_type": "markdown",
   "id": "8a9ae49f-d635-4c6b-afdf-b9a13ecd4dcb",
   "metadata": {},
   "source": [
    "In this next test, we will also run it two times. If it is random, the results must change..."
   ]
  },
  {
   "cell_type": "code",
   "execution_count": 8,
   "id": "b85cc0c9-8772-4ae2-bb04-57adbc5069c9",
   "metadata": {},
   "outputs": [
    {
     "name": "stdout",
     "output_type": "stream",
     "text": [
      "Cleared image 24\n",
      "Loading image 1 in background\n"
     ]
    },
    {
     "name": "stderr",
     "output_type": "stream",
     "text": [
      "/srv/conda/envs/notebook/lib/python3.9/site-packages/torchvision/models/_utils.py:223: UserWarning: Arguments other than a weight enum or `None` for 'weights' are deprecated since 0.13 and will be removed in 0.15. The current behavior is equivalent to passing `weights=None`.\n",
      "  warnings.warn(msg)\n"
     ]
    },
    {
     "data": {
      "text/html": [
       "\n",
       "<style>\n",
       "    /* Turns off some styling */\n",
       "    progress {\n",
       "        /* gets rid of default border in Firefox and Opera. */\n",
       "        border: none;\n",
       "        /* Needs to be in here for Safari polyfill so background images work as expected. */\n",
       "        background-size: auto;\n",
       "    }\n",
       "    progress:not([value]), progress:not([value])::-webkit-progress-bar {\n",
       "        background: repeating-linear-gradient(45deg, #7e7e7e, #7e7e7e 10px, #5c5c5c 10px, #5c5c5c 20px);\n",
       "    }\n",
       "    .progress-bar-interrupted, .progress-bar-interrupted::-webkit-progress-bar {\n",
       "        background: #F44336;\n",
       "    }\n",
       "</style>\n"
      ],
      "text/plain": [
       "<IPython.core.display.HTML object>"
      ]
     },
     "metadata": {},
     "output_type": "display_data"
    },
    {
     "data": {
      "text/html": [],
      "text/plain": [
       "<IPython.core.display.HTML object>"
      ]
     },
     "metadata": {},
     "output_type": "display_data"
    },
    {
     "name": "stdout",
     "output_type": "stream",
     "text": [
      "Loaded sucessfully\n",
      "Cleared image 0\n",
      "Loading image 2 in background\n",
      "Loaded sucessfully\n",
      "Cleared image 1\n",
      "Loading image 3 in background\n",
      "Loaded sucessfully\n",
      "Cleared image 2\n",
      "Loading image 4 in background\n",
      "Loaded sucessfully\n",
      "Cleared image 3\n",
      "Loading image 5 in background\n",
      "Loaded sucessfully\n",
      "Cleared image 4\n",
      "Loading image 6 in background\n",
      "Loaded sucessfully\n",
      "Cleared image 5\n",
      "Loading image 7 in background\n",
      "Loaded sucessfully\n",
      "Cleared image 6\n",
      "Loading image 8 in background\n",
      "Loaded sucessfully\n",
      "Cleared image 7\n",
      "Loading image 9 in background\n",
      "Loaded sucessfully\n",
      "Cleared image 8\n",
      "Loading image 10 in background\n",
      "Loaded sucessfully\n",
      "Cleared image 9\n",
      "Loading image 11 in background\n",
      "Loaded sucessfully\n",
      "Cleared image 10\n",
      "Loading image 12 in background\n",
      "Loaded sucessfully\n",
      "Cleared image 11\n",
      "Loading image 13 in background\n",
      "Loaded sucessfully\n",
      "Cleared image 12\n",
      "Loading image 14 in background\n",
      "Loaded sucessfully\n",
      "Cleared image 13\n",
      "Loading image 15 in background\n",
      "Loaded sucessfully\n",
      "Cleared image 14\n",
      "Loading image 16 in background\n",
      "Loaded sucessfully\n",
      "Cleared image 15\n",
      "Loading image 17 in background\n",
      "Loaded sucessfully\n",
      "Cleared image 16\n",
      "Loading image 18 in background\n",
      "Loaded sucessfully\n",
      "Cleared image 17\n",
      "Loading image 19 in background\n",
      "Loaded sucessfully\n",
      "Cleared image 18\n",
      "Loading image 20 in background\n",
      "Loaded sucessfully\n",
      "Cleared image 19\n",
      "Loading image 21 in background\n",
      "Loaded sucessfully\n",
      "Cleared image 20\n",
      "Loading image 22 in background\n",
      "Loaded sucessfully\n",
      "Cleared image 21\n",
      "Loading image 23 in background\n",
      "Loaded sucessfully\n",
      "Cleared image 22\n",
      "Loading image 24 in background\n",
      "Loaded sucessfully\n",
      "Cleared image 23\n",
      "Loading image 0 in background\n",
      "Loaded sucessfully\n"
     ]
    },
    {
     "data": {
      "text/plain": [
       "(#1) [1.1307719945907593]"
      ]
     },
     "execution_count": 8,
     "metadata": {},
     "output_type": "execute_result"
    }
   ],
   "source": [
    "learner = unet_learner(DataLoaders(DataLoader(valid_ds, bs=8)),  arch=resnet18, pretrained=False, normalize=False, n_in=6, n_out=3, loss_func=CrossEntropyLossFlat(axis=1))\n",
    "\n",
    "model = learner.cuda()\n",
    "learner.dls = learner.dls.cuda()\n",
    "\n",
    "learner.validate(ds_idx=0)"
   ]
  },
  {
   "cell_type": "code",
   "execution_count": 9,
   "id": "c465b884-e594-455c-bd38-a5afb294bd53",
   "metadata": {},
   "outputs": [
    {
     "name": "stdout",
     "output_type": "stream",
     "text": [
      "Cleared image 24\n",
      "Loading image 1 in background\n"
     ]
    },
    {
     "data": {
      "text/html": [
       "\n",
       "<style>\n",
       "    /* Turns off some styling */\n",
       "    progress {\n",
       "        /* gets rid of default border in Firefox and Opera. */\n",
       "        border: none;\n",
       "        /* Needs to be in here for Safari polyfill so background images work as expected. */\n",
       "        background-size: auto;\n",
       "    }\n",
       "    progress:not([value]), progress:not([value])::-webkit-progress-bar {\n",
       "        background: repeating-linear-gradient(45deg, #7e7e7e, #7e7e7e 10px, #5c5c5c 10px, #5c5c5c 20px);\n",
       "    }\n",
       "    .progress-bar-interrupted, .progress-bar-interrupted::-webkit-progress-bar {\n",
       "        background: #F44336;\n",
       "    }\n",
       "</style>\n"
      ],
      "text/plain": [
       "<IPython.core.display.HTML object>"
      ]
     },
     "metadata": {},
     "output_type": "display_data"
    },
    {
     "data": {
      "text/html": [],
      "text/plain": [
       "<IPython.core.display.HTML object>"
      ]
     },
     "metadata": {},
     "output_type": "display_data"
    },
    {
     "name": "stdout",
     "output_type": "stream",
     "text": [
      "Loaded sucessfully\n",
      "Cleared image 0\n",
      "Loading image 2 in background\n",
      "Loaded sucessfully\n",
      "Cleared image 1\n",
      "Loading image 3 in background\n",
      "Loaded sucessfully\n",
      "Cleared image 2\n",
      "Loading image 4 in background\n",
      "Loaded sucessfully\n",
      "Cleared image 3\n",
      "Loading image 5 in background\n",
      "Loaded sucessfully\n",
      "Cleared image 4\n",
      "Loading image 6 in background\n",
      "Loaded sucessfully\n",
      "Cleared image 5\n",
      "Loading image 7 in background\n",
      "Loaded sucessfully\n",
      "Cleared image 6\n",
      "Loading image 8 in background\n",
      "Loaded sucessfully\n",
      "Cleared image 7\n",
      "Loading image 9 in background\n",
      "Loaded sucessfully\n",
      "Cleared image 8\n",
      "Loading image 10 in background\n",
      "Loaded sucessfully\n",
      "Cleared image 9\n",
      "Loading image 11 in background\n",
      "Loaded sucessfully\n",
      "Cleared image 10\n",
      "Loading image 12 in background\n",
      "Loaded sucessfully\n",
      "Cleared image 11\n",
      "Loading image 13 in background\n",
      "Loaded sucessfully\n",
      "Cleared image 12\n",
      "Loading image 14 in background\n",
      "Loaded sucessfully\n",
      "Cleared image 13\n",
      "Loading image 15 in background\n",
      "Loaded sucessfully\n",
      "Cleared image 14\n",
      "Loading image 16 in background\n",
      "Loaded sucessfully\n",
      "Cleared image 15\n",
      "Loading image 17 in background\n",
      "Loaded sucessfully\n",
      "Cleared image 16\n",
      "Loading image 18 in background\n",
      "Loaded sucessfully\n",
      "Cleared image 17\n",
      "Loading image 19 in background\n",
      "Loaded sucessfully\n",
      "Cleared image 18\n",
      "Loading image 20 in background\n",
      "Loaded sucessfully\n",
      "Cleared image 19\n",
      "Loading image 21 in background\n",
      "Loaded sucessfully\n",
      "Cleared image 20\n",
      "Loading image 22 in background\n",
      "Loaded sucessfully\n",
      "Cleared image 21\n",
      "Loading image 23 in background\n",
      "Loaded sucessfully\n",
      "Cleared image 22\n",
      "Loading image 24 in background\n",
      "Loaded sucessfully\n",
      "Cleared image 23\n",
      "Loading image 0 in background\n",
      "Loaded sucessfully\n"
     ]
    },
    {
     "data": {
      "text/plain": [
       "(#1) [1.080651044845581]"
      ]
     },
     "execution_count": 9,
     "metadata": {},
     "output_type": "execute_result"
    }
   ],
   "source": [
    "learner = unet_learner(DataLoaders(DataLoader(valid_ds, bs=8)),  arch=resnet18, pretrained=False, normalize=False, n_in=6, n_out=3, loss_func=CrossEntropyLossFlat(axis=1))\n",
    "\n",
    "model = learner.cuda()\n",
    "learner.dls = learner.dls.cuda()\n",
    "\n",
    "learner.validate(ds_idx=0)"
   ]
  },
  {
   "cell_type": "markdown",
   "id": "887e1df2-6985-45e5-86e4-a0d937b9349a",
   "metadata": {},
   "source": [
    "### Testing the trained model (without transfer learning)"
   ]
  },
  {
   "cell_type": "code",
   "execution_count": 15,
   "id": "fef1af10-db21-40d1-96c8-7686e28f59f4",
   "metadata": {},
   "outputs": [],
   "source": [
    "learner = learner.load('Resnet18-6chnls-untrained')"
   ]
  },
  {
   "cell_type": "code",
   "execution_count": 16,
   "id": "bf94971e-891d-4a1e-93ab-007e92b11747",
   "metadata": {},
   "outputs": [
    {
     "data": {
      "text/html": [
       "\n",
       "<style>\n",
       "    /* Turns off some styling */\n",
       "    progress {\n",
       "        /* gets rid of default border in Firefox and Opera. */\n",
       "        border: none;\n",
       "        /* Needs to be in here for Safari polyfill so background images work as expected. */\n",
       "        background-size: auto;\n",
       "    }\n",
       "    progress:not([value]), progress:not([value])::-webkit-progress-bar {\n",
       "        background: repeating-linear-gradient(45deg, #7e7e7e, #7e7e7e 10px, #5c5c5c 10px, #5c5c5c 20px);\n",
       "    }\n",
       "    .progress-bar-interrupted, .progress-bar-interrupted::-webkit-progress-bar {\n",
       "        background: #F44336;\n",
       "    }\n",
       "</style>\n"
      ],
      "text/plain": [
       "<IPython.core.display.HTML object>"
      ]
     },
     "metadata": {},
     "output_type": "display_data"
    },
    {
     "data": {
      "text/html": [],
      "text/plain": [
       "<IPython.core.display.HTML object>"
      ]
     },
     "metadata": {},
     "output_type": "display_data"
    },
    {
     "name": "stdout",
     "output_type": "stream",
     "text": [
      "Cleared image 24\n",
      "Loading image 1 in background\n",
      "Loaded sucessfully\n",
      "Cleared image 0\n",
      "Loading image 2 in background\n",
      "Loaded sucessfully\n",
      "Cleared image 1\n",
      "Loading image 3 in background\n",
      "Loaded sucessfully\n",
      "Cleared image 2\n",
      "Loading image 4 in background\n",
      "Loaded sucessfully\n",
      "Cleared image 3\n",
      "Loading image 5 in background\n",
      "Loaded sucessfully\n",
      "Cleared image 4\n",
      "Loading image 6 in background\n",
      "Loaded sucessfully\n",
      "Cleared image 5\n",
      "Loading image 7 in background\n",
      "Loaded sucessfully\n",
      "Cleared image 6\n",
      "Loading image 8 in background\n",
      "Loaded sucessfully\n",
      "Cleared image 7\n",
      "Loading image 9 in background\n",
      "Loaded sucessfully\n",
      "Cleared image 8\n",
      "Loading image 10 in background\n",
      "Loaded sucessfully\n",
      "Cleared image 9\n",
      "Loading image 11 in background\n",
      "Loaded sucessfully\n",
      "Cleared image 10\n",
      "Loading image 12 in background\n",
      "Loaded sucessfully\n",
      "Cleared image 11\n",
      "Loading image 13 in background\n",
      "Loaded sucessfully\n",
      "Cleared image 12\n",
      "Loading image 14 in background\n",
      "Loaded sucessfully\n",
      "Cleared image 13\n",
      "Loading image 15 in background\n",
      "Loaded sucessfully\n",
      "Cleared image 14\n",
      "Loading image 16 in background\n",
      "Loaded sucessfully\n",
      "Cleared image 15\n",
      "Loading image 17 in background\n",
      "Loaded sucessfully\n",
      "Cleared image 16\n",
      "Loading image 18 in background\n",
      "Loaded sucessfully\n",
      "Cleared image 17\n",
      "Loading image 19 in background\n",
      "Loaded sucessfully\n",
      "Cleared image 18\n",
      "Loading image 20 in background\n",
      "Loaded sucessfully\n",
      "Cleared image 19\n",
      "Loading image 21 in background\n",
      "Loaded sucessfully\n",
      "Cleared image 20\n",
      "Loading image 22 in background\n",
      "Loaded sucessfully\n",
      "Cleared image 21\n",
      "Loading image 23 in background\n",
      "Loaded sucessfully\n",
      "Cleared image 22\n",
      "Loading image 24 in background\n",
      "Loaded sucessfully\n",
      "Cleared image 23\n",
      "Loading image 0 in background\n",
      "Loaded sucessfully\n"
     ]
    },
    {
     "data": {
      "text/plain": [
       "(#1) [0.15474379062652588]"
      ]
     },
     "execution_count": 16,
     "metadata": {},
     "output_type": "execute_result"
    }
   ],
   "source": [
    "learner.validate(ds_idx=0)"
   ]
  },
  {
   "cell_type": "code",
   "execution_count": null,
   "id": "4f75a1ae-9bdb-4828-a1f1-b08f742dad3a",
   "metadata": {},
   "outputs": [],
   "source": []
  },
  {
   "cell_type": "code",
   "execution_count": 17,
   "id": "a8a72d50-e909-47f3-bcf0-64c6dc3049ee",
   "metadata": {},
   "outputs": [
    {
     "data": {
      "text/html": [
       "\n",
       "<style>\n",
       "    /* Turns off some styling */\n",
       "    progress {\n",
       "        /* gets rid of default border in Firefox and Opera. */\n",
       "        border: none;\n",
       "        /* Needs to be in here for Safari polyfill so background images work as expected. */\n",
       "        background-size: auto;\n",
       "    }\n",
       "    progress:not([value]), progress:not([value])::-webkit-progress-bar {\n",
       "        background: repeating-linear-gradient(45deg, #7e7e7e, #7e7e7e 10px, #5c5c5c 10px, #5c5c5c 20px);\n",
       "    }\n",
       "    .progress-bar-interrupted, .progress-bar-interrupted::-webkit-progress-bar {\n",
       "        background: #F44336;\n",
       "    }\n",
       "</style>\n"
      ],
      "text/plain": [
       "<IPython.core.display.HTML object>"
      ]
     },
     "metadata": {},
     "output_type": "display_data"
    },
    {
     "data": {
      "text/html": [],
      "text/plain": [
       "<IPython.core.display.HTML object>"
      ]
     },
     "metadata": {},
     "output_type": "display_data"
    },
    {
     "name": "stdout",
     "output_type": "stream",
     "text": [
      "Cleared image 24\n",
      "Loading image 1 in background\n",
      "Loaded sucessfully\n",
      "Cleared image 0\n",
      "Loading image 2 in background\n",
      "Loaded sucessfully\n",
      "Cleared image 1\n",
      "Loading image 3 in background\n",
      "Loaded sucessfully\n",
      "Cleared image 2\n",
      "Loading image 4 in background\n",
      "Loaded sucessfully\n",
      "Cleared image 3\n",
      "Loading image 5 in background\n",
      "Loaded sucessfully\n",
      "Cleared image 4\n",
      "Loading image 6 in background\n",
      "Loaded sucessfully\n",
      "Cleared image 5\n",
      "Loading image 7 in background\n",
      "Loaded sucessfully\n",
      "Cleared image 6\n",
      "Loading image 8 in background\n",
      "Loaded sucessfully\n",
      "Cleared image 7\n",
      "Loading image 9 in background\n",
      "Loaded sucessfully\n",
      "Cleared image 8\n",
      "Loading image 10 in background\n",
      "Loaded sucessfully\n",
      "Cleared image 9\n",
      "Loading image 11 in background\n",
      "Loaded sucessfully\n",
      "Cleared image 10\n",
      "Loading image 12 in background\n",
      "Loaded sucessfully\n",
      "Cleared image 11\n",
      "Loading image 13 in background\n",
      "Loaded sucessfully\n",
      "Cleared image 12\n",
      "Loading image 14 in background\n",
      "Loaded sucessfully\n",
      "Cleared image 13\n",
      "Loading image 15 in background\n",
      "Loaded sucessfully\n",
      "Cleared image 14\n",
      "Loading image 16 in background\n",
      "Loaded sucessfully\n",
      "Cleared image 15\n",
      "Loading image 17 in background\n",
      "Loaded sucessfully\n",
      "Cleared image 16\n",
      "Loading image 18 in background\n",
      "Loaded sucessfully\n",
      "Cleared image 17\n",
      "Loading image 19 in background\n",
      "Loaded sucessfully\n",
      "Cleared image 18\n",
      "Loading image 20 in background\n",
      "Loaded sucessfully\n",
      "Cleared image 19\n",
      "Loading image 21 in background\n",
      "Loaded sucessfully\n",
      "Cleared image 20\n",
      "Loading image 22 in background\n",
      "Loaded sucessfully\n",
      "Cleared image 21\n",
      "Loading image 23 in background\n",
      "Loaded sucessfully\n",
      "Cleared image 22\n",
      "Loading image 24 in background\n",
      "Loaded sucessfully\n",
      "Cleared image 23\n",
      "Loading image 0 in background\n",
      "Loaded sucessfully\n"
     ]
    },
    {
     "data": {
      "text/plain": [
       "(#1) [2.3833436965942383]"
      ]
     },
     "execution_count": 17,
     "metadata": {},
     "output_type": "execute_result"
    }
   ],
   "source": [
    "learner = learner.load('Resnet18-6chnls-trained')\n",
    "\n",
    "learner.validate(ds_idx=0)"
   ]
  },
  {
   "cell_type": "code",
   "execution_count": 9,
   "id": "f8c0c237-c889-4ef2-90e0-d2c1be0d59e2",
   "metadata": {},
   "outputs": [
    {
     "data": {
      "text/html": [
       "\n",
       "<style>\n",
       "    /* Turns off some styling */\n",
       "    progress {\n",
       "        /* gets rid of default border in Firefox and Opera. */\n",
       "        border: none;\n",
       "        /* Needs to be in here for Safari polyfill so background images work as expected. */\n",
       "        background-size: auto;\n",
       "    }\n",
       "    progress:not([value]), progress:not([value])::-webkit-progress-bar {\n",
       "        background: repeating-linear-gradient(45deg, #7e7e7e, #7e7e7e 10px, #5c5c5c 10px, #5c5c5c 20px);\n",
       "    }\n",
       "    .progress-bar-interrupted, .progress-bar-interrupted::-webkit-progress-bar {\n",
       "        background: #F44336;\n",
       "    }\n",
       "</style>\n"
      ],
      "text/plain": [
       "<IPython.core.display.HTML object>"
      ]
     },
     "metadata": {},
     "output_type": "display_data"
    },
    {
     "data": {
      "text/html": [],
      "text/plain": [
       "<IPython.core.display.HTML object>"
      ]
     },
     "metadata": {},
     "output_type": "display_data"
    },
    {
     "name": "stdout",
     "output_type": "stream",
     "text": [
      "Cleared image 24\n",
      "Loading image 1 in background\n",
      "Loaded sucessfully\n",
      "Cleared image 0\n",
      "Loading image 2 in background\n",
      "Loaded sucessfully\n",
      "Cleared image 1\n",
      "Loading image 3 in background\n",
      "Loaded sucessfully\n",
      "Cleared image 2\n",
      "Loading image 4 in background\n",
      "Loaded sucessfully\n",
      "Cleared image 3\n",
      "Loading image 5 in background\n",
      "Loaded sucessfully\n",
      "Cleared image 4\n",
      "Loading image 6 in background\n",
      "Loaded sucessfully\n",
      "Cleared image 5\n",
      "Loading image 7 in background\n",
      "Loaded sucessfully\n",
      "Cleared image 6\n",
      "Loading image 8 in background\n",
      "Loaded sucessfully\n",
      "Cleared image 7\n",
      "Loading image 9 in background\n",
      "Loaded sucessfully\n",
      "Cleared image 8\n",
      "Loading image 10 in background\n",
      "Loaded sucessfully\n",
      "Cleared image 9\n",
      "Loading image 11 in background\n",
      "Loaded sucessfully\n",
      "Cleared image 10\n",
      "Loading image 12 in background\n",
      "Loaded sucessfully\n",
      "Cleared image 11\n",
      "Loading image 13 in background\n",
      "Loaded sucessfully\n",
      "Cleared image 12\n",
      "Loading image 14 in background\n",
      "Loaded sucessfully\n",
      "Cleared image 13\n",
      "Loading image 15 in background\n",
      "Loaded sucessfully\n",
      "Cleared image 14\n",
      "Loading image 16 in background\n",
      "Loaded sucessfully\n",
      "Cleared image 15\n",
      "Loading image 17 in background\n",
      "Loaded sucessfully\n",
      "Cleared image 16\n",
      "Loading image 18 in background\n",
      "Loaded sucessfully\n",
      "Cleared image 17\n",
      "Loading image 19 in background\n",
      "Loaded sucessfully\n",
      "Cleared image 18\n",
      "Loading image 20 in background\n",
      "Loaded sucessfully\n",
      "Cleared image 19\n",
      "Loading image 21 in background\n",
      "Loaded sucessfully\n",
      "Cleared image 20\n",
      "Loading image 22 in background\n",
      "Loaded sucessfully\n",
      "Cleared image 21\n",
      "Loading image 23 in background\n",
      "Loaded sucessfully\n",
      "Cleared image 22\n",
      "Loading image 24 in background\n",
      "Loaded sucessfully\n",
      "Cleared image 23\n",
      "Loading image 0 in background\n",
      "Loaded sucessfully\n"
     ]
    },
    {
     "data": {
      "text/plain": [
       "(#1) [0.11449109017848969]"
      ]
     },
     "execution_count": 9,
     "metadata": {},
     "output_type": "execute_result"
    }
   ],
   "source": [
    "learner = learner.load('Resnet18-6chnls-re-trained')\n",
    "\n",
    "learner.validate(ds_idx=0)"
   ]
  },
  {
   "cell_type": "code",
   "execution_count": null,
   "id": "fcab724f-87db-4871-9a0e-f72357bd8de0",
   "metadata": {},
   "outputs": [],
   "source": []
  },
  {
   "cell_type": "code",
   "execution_count": null,
   "id": "c41ed4f0-feed-4230-8eca-78ef650c0a4a",
   "metadata": {},
   "outputs": [],
   "source": []
  },
  {
   "cell_type": "markdown",
   "id": "d7a63d89",
   "metadata": {},
   "source": [
    "### Checking model and predictions"
   ]
  },
  {
   "cell_type": "code",
   "execution_count": 11,
   "id": "b50329cd",
   "metadata": {
    "collapsed": true,
    "jupyter": {
     "outputs_hidden": true
    },
    "tags": []
   },
   "outputs": [
    {
     "data": {
      "text/html": [
       "\n",
       "<style>\n",
       "    /* Turns off some styling */\n",
       "    progress {\n",
       "        /* gets rid of default border in Firefox and Opera. */\n",
       "        border: none;\n",
       "        /* Needs to be in here for Safari polyfill so background images work as expected. */\n",
       "        background-size: auto;\n",
       "    }\n",
       "    progress:not([value]), progress:not([value])::-webkit-progress-bar {\n",
       "        background: repeating-linear-gradient(45deg, #7e7e7e, #7e7e7e 10px, #5c5c5c 10px, #5c5c5c 20px);\n",
       "    }\n",
       "    .progress-bar-interrupted, .progress-bar-interrupted::-webkit-progress-bar {\n",
       "        background: #F44336;\n",
       "    }\n",
       "</style>\n"
      ],
      "text/plain": [
       "<IPython.core.display.HTML object>"
      ]
     },
     "metadata": {},
     "output_type": "display_data"
    },
    {
     "data": {
      "text/html": [],
      "text/plain": [
       "<IPython.core.display.HTML object>"
      ]
     },
     "metadata": {},
     "output_type": "display_data"
    },
    {
     "name": "stdout",
     "output_type": "stream",
     "text": [
      "Loaded sucessfully\n"
     ]
    },
    {
     "data": {
      "text/plain": [
       "DynamicUnet (Input shape: 8 x 6 x 512 x 512)\n",
       "============================================================================\n",
       "Layer (type)         Output Shape         Param #    Trainable \n",
       "============================================================================\n",
       "                     8 x 64 x 256 x 256  \n",
       "Conv2d                                    18816      True      \n",
       "BatchNorm2d                               128        True      \n",
       "ReLU                                                           \n",
       "____________________________________________________________________________\n",
       "                     8 x 64 x 128 x 128  \n",
       "MaxPool2d                                                      \n",
       "Conv2d                                    36864      True      \n",
       "BatchNorm2d                               128        True      \n",
       "ReLU                                                           \n",
       "Conv2d                                    36864      True      \n",
       "BatchNorm2d                               128        True      \n",
       "Conv2d                                    36864      True      \n",
       "BatchNorm2d                               128        True      \n",
       "ReLU                                                           \n",
       "Conv2d                                    36864      True      \n",
       "BatchNorm2d                               128        True      \n",
       "____________________________________________________________________________\n",
       "                     8 x 128 x 64 x 64   \n",
       "Conv2d                                    73728      True      \n",
       "BatchNorm2d                               256        True      \n",
       "ReLU                                                           \n",
       "Conv2d                                    147456     True      \n",
       "BatchNorm2d                               256        True      \n",
       "Conv2d                                    8192       True      \n",
       "BatchNorm2d                               256        True      \n",
       "Conv2d                                    147456     True      \n",
       "BatchNorm2d                               256        True      \n",
       "ReLU                                                           \n",
       "Conv2d                                    147456     True      \n",
       "BatchNorm2d                               256        True      \n",
       "____________________________________________________________________________\n",
       "                     8 x 256 x 32 x 32   \n",
       "Conv2d                                    294912     True      \n",
       "BatchNorm2d                               512        True      \n",
       "ReLU                                                           \n",
       "Conv2d                                    589824     True      \n",
       "BatchNorm2d                               512        True      \n",
       "Conv2d                                    32768      True      \n",
       "BatchNorm2d                               512        True      \n",
       "Conv2d                                    589824     True      \n",
       "BatchNorm2d                               512        True      \n",
       "ReLU                                                           \n",
       "Conv2d                                    589824     True      \n",
       "BatchNorm2d                               512        True      \n",
       "____________________________________________________________________________\n",
       "                     8 x 512 x 16 x 16   \n",
       "Conv2d                                    1179648    True      \n",
       "BatchNorm2d                               1024       True      \n",
       "ReLU                                                           \n",
       "Conv2d                                    2359296    True      \n",
       "BatchNorm2d                               1024       True      \n",
       "Conv2d                                    131072     True      \n",
       "BatchNorm2d                               1024       True      \n",
       "Conv2d                                    2359296    True      \n",
       "BatchNorm2d                               1024       True      \n",
       "ReLU                                                           \n",
       "Conv2d                                    2359296    True      \n",
       "BatchNorm2d                               1024       True      \n",
       "BatchNorm2d                               1024       True      \n",
       "ReLU                                                           \n",
       "____________________________________________________________________________\n",
       "                     8 x 1024 x 16 x 16  \n",
       "Conv2d                                    4719616    True      \n",
       "ReLU                                                           \n",
       "____________________________________________________________________________\n",
       "                     8 x 512 x 16 x 16   \n",
       "Conv2d                                    4719104    True      \n",
       "ReLU                                                           \n",
       "____________________________________________________________________________\n",
       "                     8 x 1024 x 16 x 16  \n",
       "Conv2d                                    525312     True      \n",
       "ReLU                                                           \n",
       "____________________________________________________________________________\n",
       "                     8 x 256 x 32 x 32   \n",
       "PixelShuffle                                                   \n",
       "BatchNorm2d                               512        True      \n",
       "Conv2d                                    2359808    True      \n",
       "ReLU                                                           \n",
       "Conv2d                                    2359808    True      \n",
       "ReLU                                                           \n",
       "ReLU                                                           \n",
       "____________________________________________________________________________\n",
       "                     8 x 1024 x 32 x 32  \n",
       "Conv2d                                    525312     True      \n",
       "ReLU                                                           \n",
       "____________________________________________________________________________\n",
       "                     8 x 256 x 64 x 64   \n",
       "PixelShuffle                                                   \n",
       "BatchNorm2d                               256        True      \n",
       "Conv2d                                    1327488    True      \n",
       "ReLU                                                           \n",
       "Conv2d                                    1327488    True      \n",
       "ReLU                                                           \n",
       "ReLU                                                           \n",
       "____________________________________________________________________________\n",
       "                     8 x 768 x 64 x 64   \n",
       "Conv2d                                    295680     True      \n",
       "ReLU                                                           \n",
       "____________________________________________________________________________\n",
       "                     8 x 192 x 128 x 128 \n",
       "PixelShuffle                                                   \n",
       "BatchNorm2d                               128        True      \n",
       "Conv2d                                    590080     True      \n",
       "ReLU                                                           \n",
       "Conv2d                                    590080     True      \n",
       "ReLU                                                           \n",
       "ReLU                                                           \n",
       "____________________________________________________________________________\n",
       "                     8 x 512 x 128 x 128 \n",
       "Conv2d                                    131584     True      \n",
       "ReLU                                                           \n",
       "____________________________________________________________________________\n",
       "                     8 x 128 x 256 x 256 \n",
       "PixelShuffle                                                   \n",
       "BatchNorm2d                               128        True      \n",
       "____________________________________________________________________________\n",
       "                     8 x 96 x 256 x 256  \n",
       "Conv2d                                    165984     True      \n",
       "ReLU                                                           \n",
       "Conv2d                                    83040      True      \n",
       "ReLU                                                           \n",
       "ReLU                                                           \n",
       "____________________________________________________________________________\n",
       "                     8 x 384 x 256 x 256 \n",
       "Conv2d                                    37248      True      \n",
       "ReLU                                                           \n",
       "____________________________________________________________________________\n",
       "                     8 x 96 x 512 x 512  \n",
       "PixelShuffle                                                   \n",
       "ResizeToOrig                                                   \n",
       "____________________________________________________________________________\n",
       "                     8 x 102 x 512 x 512 \n",
       "MergeLayer                                                     \n",
       "Conv2d                                    93738      True      \n",
       "ReLU                                                           \n",
       "Conv2d                                    93738      True      \n",
       "Sequential                                                     \n",
       "ReLU                                                           \n",
       "____________________________________________________________________________\n",
       "                     8 x 3 x 512 x 512   \n",
       "Conv2d                                    309        True      \n",
       "ToTensorBase                                                   \n",
       "____________________________________________________________________________\n",
       "\n",
       "Total params: 31,133,385\n",
       "Total trainable params: 31,133,385\n",
       "Total non-trainable params: 0\n",
       "\n",
       "Optimizer used: <function Adam at 0x7f78a3ac90d0>\n",
       "Loss function: FlattenedLoss of CrossEntropyLoss()\n",
       "\n",
       "Callbacks:\n",
       "  - TrainEvalCallback\n",
       "  - CastToTensor\n",
       "  - Recorder\n",
       "  - ProgressCallback"
      ]
     },
     "execution_count": 11,
     "metadata": {},
     "output_type": "execute_result"
    }
   ],
   "source": [
    "learner.summary()"
   ]
  },
  {
   "cell_type": "code",
   "execution_count": 12,
   "id": "bb912cc6",
   "metadata": {},
   "outputs": [
    {
     "name": "stdout",
     "output_type": "stream",
     "text": [
      "torch.Size([8, 6, 512, 512]) torch.Size([8, 512, 512])\n"
     ]
    }
   ],
   "source": [
    "batch, target = learner.dls.train.one_batch()\n",
    "print(batch.shape, target.shape)"
   ]
  },
  {
   "cell_type": "code",
   "execution_count": null,
   "id": "5ae4f11e-220e-456f-b357-36c1efcb62aa",
   "metadata": {},
   "outputs": [],
   "source": [
    "pred = learner.model(batch)\n",
    "CrossEntropyLossFlat(axis=1)(pred, target)"
   ]
  },
  {
   "cell_type": "markdown",
   "id": "5ea61b7f-988c-4a8f-b232-ca590632ffb6",
   "metadata": {},
   "source": [
    "## Loading the trained model"
   ]
  },
  {
   "cell_type": "code",
   "execution_count": 10,
   "id": "bf0fa951-de5d-4133-b548-974d662f10e8",
   "metadata": {},
   "outputs": [],
   "source": [
    "learner = learner.load('Resnet18-6chnls-trained-3')"
   ]
  },
  {
   "cell_type": "code",
   "execution_count": 13,
   "id": "6122176d-fd88-4251-b5c0-bb1409aa0260",
   "metadata": {},
   "outputs": [
    {
     "data": {
      "text/plain": [
       "TensorBase(0.4435, grad_fn=<AliasBackward0>)"
      ]
     },
     "execution_count": 13,
     "metadata": {},
     "output_type": "execute_result"
    }
   ],
   "source": [
    "# test the same batch\n",
    "pred = learner.model(batch)\n",
    "CrossEntropyLossFlat(axis=1)(pred, target)"
   ]
  },
  {
   "cell_type": "markdown",
   "id": "76552f92",
   "metadata": {},
   "source": [
    "## Visualizing the results"
   ]
  },
  {
   "cell_type": "code",
   "execution_count": 14,
   "id": "8b78156b",
   "metadata": {},
   "outputs": [],
   "source": [
    "from waternet.wnvisualizer import WNVisualizer"
   ]
  },
  {
   "cell_type": "code",
   "execution_count": 15,
   "id": "9339b291-7ace-4ebd-863a-a409ec72b0b5",
   "metadata": {},
   "outputs": [],
   "source": [
    "visu = WNVisualizer(learner.dls.train, learner)"
   ]
  },
  {
   "cell_type": "code",
   "execution_count": 16,
   "id": "2baeb490-5f8e-4e27-ba1d-dabf41210a95",
   "metadata": {},
   "outputs": [
    {
     "data": {
      "text/plain": [
       "(6, 512, 512)"
      ]
     },
     "execution_count": 16,
     "metadata": {},
     "output_type": "execute_result"
    }
   ],
   "source": [
    "visu.predict_item(0)['item'].shape"
   ]
  },
  {
   "cell_type": "code",
   "execution_count": 59,
   "id": "f52d9820-df1d-45e3-91c6-06d30f17c30e",
   "metadata": {},
   "outputs": [
    {
     "data": {
      "image/png": "[encoded data removed]",
      "text/plain": [
       "<Figure size 1500x500 with 3 Axes>"
      ]
     },
     "metadata": {},
     "output_type": "display_data"
    }
   ],
   "source": [
    "visu.show_pred(579)"
   ]
  },
  {
   "cell_type": "code",
   "execution_count": null,
   "id": "151f4772-ddf8-45ef-b253-9f3c0a9eb49b",
   "metadata": {},
   "outputs": [],
   "source": []
  }
 ],
 "metadata": {
  "kernelspec": {
   "display_name": "Python [conda env:notebook] *",
   "language": "python",
   "name": "conda-env-notebook-py"
  },
  "language_info": {
   "codemirror_mode": {
    "name": "ipython",
    "version": 3
   },
   "file_extension": ".py",
   "mimetype": "text/x-python",
   "name": "python",
   "nbconvert_exporter": "python",
   "pygments_lexer": "ipython3",
   "version": "3.10.6"
  },
  "vscode": {
   "interpreter": {
    "hash": "b8d564a5e78fa920f6d109e3b6389da476a9ea846c62606ff1aca0006ea12436"
   }
  }
 },
 "nbformat": 4,
 "nbformat_minor": 5
}
