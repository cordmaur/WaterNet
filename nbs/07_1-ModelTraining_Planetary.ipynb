{
 "cells": [
  {
   "cell_type": "markdown",
   "id": "d003bde1-3fa5-40f3-82c5-500c83f7743c",
   "metadata": {},
   "source": [
    "# Planetary Training"
   ]
  },
  {
   "cell_type": "markdown",
   "id": "fc880c3c",
   "metadata": {},
   "source": [
    "This second model looks for difference in using pretrained weights"
   ]
  },
  {
   "cell_type": "code",
   "execution_count": 2,
   "id": "d36f1de3-3afb-434e-b21e-1e7550ec1b29",
   "metadata": {},
   "outputs": [],
   "source": [
    "%load_ext autoreload\n",
    "%autoreload 2\n",
    "\n",
    "import importlib    \n",
    "\n",
    "# check if it is using CPU or GPU\n",
    "# First the CPU version\n",
    "if importlib.util.find_spec('torch') is None:\n",
    "    %pip install --quiet torch torchvision --extra-index-url https://download.pytorch.org/whl/cpu\n",
    "\n",
    "\n",
    "if importlib.util.find_spec('fastai') is None:\n",
    "    # Then install fastai from code\n",
    "    !cd /tmp; git clone https://github.com/fastai/fastai -q\n",
    "    %pip -q install -e /tmp/fastai \n",
    "\n",
    "# Install WaterNet\n",
    "if importlib.util.find_spec('waternet') is None:\n",
    "    %pip install -e /home/jovyan/projects/WaterNet/\n",
    "    \n",
    "from waternet.wndataset import WNDataSet\n",
    "from fastai.vision.all import *\n",
    "\n"
   ]
  },
  {
   "cell_type": "markdown",
   "id": "4b54a6fe",
   "metadata": {},
   "source": [
    "### Creating the Datasets"
   ]
  },
  {
   "cell_type": "code",
   "execution_count": 3,
   "id": "a4e3310c-433c-4cb9-9c78-4ba3246b76b6",
   "metadata": {},
   "outputs": [],
   "source": [
    "masks_path = '/home/jovyan/tmp3'\n",
    "training_bands = ['B04', 'B03', 'B02', 'B08', 'B11', 'B12']\n",
    "# masks_path='d:/temp/22KEV/'"
   ]
  },
  {
   "cell_type": "code",
   "execution_count": 4,
   "id": "341682e6-1d6c-4ba3-98a6-bbfcfd11d10c",
   "metadata": {},
   "outputs": [
    {
     "data": {
      "application/vnd.jupyter.widget-view+json": {
       "model_id": "d86138ff367b46b8bb15128c1be9695c",
       "version_major": 2,
       "version_minor": 0
      },
      "text/plain": [
       "Matching imgs/masks:   0%|          | 0/106 [00:00<?, ?it/s]"
      ]
     },
     "metadata": {},
     "output_type": "display_data"
    }
   ],
   "source": [
    "# default config for shape, size and step\n",
    "config = dict(\n",
    "    shape=(5490, 5490),\n",
    "    patch_size=(512, 512),\n",
    "    step=262,    \n",
    ")\n",
    "\n",
    "# 2018 october for training\n",
    "train_ds = WNDataSet.from_masks(\n",
    "    masks_path=masks_path,\n",
    "    pattern='*S2A*watermask.tif',\n",
    "    **config\n",
    ")"
   ]
  },
  {
   "cell_type": "code",
   "execution_count": 5,
   "id": "ecbd9fdf-f062-42b4-ba54-26ce423c57a3",
   "metadata": {},
   "outputs": [
    {
     "data": {
      "application/vnd.jupyter.widget-view+json": {
       "model_id": "7a1f5e9304ad44b28ac5200d9ab98607",
       "version_major": 2,
       "version_minor": 0
      },
      "text/plain": [
       "Matching imgs/masks:   0%|          | 0/25 [00:00<?, ?it/s]"
      ]
     },
     "metadata": {},
     "output_type": "display_data"
    }
   ],
   "source": [
    "# a single image for the validation\n",
    "valid_ds = WNDataSet.from_masks(\n",
    "    masks_path=masks_path,\n",
    "    pattern='*S2B_MSIL2A_2021*watermask.tif',\n",
    "    **config\n",
    ")"
   ]
  },
  {
   "cell_type": "code",
   "execution_count": 6,
   "id": "9688a3d1-098f-4811-a873-b71997161c35",
   "metadata": {},
   "outputs": [
    {
     "name": "stdout",
     "output_type": "stream",
     "text": [
      "WNDataset instance with 106 images\n",
      "Loaded: 0 items\n",
      "Empty: 106 items\n",
      "Loading: 0 items\n",
      "\n",
      "WNDataset instance with 25 images\n",
      "Loaded: 0 items\n",
      "Empty: 25 items\n",
      "Loading: 0 items\n",
      "\n"
     ]
    }
   ],
   "source": [
    "train_ds.bands = training_bands\n",
    "valid_ds.bands = training_bands\n",
    "\n",
    "print(train_ds)\n",
    "print(valid_ds)"
   ]
  },
  {
   "cell_type": "markdown",
   "id": "3fc2874c",
   "metadata": {},
   "source": [
    "### Creating Dataloaders"
   ]
  },
  {
   "cell_type": "code",
   "execution_count": 8,
   "id": "46184e42",
   "metadata": {},
   "outputs": [],
   "source": [
    "# Create two dataloaders (for training and validation)\n",
    "# Put it in the GPU\n",
    "dls = DataLoaders(\n",
    "    DataLoader(train_ds, bs=6),\n",
    "    DataLoader(valid_ds, bs=6)\n",
    ") # .cuda()"
   ]
  },
  {
   "cell_type": "code",
   "execution_count": 7,
   "id": "a5017b54",
   "metadata": {},
   "outputs": [],
   "source": [
    "# m, t = dls.valid.one_batch()\n",
    "# m.device"
   ]
  },
  {
   "cell_type": "code",
   "execution_count": 8,
   "id": "6007071f",
   "metadata": {},
   "outputs": [],
   "source": [
    "# dls.train.one_batch()[0].shape"
   ]
  },
  {
   "cell_type": "markdown",
   "id": "b584777c",
   "metadata": {},
   "source": [
    "### Creating the Learner"
   ]
  },
  {
   "cell_type": "code",
   "execution_count": 9,
   "id": "abe670fb-e7ad-4c5d-944b-6015065cee8a",
   "metadata": {},
   "outputs": [
    {
     "name": "stdout",
     "output_type": "stream",
     "text": [
      "Loading image 1 in background\n"
     ]
    },
    {
     "name": "stderr",
     "output_type": "stream",
     "text": [
      "/srv/conda/envs/notebook/lib/python3.9/site-packages/torchvision/models/_utils.py:208: UserWarning: The parameter 'pretrained' is deprecated since 0.13 and will be removed in 0.15, please use 'weights' instead.\n",
      "  warnings.warn(\n",
      "/srv/conda/envs/notebook/lib/python3.9/site-packages/torchvision/models/_utils.py:223: UserWarning: Arguments other than a weight enum or `None` for 'weights' are deprecated since 0.13 and will be removed in 0.15. The current behavior is equivalent to passing `weights=ResNet18_Weights.IMAGENET1K_V1`. You can also use `weights=ResNet18_Weights.DEFAULT` to get the most up-to-date weights.\n",
      "  warnings.warn(msg)\n"
     ]
    }
   ],
   "source": [
    "learner = unet_learner(\n",
    "    dls, arch=resnet18, pretrained=True, normalize=False, n_in=6, n_out=3, loss_func=CrossEntropyLossFlat(axis=1)\n",
    ")"
   ]
  },
  {
   "cell_type": "code",
   "execution_count": 10,
   "id": "ac86dd47-84b3-4622-980a-23eb86f9b236",
   "metadata": {},
   "outputs": [
    {
     "name": "stdout",
     "output_type": "stream",
     "text": [
      "Loaded sucessfully\n"
     ]
    }
   ],
   "source": [
    "cuda_model = learner.cuda()\n",
    "learner.dls = learner.dls.cuda()"
   ]
  },
  {
   "cell_type": "markdown",
   "id": "d7a63d89",
   "metadata": {},
   "source": [
    "### Checking model and predictions"
   ]
  },
  {
   "cell_type": "code",
   "execution_count": 17,
   "id": "4319b533-706b-459e-a4ed-fe54ac7d3fa4",
   "metadata": {},
   "outputs": [],
   "source": [
    "learner.unfreeze()"
   ]
  },
  {
   "cell_type": "code",
   "execution_count": 18,
   "id": "b50329cd",
   "metadata": {
    "collapsed": true,
    "jupyter": {
     "outputs_hidden": true
    },
    "tags": []
   },
   "outputs": [
    {
     "data": {
      "text/html": [
       "\n",
       "<style>\n",
       "    /* Turns off some styling */\n",
       "    progress {\n",
       "        /* gets rid of default border in Firefox and Opera. */\n",
       "        border: none;\n",
       "        /* Needs to be in here for Safari polyfill so background images work as expected. */\n",
       "        background-size: auto;\n",
       "    }\n",
       "    progress:not([value]), progress:not([value])::-webkit-progress-bar {\n",
       "        background: repeating-linear-gradient(45deg, #7e7e7e, #7e7e7e 10px, #5c5c5c 10px, #5c5c5c 20px);\n",
       "    }\n",
       "    .progress-bar-interrupted, .progress-bar-interrupted::-webkit-progress-bar {\n",
       "        background: #F44336;\n",
       "    }\n",
       "</style>\n"
      ],
      "text/plain": [
       "<IPython.core.display.HTML object>"
      ]
     },
     "metadata": {},
     "output_type": "display_data"
    },
    {
     "data": {
      "text/html": [],
      "text/plain": [
       "<IPython.core.display.HTML object>"
      ]
     },
     "metadata": {},
     "output_type": "display_data"
    },
    {
     "data": {
      "text/plain": [
       "DynamicUnet (Input shape: 8 x 6 x 512 x 512)\n",
       "============================================================================\n",
       "Layer (type)         Output Shape         Param #    Trainable \n",
       "============================================================================\n",
       "                     8 x 64 x 256 x 256  \n",
       "Conv2d                                    18816      True      \n",
       "BatchNorm2d                               128        True      \n",
       "ReLU                                                           \n",
       "____________________________________________________________________________\n",
       "                     8 x 64 x 128 x 128  \n",
       "MaxPool2d                                                      \n",
       "Conv2d                                    36864      True      \n",
       "BatchNorm2d                               128        True      \n",
       "ReLU                                                           \n",
       "Conv2d                                    36864      True      \n",
       "BatchNorm2d                               128        True      \n",
       "Conv2d                                    36864      True      \n",
       "BatchNorm2d                               128        True      \n",
       "ReLU                                                           \n",
       "Conv2d                                    36864      True      \n",
       "BatchNorm2d                               128        True      \n",
       "____________________________________________________________________________\n",
       "                     8 x 128 x 64 x 64   \n",
       "Conv2d                                    73728      True      \n",
       "BatchNorm2d                               256        True      \n",
       "ReLU                                                           \n",
       "Conv2d                                    147456     True      \n",
       "BatchNorm2d                               256        True      \n",
       "Conv2d                                    8192       True      \n",
       "BatchNorm2d                               256        True      \n",
       "Conv2d                                    147456     True      \n",
       "BatchNorm2d                               256        True      \n",
       "ReLU                                                           \n",
       "Conv2d                                    147456     True      \n",
       "BatchNorm2d                               256        True      \n",
       "____________________________________________________________________________\n",
       "                     8 x 256 x 32 x 32   \n",
       "Conv2d                                    294912     True      \n",
       "BatchNorm2d                               512        True      \n",
       "ReLU                                                           \n",
       "Conv2d                                    589824     True      \n",
       "BatchNorm2d                               512        True      \n",
       "Conv2d                                    32768      True      \n",
       "BatchNorm2d                               512        True      \n",
       "Conv2d                                    589824     True      \n",
       "BatchNorm2d                               512        True      \n",
       "ReLU                                                           \n",
       "Conv2d                                    589824     True      \n",
       "BatchNorm2d                               512        True      \n",
       "____________________________________________________________________________\n",
       "                     8 x 512 x 16 x 16   \n",
       "Conv2d                                    1179648    True      \n",
       "BatchNorm2d                               1024       True      \n",
       "ReLU                                                           \n",
       "Conv2d                                    2359296    True      \n",
       "BatchNorm2d                               1024       True      \n",
       "Conv2d                                    131072     True      \n",
       "BatchNorm2d                               1024       True      \n",
       "Conv2d                                    2359296    True      \n",
       "BatchNorm2d                               1024       True      \n",
       "ReLU                                                           \n",
       "Conv2d                                    2359296    True      \n",
       "BatchNorm2d                               1024       True      \n",
       "BatchNorm2d                               1024       True      \n",
       "ReLU                                                           \n",
       "____________________________________________________________________________\n",
       "                     8 x 1024 x 16 x 16  \n",
       "Conv2d                                    4719616    True      \n",
       "ReLU                                                           \n",
       "____________________________________________________________________________\n",
       "                     8 x 512 x 16 x 16   \n",
       "Conv2d                                    4719104    True      \n",
       "ReLU                                                           \n",
       "____________________________________________________________________________\n",
       "                     8 x 1024 x 16 x 16  \n",
       "Conv2d                                    525312     True      \n",
       "ReLU                                                           \n",
       "____________________________________________________________________________\n",
       "                     8 x 256 x 32 x 32   \n",
       "PixelShuffle                                                   \n",
       "BatchNorm2d                               512        True      \n",
       "Conv2d                                    2359808    True      \n",
       "ReLU                                                           \n",
       "Conv2d                                    2359808    True      \n",
       "ReLU                                                           \n",
       "ReLU                                                           \n",
       "____________________________________________________________________________\n",
       "                     8 x 1024 x 32 x 32  \n",
       "Conv2d                                    525312     True      \n",
       "ReLU                                                           \n",
       "____________________________________________________________________________\n",
       "                     8 x 256 x 64 x 64   \n",
       "PixelShuffle                                                   \n",
       "BatchNorm2d                               256        True      \n",
       "Conv2d                                    1327488    True      \n",
       "ReLU                                                           \n",
       "Conv2d                                    1327488    True      \n",
       "ReLU                                                           \n",
       "ReLU                                                           \n",
       "____________________________________________________________________________\n",
       "                     8 x 768 x 64 x 64   \n",
       "Conv2d                                    295680     True      \n",
       "ReLU                                                           \n",
       "____________________________________________________________________________\n",
       "                     8 x 192 x 128 x 128 \n",
       "PixelShuffle                                                   \n",
       "BatchNorm2d                               128        True      \n",
       "Conv2d                                    590080     True      \n",
       "ReLU                                                           \n",
       "Conv2d                                    590080     True      \n",
       "ReLU                                                           \n",
       "ReLU                                                           \n",
       "____________________________________________________________________________\n",
       "                     8 x 512 x 128 x 128 \n",
       "Conv2d                                    131584     True      \n",
       "ReLU                                                           \n",
       "____________________________________________________________________________\n",
       "                     8 x 128 x 256 x 256 \n",
       "PixelShuffle                                                   \n",
       "BatchNorm2d                               128        True      \n",
       "____________________________________________________________________________\n",
       "                     8 x 96 x 256 x 256  \n",
       "Conv2d                                    165984     True      \n",
       "ReLU                                                           \n",
       "Conv2d                                    83040      True      \n",
       "ReLU                                                           \n",
       "ReLU                                                           \n",
       "____________________________________________________________________________\n",
       "                     8 x 384 x 256 x 256 \n",
       "Conv2d                                    37248      True      \n",
       "ReLU                                                           \n",
       "____________________________________________________________________________\n",
       "                     8 x 96 x 512 x 512  \n",
       "PixelShuffle                                                   \n",
       "ResizeToOrig                                                   \n",
       "____________________________________________________________________________\n",
       "                     8 x 102 x 512 x 512 \n",
       "MergeLayer                                                     \n",
       "Conv2d                                    93738      True      \n",
       "ReLU                                                           \n",
       "Conv2d                                    93738      True      \n",
       "Sequential                                                     \n",
       "ReLU                                                           \n",
       "____________________________________________________________________________\n",
       "                     8 x 3 x 512 x 512   \n",
       "Conv2d                                    309        True      \n",
       "ToTensorBase                                                   \n",
       "____________________________________________________________________________\n",
       "\n",
       "Total params: 31,133,385\n",
       "Total trainable params: 31,133,385\n",
       "Total non-trainable params: 0\n",
       "\n",
       "Optimizer used: <function Adam at 0x7fec6b2f7ac0>\n",
       "Loss function: FlattenedLoss of CrossEntropyLoss()\n",
       "\n",
       "Model unfrozen\n",
       "\n",
       "Callbacks:\n",
       "  - TrainEvalCallback\n",
       "  - CastToTensor\n",
       "  - Recorder\n",
       "  - ProgressCallback"
      ]
     },
     "execution_count": 18,
     "metadata": {},
     "output_type": "execute_result"
    }
   ],
   "source": [
    "learner.summary()"
   ]
  },
  {
   "cell_type": "code",
   "execution_count": 10,
   "id": "bb912cc6",
   "metadata": {},
   "outputs": [
    {
     "name": "stdout",
     "output_type": "stream",
     "text": [
      "torch.Size([8, 6, 512, 512]) torch.Size([8, 512, 512])\n"
     ]
    }
   ],
   "source": [
    "batch, target = dls.train.one_batch()\n",
    "print(batch.shape, target.shape)"
   ]
  },
  {
   "cell_type": "code",
   "execution_count": 11,
   "id": "2bb0a04e",
   "metadata": {},
   "outputs": [
    {
     "data": {
      "text/plain": [
       "torch.Size([8, 3, 512, 512])"
      ]
     },
     "execution_count": 11,
     "metadata": {},
     "output_type": "execute_result"
    }
   ],
   "source": [
    "# Calculate the predictions for the 4 patches (1 batch)\n",
    "pred = learner.model(batch)\n",
    "pred.shape"
   ]
  },
  {
   "cell_type": "code",
   "execution_count": 12,
   "id": "bdf642d7",
   "metadata": {},
   "outputs": [
    {
     "data": {
      "text/plain": [
       "TensorBase(1.6239, grad_fn=<AliasBackward0>)"
      ]
     },
     "execution_count": 12,
     "metadata": {},
     "output_type": "execute_result"
    }
   ],
   "source": [
    "CrossEntropyLossFlat(axis=1)(pred, target)"
   ]
  },
  {
   "cell_type": "markdown",
   "id": "dedade94",
   "metadata": {},
   "source": [
    "### Running LrFind"
   ]
  },
  {
   "cell_type": "markdown",
   "id": "6d8555a2",
   "metadata": {},
   "source": [
    "Up to now, evertying was done in the CPU, but to run large amounts, it is necessary to load the data in the Cuda device. For that we will put them in the GPU and find the best learning rate."
   ]
  },
  {
   "cell_type": "code",
   "execution_count": 16,
   "id": "0e7122d4",
   "metadata": {},
   "outputs": [
    {
     "data": {
      "text/html": [
       "\n",
       "<style>\n",
       "    /* Turns off some styling */\n",
       "    progress {\n",
       "        /* gets rid of default border in Firefox and Opera. */\n",
       "        border: none;\n",
       "        /* Needs to be in here for Safari polyfill so background images work as expected. */\n",
       "        background-size: auto;\n",
       "    }\n",
       "    progress:not([value]), progress:not([value])::-webkit-progress-bar {\n",
       "        background: repeating-linear-gradient(45deg, #7e7e7e, #7e7e7e 10px, #5c5c5c 10px, #5c5c5c 20px);\n",
       "    }\n",
       "    .progress-bar-interrupted, .progress-bar-interrupted::-webkit-progress-bar {\n",
       "        background: #F44336;\n",
       "    }\n",
       "</style>\n"
      ],
      "text/plain": [
       "<IPython.core.display.HTML object>"
      ]
     },
     "metadata": {},
     "output_type": "display_data"
    },
    {
     "data": {
      "text/html": [],
      "text/plain": [
       "<IPython.core.display.HTML object>"
      ]
     },
     "metadata": {},
     "output_type": "display_data"
    },
    {
     "name": "stdout",
     "output_type": "stream",
     "text": [
      "Cleared image 0\n",
      "Loading image 2 in background\n",
      "Loaded sucessfully\n"
     ]
    },
    {
     "data": {
      "text/plain": [
       "SuggestedLRs(valley=7.585775892948732e-05)"
      ]
     },
     "execution_count": 16,
     "metadata": {},
     "output_type": "execute_result"
    },
    {
     "data": {
      "image/png": "[encoded data removed]",
      "text/plain": [
       "<Figure size 640x480 with 1 Axes>"
      ]
     },
     "metadata": {},
     "output_type": "display_data"
    }
   ],
   "source": [
    "learner.lr_find()"
   ]
  },
  {
   "cell_type": "code",
   "execution_count": null,
   "id": "6cf7e546",
   "metadata": {},
   "outputs": [
    {
     "data": {
      "text/html": [
       "\n",
       "<style>\n",
       "    /* Turns off some styling */\n",
       "    progress {\n",
       "        /* gets rid of default border in Firefox and Opera. */\n",
       "        border: none;\n",
       "        /* Needs to be in here for Safari polyfill so background images work as expected. */\n",
       "        background-size: auto;\n",
       "    }\n",
       "    progress:not([value]), progress:not([value])::-webkit-progress-bar {\n",
       "        background: repeating-linear-gradient(45deg, #7e7e7e, #7e7e7e 10px, #5c5c5c 10px, #5c5c5c 20px);\n",
       "    }\n",
       "    .progress-bar-interrupted, .progress-bar-interrupted::-webkit-progress-bar {\n",
       "        background: #F44336;\n",
       "    }\n",
       "</style>\n"
      ],
      "text/plain": [
       "<IPython.core.display.HTML object>"
      ]
     },
     "metadata": {},
     "output_type": "display_data"
    },
    {
     "data": {
      "text/html": [
       "\n",
       "    <div>\n",
       "      <progress value='0' class='' max='1' style='width:300px; height:20px; vertical-align: middle;'></progress>\n",
       "      0.00% [0/1 00:00&lt;?]\n",
       "    </div>\n",
       "    \n",
       "<table border=\"1\" class=\"dataframe\">\n",
       "  <thead>\n",
       "    <tr style=\"text-align: left;\">\n",
       "      <th>epoch</th>\n",
       "      <th>train_loss</th>\n",
       "      <th>valid_loss</th>\n",
       "      <th>time</th>\n",
       "    </tr>\n",
       "  </thead>\n",
       "  <tbody>\n",
       "  </tbody>\n",
       "</table><p>\n",
       "\n",
       "    <div>\n",
       "      <progress value='3778' class='' max='7067' style='width:300px; height:20px; vertical-align: middle;'></progress>\n",
       "      53.46% [3778/7067 1:01:56&lt;53:55 0.1276]\n",
       "    </div>\n",
       "    "
      ],
      "text/plain": [
       "<IPython.core.display.HTML object>"
      ]
     },
     "metadata": {},
     "output_type": "display_data"
    },
    {
     "name": "stdout",
     "output_type": "stream",
     "text": [
      "Cleared image 0\n",
      "Loading image 2 in background\n",
      "Loaded sucessfully\n",
      "Cleared image 1\n",
      "Loading image 3 in background\n",
      "Loaded sucessfully\n",
      "Cleared image 2\n",
      "Loading image 4 in background\n",
      "Loaded sucessfully\n",
      "Cleared image 3\n",
      "Loading image 5 in background\n",
      "Loaded sucessfully\n",
      "Cleared image 4\n",
      "Loading image 6 in background\n",
      "Loaded sucessfully\n",
      "Cleared image 5\n",
      "Loading image 7 in background\n",
      "Loaded sucessfully\n",
      "Cleared image 6\n",
      "Loading image 8 in background\n",
      "Loaded sucessfully\n",
      "Cleared image 7\n",
      "Loading image 9 in background\n",
      "Loaded sucessfully\n",
      "Cleared image 8\n",
      "Loading image 10 in background\n",
      "Loaded sucessfully\n",
      "Cleared image 9\n",
      "Loading image 11 in background\n",
      "Loaded sucessfully\n",
      "Cleared image 10\n",
      "Loading image 12 in background\n",
      "Loaded sucessfully\n",
      "Cleared image 11\n",
      "Loading image 13 in background\n",
      "Loaded sucessfully\n",
      "Cleared image 12\n",
      "Loading image 14 in background\n",
      "Loaded sucessfully\n",
      "Cleared image 13\n",
      "Loading image 15 in background\n",
      "Loaded sucessfully\n",
      "Cleared image 14\n",
      "Loading image 16 in background\n",
      "Loaded sucessfully\n",
      "Cleared image 15\n",
      "Loading image 17 in background\n",
      "Loaded sucessfully\n",
      "Cleared image 16\n",
      "Loading image 18 in background\n",
      "Loaded sucessfully\n",
      "Cleared image 17\n",
      "Loading image 19 in background\n",
      "Loaded sucessfully\n",
      "Cleared image 18\n",
      "Loading image 20 in background\n",
      "Loaded sucessfully\n",
      "Cleared image 19\n",
      "Loading image 21 in background\n",
      "Loaded sucessfully\n",
      "Cleared image 20\n",
      "Loading image 22 in background\n",
      "Loaded sucessfully\n",
      "Cleared image 21\n",
      "Loading image 23 in background\n",
      "Loaded sucessfully\n",
      "Cleared image 22\n",
      "Loading image 24 in background\n",
      "Loaded sucessfully\n",
      "Cleared image 23\n",
      "Loading image 25 in background\n",
      "Loaded sucessfully\n",
      "Cleared image 24\n",
      "Loading image 26 in background\n",
      "Loaded sucessfully\n",
      "Cleared image 25\n",
      "Loading image 27 in background\n",
      "Loaded sucessfully\n",
      "Cleared image 26\n",
      "Loading image 28 in background\n",
      "Loaded sucessfully\n",
      "Cleared image 27\n",
      "Loading image 29 in background\n",
      "Loaded sucessfully\n",
      "Cleared image 28\n",
      "Loading image 30 in background\n",
      "Loaded sucessfully\n",
      "Cleared image 29\n",
      "Loading image 31 in background\n",
      "Loaded sucessfully\n",
      "Cleared image 30\n",
      "Loading image 32 in background\n",
      "Loaded sucessfully\n",
      "Cleared image 31\n",
      "Loading image 33 in background\n",
      "Loaded sucessfully\n",
      "Cleared image 32\n",
      "Loading image 34 in background\n",
      "Loaded sucessfully\n",
      "Cleared image 33\n",
      "Loading image 35 in background\n",
      "Loaded sucessfully\n",
      "Cleared image 34\n",
      "Loading image 36 in background\n",
      "Loaded sucessfully\n",
      "Cleared image 35\n",
      "Loading image 37 in background\n",
      "Loaded sucessfully\n",
      "Cleared image 36\n",
      "Loading image 38 in background\n",
      "Loaded sucessfully\n",
      "Cleared image 37\n",
      "Loading image 39 in background\n",
      "Loaded sucessfully\n",
      "Cleared image 38\n",
      "Loading image 40 in background\n",
      "Loaded sucessfully\n",
      "Cleared image 39\n",
      "Loading image 41 in background\n",
      "Loaded sucessfully\n",
      "Cleared image 40\n",
      "Loading image 42 in background\n",
      "Loaded sucessfully\n",
      "Cleared image 41\n",
      "Loading image 43 in background\n",
      "Loaded sucessfully\n",
      "Cleared image 42\n",
      "Loading image 44 in background\n",
      "Loaded sucessfully\n",
      "Cleared image 43\n",
      "Loading image 45 in background\n",
      "Loaded sucessfully\n",
      "Cleared image 44\n",
      "Loading image 46 in background\n",
      "Loaded sucessfully\n",
      "Cleared image 45\n",
      "Loading image 47 in background\n",
      "Loaded sucessfully\n",
      "Cleared image 46\n",
      "Loading image 48 in background\n",
      "Loaded sucessfully\n",
      "Cleared image 47\n",
      "Loading image 49 in background\n",
      "Loaded sucessfully\n",
      "Cleared image 48\n",
      "Loading image 50 in background\n",
      "Loaded sucessfully\n",
      "Cleared image 49\n",
      "Loading image 51 in background\n",
      "Loaded sucessfully\n",
      "Cleared image 50\n",
      "Loading image 52 in background\n",
      "Loaded sucessfully\n",
      "Cleared image 51\n",
      "Loading image 53 in background\n",
      "Loaded sucessfully\n",
      "Cleared image 52\n",
      "Loading image 54 in background\n",
      "Loaded sucessfully\n",
      "Cleared image 53\n",
      "Loading image 55 in background\n",
      "Loaded sucessfully\n",
      "Cleared image 54\n",
      "Loading image 56 in background\n",
      "Loaded sucessfully\n",
      "Cleared image 55\n",
      "Loading image 57 in background\n",
      "Loaded sucessfully\n"
     ]
    }
   ],
   "source": [
    "learner.fit_one_cycle(1, lr_max=2e-4)"
   ]
  },
  {
   "cell_type": "code",
   "execution_count": null,
   "id": "5688945d",
   "metadata": {},
   "outputs": [],
   "source": [
    "learner.save('Resnet18-6chnls-trained')"
   ]
  },
  {
   "cell_type": "markdown",
   "id": "76552f92",
   "metadata": {},
   "source": [
    "### Como ver os resultados???"
   ]
  },
  {
   "cell_type": "code",
   "execution_count": null,
   "id": "8b78156b",
   "metadata": {},
   "outputs": [],
   "source": [
    "from waternet.wnvisualizer import WNVisualizer"
   ]
  },
  {
   "cell_type": "code",
   "execution_count": null,
   "id": "b6b59e48-2c30-4ae3-b92e-a70030acba17",
   "metadata": {},
   "outputs": [],
   "source": [
    "learner = unet_learner(\n",
    "    dls, arch=resnet18, pretrained=False, normalize=False, n_in=6, n_out=3, loss_func=CrossEntropyLossFlat(axis=1)\n",
    ")\n",
    "learner.load('Resnet18-6chnls-trained')\n",
    "model = learner.cpu()"
   ]
  },
  {
   "cell_type": "code",
   "execution_count": null,
   "id": "9339b291-7ace-4ebd-863a-a409ec72b0b5",
   "metadata": {},
   "outputs": [],
   "source": [
    "visu = WNVisualizer(dls.valid, learner)"
   ]
  },
  {
   "cell_type": "code",
   "execution_count": null,
   "id": "2baeb490-5f8e-4e27-ba1d-dabf41210a95",
   "metadata": {},
   "outputs": [],
   "source": [
    "visu.predict_item(0)['item'].shape"
   ]
  },
  {
   "cell_type": "code",
   "execution_count": null,
   "id": "f52d9820-df1d-45e3-91c6-06d30f17c30e",
   "metadata": {},
   "outputs": [],
   "source": [
    "visu.show_pred(800)"
   ]
  },
  {
   "cell_type": "code",
   "execution_count": null,
   "id": "ce509054-fd0d-4f1d-925b-133381177c35",
   "metadata": {},
   "outputs": [],
   "source": [
    "dls.valid.dataset.loaded_status"
   ]
  },
  {
   "cell_type": "code",
   "execution_count": null,
   "id": "151f4772-ddf8-45ef-b253-9f3c0a9eb49b",
   "metadata": {},
   "outputs": [],
   "source": []
  }
 ],
 "metadata": {
  "kernelspec": {
   "display_name": "Python 3 (ipykernel)",
   "language": "python",
   "name": "python3"
  },
  "language_info": {
   "codemirror_mode": {
    "name": "ipython",
    "version": 3
   },
   "file_extension": ".py",
   "mimetype": "text/x-python",
   "name": "python",
   "nbconvert_exporter": "python",
   "pygments_lexer": "ipython3",
   "version": "3.10.6"
  },
  "vscode": {
   "interpreter": {
    "hash": "b8d564a5e78fa920f6d109e3b6389da476a9ea846c62606ff1aca0006ea12436"
   }
  }
 },
 "nbformat": 4,
 "nbformat_minor": 5
}
